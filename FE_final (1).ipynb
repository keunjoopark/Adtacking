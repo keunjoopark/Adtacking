{
  "nbformat": 4,
  "nbformat_minor": 0,
  "metadata": {
    "colab": {
      "name": "FE_final.ipynb",
      "version": "0.3.2",
      "provenance": [],
      "collapsed_sections": [
        "GneL1ZxALpPz"
      ]
    },
    "kernelspec": {
      "name": "python3",
      "display_name": "Python 3"
    },
    "accelerator": "GPU"
  },
  "cells": [
    {
      "metadata": {
        "id": "U7PgrzARMB7Q",
        "colab_type": "text"
      },
      "cell_type": "markdown",
      "source": [
        "#1. Load the data"
      ]
    },
    {
      "metadata": {
        "id": "GOS41m69u1kU",
        "colab_type": "code",
        "outputId": "3346397a-0855-44ef-ddb1-26bea353c2b5",
        "colab": {
          "base_uri": "https://localhost:8080/",
          "height": 54
        }
      },
      "cell_type": "code",
      "source": [
        "# Load the Drive helper and mount\n",
        "from google.colab import drive\n",
        "\n",
        "# This will prompt for authorization.\n",
        "drive.mount('/content/drive')"
      ],
      "execution_count": 0,
      "outputs": [
        {
          "output_type": "stream",
          "text": [
            "Drive already mounted at /content/drive; to attempt to forcibly remount, call drive.mount(\"/content/drive\", force_remount=True).\n"
          ],
          "name": "stdout"
        }
      ]
    },
    {
      "metadata": {
        "id": "vSObq73Hu6Vf",
        "colab_type": "code",
        "outputId": "33b762ef-928d-405f-a987-c0948019589d",
        "colab": {
          "base_uri": "https://localhost:8080/",
          "height": 88
        }
      },
      "cell_type": "code",
      "source": [
        "!ls \"/content/drive/My Drive/click/data\""
      ],
      "execution_count": 0,
      "outputs": [
        {
          "output_type": "stream",
          "text": [
            " click_id.csv\t\t sub_lgb.csv\t       train.csv\n",
            "'Copy of sub_lgb.csv'\t test.csv\t       train_sample.csv\n",
            " sample_submission.csv\t test_supplement.csv   Untitled0.ipynb\n"
          ],
          "name": "stdout"
        }
      ]
    },
    {
      "metadata": {
        "id": "4nHU2BGUvXx1",
        "colab_type": "code",
        "colab": {}
      },
      "cell_type": "code",
      "source": [
        "import gc\n",
        "import numpy as np\n",
        "import pandas as pd\n",
        "\n",
        "import matplotlib.pyplot as plt\n",
        "import seaborn as sns\n",
        "%matplotlib inline"
      ],
      "execution_count": 0,
      "outputs": []
    },
    {
      "metadata": {
        "id": "9KOoxktSvaL4",
        "colab_type": "code",
        "colab": {}
      },
      "cell_type": "code",
      "source": [
        "dtypes = {\n",
        "        'ip'            : 'uint16',\n",
        "        'app'           : 'uint16',\n",
        "        'device'        : 'uint16',\n",
        "        'os'            : 'uint16',\n",
        "        'channel'       : 'uint16',\n",
        "        'is_attributed' : 'uint8',\n",
        "        'click_id'      : 'uint32' # note that click_id is only in test data, not training data\n",
        "        }"
      ],
      "execution_count": 0,
      "outputs": []
    },
    {
      "metadata": {
        "id": "hOku-rWDvdvv",
        "colab_type": "code",
        "colab": {}
      },
      "cell_type": "code",
      "source": [
        "train = pd.read_csv('/content/drive/My Drive/click/data/train.csv',  nrows=2000000, parse_dates=['click_time'], \n",
        "                    usecols=['ip', 'app', 'device', 'os', 'channel', 'click_time', 'is_attributed'],\n",
        "                    dtype=dtypes)\n",
        "test = pd.read_csv('/content/drive/My Drive/click/data/test.csv', parse_dates=['click_time'], \n",
        "                       usecols=['ip', 'app', 'device', 'os', 'channel', 'click_time', 'click_id'],\n",
        "                      dtype=dtypes)"
      ],
      "execution_count": 0,
      "outputs": []
    },
    {
      "metadata": {
        "id": "FmOye-Jv_xj3",
        "colab_type": "text"
      },
      "cell_type": "markdown",
      "source": [
        "# 2. Feature Engineering"
      ]
    },
    {
      "metadata": {
        "id": "BordsaZlwsAy",
        "colab_type": "code",
        "outputId": "c3a235be-5fab-4b60-edba-66c4bf8b2fb7",
        "colab": {
          "base_uri": "https://localhost:8080/",
          "height": 34
        }
      },
      "cell_type": "code",
      "source": [
        "def datetimefeatures(df):\n",
        "  df['click_time'] = pd.to_datetime(df['click_time'])\n",
        "  df['hour'] = df['click_time'].dt.hour.astype('uint16')\n",
        "  df['minute'] = df['click_time'].dt.minute.astype('uint16')\n",
        "  df['second'] = df['click_time'].dt.second.astype('uint16')\n",
        "  df['day'] = df['click_time'].dt.day.astype('uint16')\n",
        "  df['weekday'] = df['click_time'].dt.weekday.astype('uint16')\n",
        "  df['dayofyear'] = df['click_time'].dt.dayofyear.astype('uint16')\n",
        "  df['month'] = df['click_time'].dt.month.astype('uint16')\n",
        "  return df\n",
        "\n",
        "train = datetimefeatures(train)\n",
        "test = datetimefeatures(test)\n",
        "\n",
        "print(train.shape)"
      ],
      "execution_count": 0,
      "outputs": [
        {
          "output_type": "stream",
          "text": [
            "(2000000, 14)\n"
          ],
          "name": "stdout"
        }
      ]
    },
    {
      "metadata": {
        "id": "hVfTWY7BoCqY",
        "colab_type": "code",
        "outputId": "d7a2a462-af9f-4591-8284-bedf66bdffa0",
        "colab": {
          "base_uri": "https://localhost:8080/",
          "height": 34
        }
      },
      "cell_type": "code",
      "source": [
        "def clickhistory(df):\n",
        "  click_history ={\n",
        "\n",
        "      'identical_clicks': ['ip', 'app', 'device', 'os', 'channel'],\n",
        "      'app_clicks': ['ip', 'app']\n",
        "  }\n",
        "\n",
        "  for c, s in click_history.items():\n",
        "     # Clicks in the past\n",
        "      df['prev_'+c] = df. \\\n",
        "          groupby(s). \\\n",
        "          cumcount(). \\\n",
        "          rename('prev_'+c)\n",
        "\n",
        "      # Clicks in the future\n",
        "      df['future_'+c] = df.iloc[::-1]. \\\n",
        "          groupby(s). \\\n",
        "          cumcount(). \\\n",
        "          rename('future_'+c).iloc[::-1]\n",
        "      return df\n",
        "    \n",
        "train = clickhistory(train)\n",
        "test = clickhistory(test)\n",
        "\n",
        "print(train.shape)"
      ],
      "execution_count": 0,
      "outputs": [
        {
          "output_type": "stream",
          "text": [
            "(2000000, 16)\n"
          ],
          "name": "stdout"
        }
      ]
    },
    {
      "metadata": {
        "id": "Wsp-PubdMOZm",
        "colab_type": "code",
        "outputId": "a3828eac-4a05-43c6-a079-4e974632a247",
        "colab": {
          "base_uri": "https://localhost:8080/",
          "height": 136
        }
      },
      "cell_type": "code",
      "source": [
        "group = [\n",
        "    # Count Features\n",
        "    ############################################################\n",
        "    \n",
        "    # Count, for ip-app\n",
        "    {'groupby': ['ip', 'app'], 'select': 'channel', 'agg': 'count'},\n",
        "    # Count, for ip-app-os\n",
        "    {'groupby': ['ip', 'app', 'os'], 'select': 'channel', 'agg': 'count'},\n",
        "     # Count, for ip-app-device\n",
        "    {'groupby': ['ip', 'app', 'device'], 'select': 'channel', 'agg': 'count'},\n",
        "    # Count, for ip-day-hour\n",
        "    {'groupby': ['ip','day','hour'], 'select': 'channel', 'agg': 'count'},\n",
        "    # Count, for ip-app-day-hour\n",
        "    {'groupby': ['ip','app','day','hour'], 'select': 'channel', 'agg': 'count'},\n",
        "    # Count, for ip-app-device-day-hour\n",
        "    {'groupby': ['ip','app', 'device', 'day','hour'], 'select': 'channel', 'agg': 'count'},\n",
        "    # Popularity of app / channel \n",
        "    {'groupby': ['app'], 'select': 'channel', 'agg': 'count'},\n",
        "    {'groupby': ['channel'], 'select': 'app', 'agg': 'count'},\n",
        "    ############################################################\n",
        "    \n",
        "    # Variance Features\n",
        "    ############################################################\n",
        "    # Variance in day, for ip-app-channel\n",
        "    {'groupby': ['ip','app','channel'], 'select': 'day', 'agg': 'var'},\n",
        "    # Variance in day, for ip-app-device\n",
        "    {'groupby': ['ip','app','device'], 'select': 'day', 'agg': 'var'},\n",
        "    # Variance in day, for ip-app-os\n",
        "    {'groupby': ['ip','app','os'], 'select': 'day', 'agg': 'var'},\n",
        "    ############################################################\n",
        "    \n",
        "    # Mean Features\n",
        "    ############################################################\n",
        "    # Mean hour, for ip-app-channel\n",
        "    {'groupby': ['ip','app','channel'], 'select': 'hour', 'agg': 'mean'}, \n",
        "    ############################################################\n",
        "    \n",
        "    # Nunique Features\n",
        "    ############################################################\n",
        "    {'groupby': ['ip'], 'select': 'channel', 'agg': 'nunique'}, \n",
        "    {'groupby': ['ip'], 'select': 'app', 'agg': 'nunique'}, \n",
        "    {'groupby': ['ip','day'], 'select': 'hour', 'agg': 'nunique'}, \n",
        "    {'groupby': ['ip','app'], 'select': 'os', 'agg': 'nunique'}, \n",
        "    {'groupby': ['ip'], 'select': 'device', 'agg': 'nunique'}, \n",
        "    {'groupby': ['app'], 'select': 'channel', 'agg': 'nunique'}, \n",
        "    {'groupby': ['ip', 'device', 'os'], 'select': 'app', 'agg': 'nunique'}, \n",
        "    ############################################################\n",
        "    \n",
        "    # Cumcount Features\n",
        "    ############################################################\n",
        "    #'groupby': ['ip'], 'select': 'os', 'agg': 'cumcount', 'type': 'uint32'}, \n",
        "    #{'groupby': ['ip','device','os'], 'select': 'app', 'agg': 'cumcount', 'type': 'uint32'}\n",
        "    ############################################################\n",
        "    \n",
        "]\n",
        "\n",
        "# Apply all the groupby transformations\n",
        "for spec in group:\n",
        "    print(f\"Grouping by {spec['groupby']}, and aggregating {spec['select']} with {spec['agg']}\")\n",
        "    \n",
        "    # Unique list of features to select\n",
        "    all_features = list(set(spec['groupby'] + [spec['select']]))\n",
        "    # Name of new feature\n",
        "    new_feature = '{}_{}_{}'.format('_'.join(spec['groupby']), spec['agg'], spec['select'])\n",
        "    # Perform the groupby\n",
        "    gp = test[all_features]. \\\n",
        "        groupby(spec['groupby'])[spec['select']]. \\\n",
        "        agg(spec['agg']). \\\n",
        "        reset_index(). \\\n",
        "        rename(index=str, columns={spec['select']: new_feature})\n",
        "     # Merge back to X_train\n",
        "    #train = train.merge(gp, on=spec['groupby'], how='left')\n",
        "    test = test.merge(gp, on=spec['groupby'], how='left')\n",
        "del gp\n",
        "gc.collect()\n",
        "print(\"End\")"
      ],
      "execution_count": 0,
      "outputs": [
        {
          "output_type": "stream",
          "text": [
            "Grouping by ['ip', 'app'], and aggregating channel with count\n",
            "Grouping by ['ip', 'app', 'os'], and aggregating channel with count\n",
            "Grouping by ['ip', 'app', 'device'], and aggregating channel with count\n",
            "Grouping by ['ip', 'day', 'hour'], and aggregating channel with count\n",
            "Grouping by ['ip', 'app', 'day', 'hour'], and aggregating channel with count\n",
            "Grouping by ['ip', 'app', 'device', 'day', 'hour'], and aggregating channel with count\n",
            "Grouping by ['app'], and aggregating channel with count\n"
          ],
          "name": "stdout"
        }
      ]
    },
    {
      "metadata": {
        "id": "UF_o5NsK2wcM",
        "colab_type": "code",
        "outputId": "e89554f2-5e03-4cdc-c117-48fe50290ec3",
        "colab": {
          "base_uri": "https://localhost:8080/",
          "height": 204
        }
      },
      "cell_type": "code",
      "source": [
        "def groupby(df):\n",
        "    group = [\n",
        "        # Count Features\n",
        "        ############################################################\n",
        "        # \n",
        "        # Count, for ip-app\n",
        "        {'groupby': ['ip', 'app'], 'select': 'channel', 'agg': 'count', 'type': 'uint16'},\n",
        "        # Count, for ip-app-os\n",
        "        {'groupby': ['ip', 'app', 'os'], 'select': 'channel', 'agg': 'count', 'type': 'uint16'},\n",
        "         # Count, for ip-app-device\n",
        "        {'groupby': ['ip', 'app', 'device'], 'select': 'channel', 'agg': 'count', 'type': 'uint16'},\n",
        "        # Count, for ip-day-hour\n",
        "        {'groupby': ['ip','day','hour'], 'select': 'channel', 'agg': 'count','type': 'uint16'},\n",
        "        # Count, for ip-app-day-hour\n",
        "        {'groupby': ['ip','app','day','hour'], 'select': 'channel', 'agg': 'count', 'type': 'uint16'},\n",
        "        # Count, for ip-app-device-day-hour\n",
        "        {'groupby': ['ip','app', 'device', 'day','hour'], 'select': 'channel', 'agg': 'count', 'type': 'uint16'},\n",
        "        # Popularity of app / channel \n",
        "        {'groupby': ['app'], 'select': 'channel', 'agg': 'count', 'type': 'uint16'},\n",
        "        {'groupby': ['channel'], 'select': 'app', 'agg': 'count', 'type': 'uint16'},\n",
        "        ############################################################\n",
        "\n",
        "        # Variance Features\n",
        "        ############################################################\n",
        "        # Variance in day, for ip-app-channel\n",
        "        {'groupby': ['ip','app','channel'], 'select': 'day', 'agg': 'var', 'type': 'float32'},\n",
        "        # Variance in day, for ip-app-device\n",
        "        {'groupby': ['ip','app','device'], 'select': 'day', 'agg': 'var', 'type': 'float32'},\n",
        "        # Variance in day, for ip-app-os\n",
        "        {'groupby': ['ip','app','os'], 'select': 'day', 'agg': 'var', 'type': 'float32'},\n",
        "        ############################################################\n",
        "\n",
        "        # Mean Features\n",
        "        ############################################################\n",
        "        # Mean hour, for ip-app-channel\n",
        "        {'groupby': ['ip','app','channel'], 'select': 'hour', 'agg': 'mean', 'type': 'uint16'}, \n",
        "        ############################################################\n",
        "\n",
        "        # Nunique Features\n",
        "        ############################################################\n",
        "        {'groupby': ['ip'], 'select': 'channel', 'agg': 'nunique', 'type': 'uint16'}, \n",
        "        {'groupby': ['ip'], 'select': 'app', 'agg': 'nunique', 'type': 'uint16'}, \n",
        "        {'groupby': ['ip','day'], 'select': 'hour', 'agg': 'nunique', 'type': 'uint16'}, \n",
        "        {'groupby': ['ip','app'], 'select': 'os', 'agg': 'nunique', 'type': 'uint16'}, \n",
        "        {'groupby': ['ip'], 'select': 'device', 'agg': 'nunique', 'type': 'uint16'}, \n",
        "        {'groupby': ['app'], 'select': 'channel', 'agg': 'nunique', 'type': 'uint16'}, \n",
        "        {'groupby': ['ip', 'device', 'os'], 'select': 'app', 'agg': 'nunique', 'type': 'uint16'}, \n",
        "        ############################################################\n",
        "\n",
        "        # Cumcount Features\n",
        "        ############################################################\n",
        "        #{'groupby': ['ip'], 'select': 'os', 'agg': 'cumcount', 'type': 'uint32'}, \n",
        "        #{'groupby': ['ip','device','os'], 'select': 'app', 'agg': 'cumcount', 'type': 'uint32'}\n",
        "        ############################################################\n",
        "\n",
        "    ]\n",
        "\n",
        "    # Apply all the groupby transformations\n",
        "    for spec in group:\n",
        "        print(f\"Grouping by {spec['groupby']}, and aggregating {spec['select']} with {spec['agg']}\")\n",
        "\n",
        "        # Unique list of features to select\n",
        "        all_features = list(set(spec['groupby'] + [spec['select']]))\n",
        "        # Name of new feature\n",
        "        new_feature = '{}_{}_{}'.format('_'.join(spec['groupby']), spec['agg'], spec['select'])\n",
        "        # Perform the groupby\n",
        "        gp = df[all_features]. \\\n",
        "            groupby(spec['groupby'])[spec['select']]. \\\n",
        "            agg(spec['agg']). \\\n",
        "            reset_index(). \\\n",
        "            rename(index=str, columns={spec['select']: new_feature}).astype(spec['type'])\n",
        "         # Merge back to X_train\n",
        "        df = df.merge(gp, on=spec['groupby'], how='left')\n",
        "\n",
        "    print(\"End\")\n",
        "    return df\n",
        "  \n",
        "#train = groupby(train)\n",
        "test=groupby(test)\n",
        "print(train.shape)"
      ],
      "execution_count": 0,
      "outputs": [
        {
          "output_type": "stream",
          "text": [
            "Grouping by ['ip', 'app'], and aggregating channel with count\n",
            "Grouping by ['ip', 'app', 'os'], and aggregating channel with count\n",
            "Grouping by ['ip', 'app', 'device'], and aggregating channel with count\n",
            "Grouping by ['ip', 'day', 'hour'], and aggregating channel with count\n",
            "Grouping by ['ip', 'app', 'day', 'hour'], and aggregating channel with count\n",
            "Grouping by ['ip', 'app', 'device', 'day', 'hour'], and aggregating channel with count\n",
            "Grouping by ['app'], and aggregating channel with count\n",
            "Grouping by ['channel'], and aggregating app with count\n",
            "Grouping by ['ip', 'app', 'channel'], and aggregating hour with mean\n",
            "Grouping by ['ip'], and aggregating channel with nunique\n",
            "Grouping by ['ip'], and aggregating app with nunique\n"
          ],
          "name": "stdout"
        }
      ]
    },
    {
      "metadata": {
        "id": "xuCY0qGa4CWl",
        "colab_type": "code",
        "outputId": "8963be7d-4489-4ca1-b808-b7cbfc8baa16",
        "colab": {
          "base_uri": "https://localhost:8080/",
          "height": 612
        }
      },
      "cell_type": "code",
      "source": [
        "list(train.columns.values)"
      ],
      "execution_count": 0,
      "outputs": [
        {
          "output_type": "execute_result",
          "data": {
            "text/plain": [
              "['ip',\n",
              " 'app',\n",
              " 'device',\n",
              " 'os',\n",
              " 'channel',\n",
              " 'click_time',\n",
              " 'is_attributed',\n",
              " 'hour',\n",
              " 'minute',\n",
              " 'second',\n",
              " 'day',\n",
              " 'weekday',\n",
              " 'dayofyear',\n",
              " 'month',\n",
              " 'prev_identical_clicks',\n",
              " 'future_identical_clicks',\n",
              " 'ip_app_count_channel',\n",
              " 'ip_app_os_count_channel',\n",
              " 'ip_app_device_count_channel',\n",
              " 'ip_day_hour_count_channel',\n",
              " 'ip_app_day_hour_count_channel',\n",
              " 'ip_app_device_day_hour_count_channel',\n",
              " 'app_count_channel',\n",
              " 'channel_count_app',\n",
              " 'ip_app_channel_var_day',\n",
              " 'ip_app_device_var_day',\n",
              " 'ip_app_os_var_day',\n",
              " 'ip_app_channel_mean_hour',\n",
              " 'ip_nunique_channel',\n",
              " 'ip_nunique_app',\n",
              " 'ip_day_nunique_hour',\n",
              " 'ip_app_nunique_os',\n",
              " 'ip_nunique_device',\n",
              " 'app_nunique_channel',\n",
              " 'ip_device_os_nunique_app']"
            ]
          },
          "metadata": {
            "tags": []
          },
          "execution_count": 10
        }
      ]
    },
    {
      "metadata": {
        "id": "T_ZulqSP_4P-",
        "colab_type": "text"
      },
      "cell_type": "markdown",
      "source": [
        "#3. Modeling"
      ]
    },
    {
      "metadata": {
        "id": "jxDOomi1LftS",
        "colab_type": "text"
      },
      "cell_type": "markdown",
      "source": [
        "##3.1 XGBoost\n",
        "\n",
        "* max_depth (int) – Maximum tree depth for base learners.\n",
        "* learning_rate (float) – Boosting learning rate (xgb’s “eta”)\n",
        "* n_estimators (int) – Number of boosted trees to fit.\n",
        "* silent (boolean) – Whether to print messages while running boosting.\n",
        "* objective (string or callable) – Specify the learning task and the corresponding  learning objective or a custom objective function to be used (see note below).\n",
        "* booster (string) – Specify which booster to use: gbtree, gblinear or dart.\n",
        "* nthread (int) – Number of parallel threads used to run xgboost. (Deprecated, please use n_jobs)\n",
        "* n_jobs (int) – Number of parallel threads used to run xgboost. (replaces nthread)\n",
        "* gamma (float) – Minimum loss reduction required to make a further partition on a leaf node of the tree.\n",
        "* min_child_weight (int) – Minimum sum of instance weight(hessian) needed in a child.\n",
        "* max_delta_step (int) – Maximum delta step we allow each tree’s weight estimation to be.\n",
        "* subsample (float) – Subsample ratio of the training instance.\n",
        "* colsample_bytree (float) – Subsample ratio of columns when constructing each tree.\n",
        "* colsample_bylevel (float) – Subsample ratio of columns for each split, in each level.\n",
        "* reg_alpha (float (xgb's alpha)) – L1 regularization term on weights\n",
        "* reg_lambda (float (xgb's lambda)) – L2 regularization term on weights\n",
        "* scale_pos_weight (float) – Balancing of positive and negative weights.\n",
        "* base_score – The initial prediction score of all instances, global bias.\n",
        "* seed (int) – Random number seed. (Deprecated, please use random_state)\n",
        "* random_state (int) – Random number seed. (replaces seed)\n",
        "* missing (float, optional) – Value in the data which needs to be present as a missing value. If None, defaults to np.nan.\n",
        "* importance_type (string, default \"gain\") – The feature importance type for the feature_importances_ property: either “gain”, “weight”, “cover”, “total_gain” or “total_cover”."
      ]
    },
    {
      "metadata": {
        "id": "GneL1ZxALpPz",
        "colab_type": "text"
      },
      "cell_type": "markdown",
      "source": [
        "### 3.1.1 Feature Selection"
      ]
    },
    {
      "metadata": {
        "id": "xVydJrmyvpzL",
        "colab_type": "code",
        "colab": {}
      },
      "cell_type": "code",
      "source": [
        "# Preare the data to be read\n",
        "features0 = ['ip','app','device','os','channel']\n",
        "features1 = features0 + ['hour','minute','second','day','weekday','dayofyear','month']\n",
        "features2 = features1 + ['prev_identical_clicks','future_identical_clicks']\n",
        "features3 = features2 + ['ip_app_count_channel',\n",
        " 'ip_app_os_count_channel',\n",
        " 'ip_app_device_count_channel',\n",
        " 'ip_day_hour_count_channel',\n",
        " 'ip_app_day_hour_count_channel',\n",
        " 'ip_app_device_day_hour_count_channel',\n",
        " 'app_count_channel',\n",
        " 'channel_count_app',\n",
        " 'ip_app_channel_var_day',\n",
        " 'ip_app_device_var_day',\n",
        " 'ip_app_os_var_day',\n",
        " 'ip_app_channel_mean_hour',\n",
        " 'ip_nunique_channel',\n",
        " 'ip_nunique_app',\n",
        " 'ip_day_nunique_hour',\n",
        " 'ip_app_nunique_os',\n",
        " 'ip_nunique_device',\n",
        " 'app_nunique_channel',\n",
        " 'ip_device_os_nunique_app']\n",
        "target =  'is_attributed'"
      ],
      "execution_count": 0,
      "outputs": []
    },
    {
      "metadata": {
        "id": "7bGKEjNZB6RF",
        "colab_type": "code",
        "colab": {}
      },
      "cell_type": "code",
      "source": [
        "train['app']           = train['app'].astype('uint16')\n",
        "train['channel']       = train['channel'].astype('uint16')\n",
        "train['device']        = train['device'].astype('uint16')\n",
        "train['ip']            = train['ip'].astype('uint32')\n",
        "train['os']            = train['os'].astype('uint16')"
      ],
      "execution_count": 0,
      "outputs": []
    },
    {
      "metadata": {
        "id": "mBFYCr3A0BWk",
        "colab_type": "code",
        "colab": {}
      },
      "cell_type": "code",
      "source": [
        "from sklearn.model_selection import train_test_split\n",
        "X_train, X_test, y_train, y_test = train_test_split(train[features0], train[target], test_size=0.25, random_state=42)"
      ],
      "execution_count": 0,
      "outputs": []
    },
    {
      "metadata": {
        "id": "kyWhF02B0RH8",
        "colab_type": "code",
        "outputId": "72e57e94-d4f5-4fda-fbd3-86a8d3fc98f3",
        "colab": {
          "base_uri": "https://localhost:8080/",
          "height": 35
        }
      },
      "cell_type": "code",
      "source": [
        "print(X_train.shape, X_test.shape, y_train.shape, y_test.shape)"
      ],
      "execution_count": 0,
      "outputs": [
        {
          "output_type": "stream",
          "text": [
            "(1500000, 5) (500000, 5) (1500000,) (500000,)\n"
          ],
          "name": "stdout"
        }
      ]
    },
    {
      "metadata": {
        "id": "iX96X7KlpGBX",
        "colab_type": "code",
        "colab": {}
      },
      "cell_type": "code",
      "source": [
        "import xgboost as xgb\n",
        "from xgboost.sklearn import XGBClassifier\n",
        "#from sklearn import cross_validation, metrics   #Additional scklearn functions\n",
        "#from sklearn.grid_search import GridSearchCV   #Perforing grid search"
      ],
      "execution_count": 0,
      "outputs": []
    },
    {
      "metadata": {
        "id": "ocS0_HYPps8-",
        "colab_type": "text"
      },
      "cell_type": "markdown",
      "source": [
        "xgb – this is the direct xgboost library. I will use a specific function “cv” from this library\n",
        "XGBClassifier – this is an sklearn wrapper for XGBoost. This allows us to use sklearn’s Grid Search with parallel processing in the same way we did for GBM"
      ]
    },
    {
      "metadata": {
        "id": "nhgtmLmlpoI_",
        "colab_type": "code",
        "outputId": "1ae59898-916c-4db1-8b0a-78adc30289d6",
        "colab": {
          "base_uri": "https://localhost:8080/",
          "height": 126
        }
      },
      "cell_type": "code",
      "source": [
        "clf0 = XGBClassifier()\n",
        "clf0.fit(X_train, y_train)"
      ],
      "execution_count": 0,
      "outputs": [
        {
          "output_type": "execute_result",
          "data": {
            "text/plain": [
              "XGBClassifier(base_score=0.5, booster='gbtree', colsample_bylevel=1,\n",
              "       colsample_bytree=1, gamma=0, learning_rate=0.1, max_delta_step=0,\n",
              "       max_depth=3, min_child_weight=1, missing=None, n_estimators=100,\n",
              "       n_jobs=1, nthread=None, objective='binary:logistic', random_state=0,\n",
              "       reg_alpha=0, reg_lambda=1, scale_pos_weight=1, seed=None,\n",
              "       silent=True, subsample=1)"
            ]
          },
          "metadata": {
            "tags": []
          },
          "execution_count": 39
        }
      ]
    },
    {
      "metadata": {
        "id": "HEPoMOtyyxlu",
        "colab_type": "code",
        "outputId": "a0b3afda-b71f-40ab-ff13-190d543a8a4b",
        "colab": {
          "base_uri": "https://localhost:8080/",
          "height": 35
        }
      },
      "cell_type": "code",
      "source": [
        "clf0.score(X_train, y_train)"
      ],
      "execution_count": 0,
      "outputs": [
        {
          "output_type": "execute_result",
          "data": {
            "text/plain": [
              "0.99851"
            ]
          },
          "metadata": {
            "tags": []
          },
          "execution_count": 40
        }
      ]
    },
    {
      "metadata": {
        "id": "AdLDZXk31bF3",
        "colab_type": "code",
        "outputId": "dc7605dc-b13a-40aa-8904-cb0c3decc7f7",
        "colab": {
          "base_uri": "https://localhost:8080/",
          "height": 35
        }
      },
      "cell_type": "code",
      "source": [
        "clf0.score(X_test, y_test)"
      ],
      "execution_count": 0,
      "outputs": [
        {
          "output_type": "execute_result",
          "data": {
            "text/plain": [
              "0.998588"
            ]
          },
          "metadata": {
            "tags": []
          },
          "execution_count": 42
        }
      ]
    },
    {
      "metadata": {
        "id": "2Cfi5dH0qDLg",
        "colab_type": "code",
        "outputId": "5e068004-2290-4851-962e-7eba581f225d",
        "colab": {
          "base_uri": "https://localhost:8080/",
          "height": 199
        }
      },
      "cell_type": "code",
      "source": [
        "prd0 = clf0.predict_proba(X_test)\n",
        "prd0[:10]"
      ],
      "execution_count": 0,
      "outputs": [
        {
          "output_type": "execute_result",
          "data": {
            "text/plain": [
              "array([[9.9930501e-01, 6.9499266e-04],\n",
              "       [9.9908251e-01, 9.1752328e-04],\n",
              "       [9.9921864e-01, 7.8138470e-04],\n",
              "       [9.9860632e-01, 1.3936874e-03],\n",
              "       [9.9871248e-01, 1.2875311e-03],\n",
              "       [9.9925417e-01, 7.4583775e-04],\n",
              "       [9.9942917e-01, 5.7082390e-04],\n",
              "       [9.9912637e-01, 8.7363069e-04],\n",
              "       [9.9952203e-01, 4.7799328e-04],\n",
              "       [9.9908251e-01, 9.1752328e-04]], dtype=float32)"
            ]
          },
          "metadata": {
            "tags": []
          },
          "execution_count": 43
        }
      ]
    },
    {
      "metadata": {
        "id": "L8w_wAn0uMzo",
        "colab_type": "code",
        "outputId": "79c6dc75-8c5a-442f-c2ee-ba1cea616e56",
        "colab": {
          "base_uri": "https://localhost:8080/",
          "height": 35
        }
      },
      "cell_type": "code",
      "source": [
        "from sklearn import metrics\n",
        "\n",
        "from sklearn import preprocessing\n",
        "roc0 = metrics.roc_auc_score(y_test, prd0[:, 1])\n",
        "print(\"AUC: %.2f%%\" % (roc0 * 100.0))"
      ],
      "execution_count": 0,
      "outputs": [
        {
          "output_type": "stream",
          "text": [
            "AUC: 91.75%\n"
          ],
          "name": "stdout"
        }
      ]
    },
    {
      "metadata": {
        "id": "kA1llzl816TG",
        "colab_type": "code",
        "outputId": "725a4187-ef48-4a5e-accc-a7946b19cc83",
        "colab": {
          "base_uri": "https://localhost:8080/",
          "height": 528
        }
      },
      "cell_type": "code",
      "source": [
        "\n",
        "\n",
        "# Get xgBoost importances\n",
        "importance_dict = {}\n",
        "for import_type in ['weight', 'gain', 'cover']:\n",
        "    importance_dict['xgBoost-'+import_type] = clf0.get_booster().get_score(importance_type=import_type)\n",
        "    \n",
        "# MinMax scale all importances\n",
        "importance_df = pd.DataFrame(importance_dict).fillna(0)\n",
        "importance_df = pd.DataFrame(\n",
        "    preprocessing.MinMaxScaler().fit_transform(importance_df),\n",
        "    columns=importance_df.columns,\n",
        "    index=importance_df.index\n",
        ")\n",
        "\n",
        "# Create mean column\n",
        "importance_df['mean'] = importance_df.mean(axis=1)\n",
        "\n",
        "# Plot the feature importances\n",
        "importance_df.sort_values('mean').plot(kind='bar', figsize=(20, 7))"
      ],
      "execution_count": 0,
      "outputs": [
        {
          "output_type": "stream",
          "text": [
            "/usr/local/lib/python3.6/dist-packages/sklearn/preprocessing/data.py:323: DataConversionWarning: Data with input dtype int64, float64 were all converted to float64 by MinMaxScaler.\n",
            "  return self.partial_fit(X, y)\n"
          ],
          "name": "stderr"
        },
        {
          "output_type": "execute_result",
          "data": {
            "text/plain": [
              "<matplotlib.axes._subplots.AxesSubplot at 0x7f569e7ab400>"
            ]
          },
          "metadata": {
            "tags": []
          },
          "execution_count": 46
        },
        {
          "output_type": "display_data",
          "data": {
            "image/png": "[encoded data removed]",
            "text/plain": [
              "<matplotlib.figure.Figure at 0x7f56a565c8d0>"
            ]
          },
          "metadata": {
            "tags": []
          }
        }
      ]
    },
    {
      "metadata": {
        "id": "RcXzLs_F2XVo",
        "colab_type": "code",
        "outputId": "235084f5-e09b-40f9-fc2e-d6b9d820ea12",
        "colab": {
          "base_uri": "https://localhost:8080/",
          "height": 565
        }
      },
      "cell_type": "code",
      "source": [
        "X_train, X_test, y_train, y_test = train_test_split(train[features1], train[target], test_size=0.25, random_state=42)\n",
        "print(X_train.shape, X_test.shape, y_train.shape, y_test.shape)\n",
        "\n",
        "clf1 = XGBClassifier()\n",
        "clf1.fit(X_train, y_train)\n",
        "\n",
        "prd1 = clf1.predict_proba(X_test)\n",
        "\n",
        "roc1 = metrics.roc_auc_score(y_test, prd1[:, 1])\n",
        "print(\"AUC: %.2f%%\" % (roc1 * 100.0))\n",
        "\n",
        "from sklearn import preprocessing\n",
        "\n",
        "# Get xgBoost importances\n",
        "importance_dict = {}\n",
        "for import_type in ['weight', 'gain', 'cover']:\n",
        "    importance_dict['xgBoost-'+import_type] = clf1.get_booster().get_score(importance_type=import_type)\n",
        "    \n",
        "# MinMax scale all importances\n",
        "importance_df = pd.DataFrame(importance_dict).fillna(0)\n",
        "importance_df = pd.DataFrame(\n",
        "    preprocessing.MinMaxScaler().fit_transform(importance_df),\n",
        "    columns=importance_df.columns,\n",
        "    index=importance_df.index\n",
        ")\n",
        "\n",
        "# Create mean column\n",
        "importance_df['mean'] = importance_df.mean(axis=1)\n",
        "\n",
        "# Plot the feature importances\n",
        "importance_df.sort_values('mean').plot(kind='bar', figsize=(20, 7))"
      ],
      "execution_count": 0,
      "outputs": [
        {
          "output_type": "stream",
          "text": [
            "(1500000, 12) (500000, 12) (1500000,) (500000,)\n",
            "AUC: 91.88%\n"
          ],
          "name": "stdout"
        },
        {
          "output_type": "stream",
          "text": [
            "/usr/local/lib/python3.6/dist-packages/sklearn/preprocessing/data.py:323: DataConversionWarning: Data with input dtype int64, float64 were all converted to float64 by MinMaxScaler.\n",
            "  return self.partial_fit(X, y)\n"
          ],
          "name": "stderr"
        },
        {
          "output_type": "execute_result",
          "data": {
            "text/plain": [
              "<matplotlib.axes._subplots.AxesSubplot at 0x7f568e10ec18>"
            ]
          },
          "metadata": {
            "tags": []
          },
          "execution_count": 48
        },
        {
          "output_type": "display_data",
          "data": {
            "image/png": "[encoded data removed]",
            "text/plain": [
              "<matplotlib.figure.Figure at 0x7f568e10e5f8>"
            ]
          },
          "metadata": {
            "tags": []
          }
        }
      ]
    },
    {
      "metadata": {
        "id": "1SJSchlBERyU",
        "colab_type": "code",
        "outputId": "ae76fe51-bc1f-4ceb-bb45-b697f2ed2cfc",
        "colab": {
          "base_uri": "https://localhost:8080/",
          "height": 163
        }
      },
      "cell_type": "code",
      "source": [
        "print(importance_df.head(12))"
      ],
      "execution_count": 0,
      "outputs": [
        {
          "output_type": "stream",
          "text": [
            "         xgBoost-cover  xgBoost-gain  xgBoost-weight      mean\n",
            "app           0.264566      0.911480        1.000000  0.725349\n",
            "channel       0.021804      0.772934        0.549020  0.447919\n",
            "device        1.000000      1.000000        0.287582  0.762527\n",
            "ip            0.009544      0.057216        0.058824  0.041861\n",
            "minute        0.002906      0.046679        0.042484  0.030690\n",
            "os            0.647030      0.145654        0.245098  0.345927\n",
            "second        0.000000      0.000000        0.000000  0.000000\n"
          ],
          "name": "stdout"
        }
      ]
    },
    {
      "metadata": {
        "id": "vPZvdH7l2OhK",
        "colab_type": "code",
        "outputId": "0d394d74-aa1e-4f1d-d1db-e0886afabc6f",
        "colab": {
          "base_uri": "https://localhost:8080/",
          "height": 628
        }
      },
      "cell_type": "code",
      "source": [
        "X_train, X_test, y_train, y_test = train_test_split(train[features2], train[target], test_size=0.25, random_state=42)\n",
        "print(X_train.shape, X_test.shape, y_train.shape, y_test.shape)\n",
        "clf2 = XGBClassifier()\n",
        "clf2.fit(X_train, y_train)\n",
        "\n",
        "prd2 = clf2.predict_proba(X_test)\n",
        "\n",
        "roc2 = metrics.roc_auc_score(y_test, prd2[:, 1])\n",
        "print(\"AUC: %.2f%%\" % (roc2 * 100.0))\n",
        "\n",
        "from sklearn import preprocessing\n",
        "\n",
        "# Get xgBoost importances\n",
        "importance_dict2 = {}\n",
        "for import_type2 in ['weight', 'gain', 'cover']:\n",
        "    importance_dict2['xgBoost-'+import_type2] = clf2.get_booster().get_score(importance_type=import_type2)\n",
        "    \n",
        "# MinMax scale all importances\n",
        "importance_df2 = pd.DataFrame(importance_dict2).fillna(0)\n",
        "importance_df2 = pd.DataFrame(\n",
        "    preprocessing.MinMaxScaler().fit_transform(importance_df2),\n",
        "    columns=importance_df2.columns,\n",
        "    index=importance_df2.index\n",
        ")\n",
        "\n",
        "# Create mean column\n",
        "importance_df2['mean'] = importance_df2.mean(axis=1)\n",
        "\n",
        "# Plot the feature importances\n",
        "importance_df2.sort_values('mean').plot(kind='bar', figsize=(20, 7))"
      ],
      "execution_count": 0,
      "outputs": [
        {
          "output_type": "stream",
          "text": [
            "(1500000, 14) (500000, 14) (1500000,) (500000,)\n",
            "AUC: 94.10%\n"
          ],
          "name": "stdout"
        },
        {
          "output_type": "stream",
          "text": [
            "/usr/local/lib/python3.6/dist-packages/sklearn/preprocessing/data.py:323: DataConversionWarning: Data with input dtype int64, float64 were all converted to float64 by MinMaxScaler.\n",
            "  return self.partial_fit(X, y)\n"
          ],
          "name": "stderr"
        },
        {
          "output_type": "execute_result",
          "data": {
            "text/plain": [
              "<matplotlib.axes._subplots.AxesSubplot at 0x7f56a665f550>"
            ]
          },
          "metadata": {
            "tags": []
          },
          "execution_count": 52
        },
        {
          "output_type": "display_data",
          "data": {
            "image/png": "[encoded data removed]",
            "text/plain": [
              "<matplotlib.figure.Figure at 0x7f56a6729ef0>"
            ]
          },
          "metadata": {
            "tags": []
          }
        }
      ]
    },
    {
      "metadata": {
        "id": "Wq-7S4n2CNPs",
        "colab_type": "code",
        "outputId": "f7a60e33-102d-4d21-b26f-bf86fd777ba1",
        "colab": {
          "base_uri": "https://localhost:8080/",
          "height": 54
        }
      },
      "cell_type": "code",
      "source": [
        "#from sklearn.model_selection import train_test_split\n",
        "X_train, X_test, y_train, y_test = train_test_split(train[features3], train[target], test_size=0.25, random_state=42)\n",
        "print(X_train.shape, X_test.shape, y_train.shape, y_test.shape)\n",
        "\n",
        "clf3 = XGBClassifier()\n",
        "clf3.fit(X_train, y_train)\n",
        "\n",
        "prd3 = clf3.predict_proba(X_test)\n",
        "\n",
        "roc3 = metrics.roc_auc_score(y_test, prd3[:, 1])\n",
        "print(\"AUC: %.2f%%\" % (roc3 * 100.0))\n",
        "\n",
        "from sklearn import preprocessing"
      ],
      "execution_count": 0,
      "outputs": [
        {
          "output_type": "stream",
          "text": [
            "(1500000, 33) (500000, 33) (1500000,) (500000,)\n",
            "AUC: 96.19%\n"
          ],
          "name": "stdout"
        }
      ]
    },
    {
      "metadata": {
        "id": "BnbXVo1sG7La",
        "colab_type": "code",
        "outputId": "9fbf269d-555b-4a09-dcd2-4668a2808cc0",
        "colab": {
          "base_uri": "https://localhost:8080/",
          "height": 629
        }
      },
      "cell_type": "code",
      "source": [
        "# Get xgBoost importances\n",
        "importance_dict3 = {}\n",
        "for import_type in ['weight', 'gain', 'cover']:\n",
        "    importance_dict3['xgBoost-'+import_type] = clf3.get_booster().get_score(importance_type=import_type)\n",
        "    \n",
        "# MinMax scale all importances\n",
        "importance_df3 = pd.DataFrame(importance_dict3).fillna(0)\n",
        "importance_df3 = pd.DataFrame(\n",
        "    preprocessing.MinMaxScaler().fit_transform(importance_df3),\n",
        "    columns=importance_df3.columns,\n",
        "    index=importance_df3.index\n",
        ")\n",
        "\n",
        "# Create mean column\n",
        "importance_df3['mean'] = importance_df3.mean(axis=1)\n",
        "\n",
        "# Plot the feature importances\n",
        "importance_df3.sort_values('mean').plot(kind='bar', figsize=(20, 7))"
      ],
      "execution_count": 0,
      "outputs": [
        {
          "output_type": "stream",
          "text": [
            "/usr/local/lib/python3.6/dist-packages/sklearn/preprocessing/data.py:323: DataConversionWarning: Data with input dtype int64, float64 were all converted to float64 by MinMaxScaler.\n",
            "  return self.partial_fit(X, y)\n"
          ],
          "name": "stderr"
        },
        {
          "output_type": "execute_result",
          "data": {
            "text/plain": [
              "<matplotlib.axes._subplots.AxesSubplot at 0x7f5699a30400>"
            ]
          },
          "metadata": {
            "tags": []
          },
          "execution_count": 57
        },
        {
          "output_type": "display_data",
          "data": {
            "image/png": "[encoded data removed]",
            "text/plain": [
              "<matplotlib.figure.Figure at 0x7f5699a369b0>"
            ]
          },
          "metadata": {
            "tags": []
          }
        }
      ]
    },
    {
      "metadata": {
        "id": "KuEEuwnbHKeT",
        "colab_type": "code",
        "outputId": "12462b2f-850c-4d11-aa44-1f9c2973708c",
        "colab": {
          "base_uri": "https://localhost:8080/",
          "height": 417
        }
      },
      "cell_type": "code",
      "source": [
        "print(importance_df['xgBoost-gain'].head(33).sort_values(ascending=False))"
      ],
      "execution_count": 0,
      "outputs": [
        {
          "output_type": "stream",
          "text": [
            "channel_count_app              1.000000\n",
            "app_count_channel              0.978427\n",
            "app                            0.943563\n",
            "app_nunique_channel            0.697268\n",
            "ip_app_nunique_os              0.582294\n",
            "ip_app_count_channel           0.563835\n",
            "ip_device_os_nunique_app       0.367183\n",
            "channel                        0.356478\n",
            "ip_nunique_app                 0.333539\n",
            "ip_nunique_channel             0.322032\n",
            "ip_day_hour_count_channel      0.269368\n",
            "future_identical_clicks        0.248311\n",
            "ip_nunique_device              0.165278\n",
            "os                             0.151844\n",
            "ip_app_channel_var_day         0.141751\n",
            "ip_app_os_count_channel        0.128629\n",
            "device                         0.124900\n",
            "prev_identical_clicks          0.042619\n",
            "ip_app_device_count_channel    0.022053\n",
            "ip                             0.011286\n",
            "minute                         0.000000\n",
            "Name: xgBoost-gain, dtype: float64\n"
          ],
          "name": "stdout"
        }
      ]
    },
    {
      "metadata": {
        "id": "pm7Hn_7AKAIp",
        "colab_type": "code",
        "outputId": "6bf86727-d556-4314-c759-4e30a3da2d34",
        "colab": {
          "base_uri": "https://localhost:8080/",
          "height": 817
        }
      },
      "cell_type": "code",
      "source": [
        "train.info()"
      ],
      "execution_count": 0,
      "outputs": [
        {
          "output_type": "stream",
          "text": [
            "<class 'pandas.core.frame.DataFrame'>\n",
            "Int64Index: 2000000 entries, 0 to 1999999\n",
            "Data columns (total 39 columns):\n",
            "ip                                      uint32\n",
            "app                                     uint16\n",
            "device                                  uint16\n",
            "os                                      uint16\n",
            "channel                                 uint16\n",
            "click_time                              datetime64[ns]\n",
            "is_attributed                           uint8\n",
            "hour                                    uint16\n",
            "minute                                  uint16\n",
            "second                                  uint16\n",
            "day                                     uint16\n",
            "weekday                                 uint16\n",
            "dayofyear                               uint16\n",
            "month                                   uint16\n",
            "prev_identical_clicks                   int64\n",
            "future_identical_clicks                 int64\n",
            "ip_app_count_channel                    uint16\n",
            "ip_app_os_count_channel                 uint16\n",
            "ip_app_device_count_channel             uint16\n",
            "ip_day_hour_count_channel               uint16\n",
            "ip_app_day_hour_count_channel           uint16\n",
            "ip_app_device_day_hour_count_channel    uint16\n",
            "app_count_channel                       uint16\n",
            "channel_count_app                       uint16\n",
            "ip_app_channel_var_day                  float32\n",
            "ip_app_device_var_day                   float32\n",
            "ip_app_os_var_day                       float32\n",
            "ip_app_channel_mean_hour                uint16\n",
            "ip_nunique_channel                      uint16\n",
            "ip_nunique_app                          uint16\n",
            "ip_day_nunique_hour                     uint16\n",
            "ip_app_nunique_os                       uint16\n",
            "ip_nunique_device                       uint16\n",
            "app_nunique_channel                     uint16\n",
            "ip_device_os_nunique_app                uint16\n",
            "ip_nextClick                            float64\n",
            "ip_app_nextClick                        float64\n",
            "ip_channel_nextClick                    float64\n",
            "ip_os_device_nextClick                  float64\n",
            "dtypes: datetime64[ns](1), float32(3), float64(4), int64(2), uint16(27), uint32(1), uint8(1)\n",
            "memory usage: 337.5 MB\n"
          ],
          "name": "stdout"
        }
      ]
    },
    {
      "metadata": {
        "id": "Q41blw7FCyPS",
        "colab_type": "code",
        "outputId": "fc79ac4b-3e25-4ec0-bad0-3e74f8d2db25",
        "colab": {
          "base_uri": "https://localhost:8080/",
          "height": 108
        }
      },
      "cell_type": "code",
      "source": [
        "xgbf = ['channel_count_app',\n",
        "'app_count_channel',\n",
        "'app',                           \n",
        "'app_nunique_channel',          \n",
        "'ip_app_nunique_os',         \n",
        "'ip_app_count_channel',        \n",
        "'ip_device_os_nunique_app',     \n",
        "'channel',                      \n",
        "'ip_nunique_app',                \n",
        "'ip_nunique_channel']"
      ],
      "execution_count": 0,
      "outputs": [
        {
          "output_type": "stream",
          "text": [
            "Exception ignored in: <bound method DMatrix.__del__ of <xgboost.core.DMatrix object at 0x7f56a1a175f8>>\n",
            "Traceback (most recent call last):\n",
            "  File \"/usr/local/lib/python3.6/dist-packages/xgboost/core.py\", line 368, in __del__\n",
            "    if self.handle is not None:\n",
            "AttributeError: 'DMatrix' object has no attribute 'handle'\n"
          ],
          "name": "stderr"
        }
      ]
    },
    {
      "metadata": {
        "id": "SV5CJiVhIFbE",
        "colab_type": "code",
        "outputId": "8836ff91-aac5-4b1a-91e7-bef5fa9d2877",
        "colab": {
          "base_uri": "https://localhost:8080/",
          "height": 35
        }
      },
      "cell_type": "code",
      "source": [
        "X_train, X_test, y_train, y_test = train_test_split(train[xgbf], train[target], test_size=0.25, random_state=42)\n",
        "print(X_train.shape, X_test.shape, y_train.shape, y_test.shape)"
      ],
      "execution_count": 0,
      "outputs": [
        {
          "output_type": "stream",
          "text": [
            "(1500000, 10) (500000, 10) (1500000,) (500000,)\n"
          ],
          "name": "stdout"
        }
      ]
    },
    {
      "metadata": {
        "id": "E-vBpoCOIMME",
        "colab_type": "code",
        "outputId": "9a075835-d26d-4e2c-b3d6-6c34d2ff44a6",
        "colab": {
          "base_uri": "https://localhost:8080/",
          "height": 126
        }
      },
      "cell_type": "code",
      "source": [
        "xgbm = XGBClassifier()\n",
        "xgbm.fit(X_train, y_train)"
      ],
      "execution_count": 0,
      "outputs": [
        {
          "output_type": "execute_result",
          "data": {
            "text/plain": [
              "XGBClassifier(base_score=0.5, booster='gbtree', colsample_bylevel=1,\n",
              "       colsample_bytree=1, gamma=0, learning_rate=0.1, max_delta_step=0,\n",
              "       max_depth=3, min_child_weight=1, missing=None, n_estimators=100,\n",
              "       n_jobs=1, nthread=None, objective='binary:logistic', random_state=0,\n",
              "       reg_alpha=0, reg_lambda=1, scale_pos_weight=1, seed=None,\n",
              "       silent=True, subsample=1)"
            ]
          },
          "metadata": {
            "tags": []
          },
          "execution_count": 70
        }
      ]
    },
    {
      "metadata": {
        "id": "qNZg876VIc5S",
        "colab_type": "code",
        "outputId": "0af6b3ef-cde7-4233-c6f6-1636ab7db18e",
        "colab": {
          "base_uri": "https://localhost:8080/",
          "height": 199
        }
      },
      "cell_type": "code",
      "source": [
        "# make predictions for test data\n",
        "# use predict_proba to compute auc\n",
        "y_pred = xgbm.predict_proba(X_test)\n",
        "y_pred[:10]"
      ],
      "execution_count": 0,
      "outputs": [
        {
          "output_type": "execute_result",
          "data": {
            "text/plain": [
              "array([[9.9946696e-01, 5.3305784e-04],\n",
              "       [9.9970084e-01, 2.9914256e-04],\n",
              "       [9.9952924e-01, 4.7076671e-04],\n",
              "       [9.9969286e-01, 3.0714160e-04],\n",
              "       [9.9934763e-01, 6.5239670e-04],\n",
              "       [9.9958146e-01, 4.1853305e-04],\n",
              "       [9.9976659e-01, 2.3338718e-04],\n",
              "       [9.9966824e-01, 3.3173437e-04],\n",
              "       [9.9976945e-01, 2.3057662e-04],\n",
              "       [9.9928671e-01, 7.1328739e-04]], dtype=float32)"
            ]
          },
          "metadata": {
            "tags": []
          },
          "execution_count": 71
        }
      ]
    },
    {
      "metadata": {
        "id": "YgzGAyjkIpzy",
        "colab_type": "code",
        "outputId": "8e1fc34b-a146-4405-a383-ffdb37bd791b",
        "colab": {
          "base_uri": "https://localhost:8080/",
          "height": 35
        }
      },
      "cell_type": "code",
      "source": [
        "roc = metrics.roc_auc_score(y_test, y_pred[:, 1])\n",
        "print(\"AUC: %.2f%%\" % (roc * 100.0))"
      ],
      "execution_count": 0,
      "outputs": [
        {
          "output_type": "stream",
          "text": [
            "AUC: 94.69%\n"
          ],
          "name": "stdout"
        }
      ]
    },
    {
      "metadata": {
        "id": "wC9kQGQjKxNY",
        "colab_type": "text"
      },
      "cell_type": "markdown",
      "source": [
        "Use feature all features have better accuracy."
      ]
    },
    {
      "metadata": {
        "id": "RfAK-uKRL0lK",
        "colab_type": "text"
      },
      "cell_type": "markdown",
      "source": [
        "### 3.1.2 Hyperparameter tuning"
      ]
    },
    {
      "metadata": {
        "id": "lJ1rLsjTK5Xd",
        "colab_type": "code",
        "colab": {}
      },
      "cell_type": "code",
      "source": [
        "fxgbfeatures = ['ip',\n",
        " 'app',\n",
        " 'device',\n",
        " 'os',\n",
        " 'channel',\n",
        " 'hour',\n",
        " 'minute',\n",
        " 'second',\n",
        " 'day',\n",
        " 'weekday',\n",
        " 'dayofyear',\n",
        " 'month',\n",
        " 'prev_identical_clicks',\n",
        " 'future_identical_clicks',\n",
        " 'ip_app_count_channel',\n",
        " 'ip_app_os_count_channel',\n",
        " 'ip_app_device_count_channel',\n",
        " 'ip_day_hour_count_channel',\n",
        " 'ip_app_day_hour_count_channel',\n",
        " 'ip_app_device_day_hour_count_channel',\n",
        " 'app_count_channel',\n",
        " 'channel_count_app',\n",
        " 'ip_app_channel_var_day',\n",
        " 'ip_app_device_var_day',\n",
        " 'ip_app_os_var_day',\n",
        " 'ip_app_channel_mean_hour',\n",
        " 'ip_nunique_channel',\n",
        " 'ip_nunique_app',\n",
        " 'ip_day_nunique_hour',\n",
        " 'ip_app_nunique_os',\n",
        " 'ip_nunique_device',\n",
        " 'app_nunique_channel',\n",
        " 'ip_device_os_nunique_app']"
      ],
      "execution_count": 0,
      "outputs": []
    },
    {
      "metadata": {
        "id": "gk6veZRSLKQJ",
        "colab_type": "code",
        "outputId": "10cd35d3-0770-44a9-f0e1-5306646e4373",
        "colab": {
          "base_uri": "https://localhost:8080/",
          "height": 35
        }
      },
      "cell_type": "code",
      "source": [
        "X_train, X_test, y_train, y_test = train_test_split(train[fxgbfeatures], train[target], test_size=0.25, random_state=42)\n",
        "print(X_train.shape, X_test.shape, y_train.shape, y_test.shape)"
      ],
      "execution_count": 0,
      "outputs": [
        {
          "output_type": "stream",
          "text": [
            "(1500000, 33) (500000, 33) (1500000,) (500000,)\n"
          ],
          "name": "stdout"
        }
      ]
    },
    {
      "metadata": {
        "id": "A3VW144WLPZL",
        "colab_type": "code",
        "outputId": "3abec421-370d-4f56-8cb2-0189c6a5da85",
        "colab": {
          "base_uri": "https://localhost:8080/",
          "height": 126
        }
      },
      "cell_type": "code",
      "source": [
        "xgbm1 = XGBClassifier()\n",
        "xgbm1.fit(X_train, y_train)"
      ],
      "execution_count": 0,
      "outputs": [
        {
          "output_type": "execute_result",
          "data": {
            "text/plain": [
              "XGBClassifier(base_score=0.5, booster='gbtree', colsample_bylevel=1,\n",
              "       colsample_bytree=1, gamma=0, learning_rate=0.1, max_delta_step=0,\n",
              "       max_depth=3, min_child_weight=1, missing=None, n_estimators=100,\n",
              "       n_jobs=1, nthread=None, objective='binary:logistic', random_state=0,\n",
              "       reg_alpha=0, reg_lambda=1, scale_pos_weight=1, seed=None,\n",
              "       silent=True, subsample=1)"
            ]
          },
          "metadata": {
            "tags": []
          },
          "execution_count": 75
        }
      ]
    },
    {
      "metadata": {
        "id": "ppWPm8BaLT5l",
        "colab_type": "code",
        "outputId": "61f4162a-6373-41ba-f409-0b1fed3be15d",
        "colab": {
          "base_uri": "https://localhost:8080/",
          "height": 199
        }
      },
      "cell_type": "code",
      "source": [
        "# make predictions for test data\n",
        "# use predict_proba to compute auc\n",
        "y_pred = xgbm1.predict_proba(X_test)\n",
        "y_pred[:10]"
      ],
      "execution_count": 0,
      "outputs": [
        {
          "output_type": "execute_result",
          "data": {
            "text/plain": [
              "array([[9.9973989e-01, 2.6009639e-04],\n",
              "       [9.9960452e-01, 3.9545001e-04],\n",
              "       [9.9919367e-01, 8.0631563e-04],\n",
              "       [9.9949706e-01, 5.0293707e-04],\n",
              "       [9.9925953e-01, 7.4043928e-04],\n",
              "       [9.9974740e-01, 2.5258641e-04],\n",
              "       [9.9945229e-01, 5.4768333e-04],\n",
              "       [9.9939221e-01, 6.0781115e-04],\n",
              "       [9.9963999e-01, 3.6001968e-04],\n",
              "       [9.9924231e-01, 7.5770909e-04]], dtype=float32)"
            ]
          },
          "metadata": {
            "tags": []
          },
          "execution_count": 77
        }
      ]
    },
    {
      "metadata": {
        "id": "1Ub8EGG1LWX6",
        "colab_type": "code",
        "outputId": "870bba18-9c2e-4e80-e97a-2e33f3703b74",
        "colab": {
          "base_uri": "https://localhost:8080/",
          "height": 35
        }
      },
      "cell_type": "code",
      "source": [
        "roc = metrics.roc_auc_score(y_test, y_pred[:, 1])\n",
        "print(\"AUC: %.2f%%\" % (roc * 100.0))"
      ],
      "execution_count": 0,
      "outputs": [
        {
          "output_type": "stream",
          "text": [
            "AUC: 96.19%\n"
          ],
          "name": "stdout"
        }
      ]
    },
    {
      "metadata": {
        "id": "GofL9O1iNMpC",
        "colab_type": "code",
        "colab": {}
      },
      "cell_type": "code",
      "source": [
        "from sklearn.model_selection import KFold\n",
        "from sklearn.model_selection import GridSearchCV\n",
        "from sklearn.model_selection import cross_val_score\n",
        "loops = 3\n",
        "\n",
        "# range of hyperparameters\n",
        "param_grid = {'learning_rate' : [0.1, 0.3],\n",
        "             'subsample': [0.3, 0.6, 0.9]}\n",
        "\n",
        "# model\n",
        "xgb_model1 = XGBClassifier(max_depth = 2, n_estimators = 200)\n",
        "\n",
        "# GridSearchCV()\n",
        "\n",
        "xmodel_cv1 = GridSearchCV(estimator = xgb_model1, \n",
        "                        param_grid = param_grid, \n",
        "                        scoring= 'roc_auc', \n",
        "                        cv = loops, \n",
        "                        verbose = 1,\n",
        "                        return_train_score=True)"
      ],
      "execution_count": 0,
      "outputs": []
    },
    {
      "metadata": {
        "id": "geyUDXpcO5b-",
        "colab_type": "code",
        "outputId": "29e8de56-714d-43b7-a6be-95014241e80e",
        "colab": {
          "base_uri": "https://localhost:8080/",
          "height": 272
        }
      },
      "cell_type": "code",
      "source": [
        "# fit the model\n",
        "xmodel_cv1.fit(X_train, y_train)"
      ],
      "execution_count": 0,
      "outputs": [
        {
          "output_type": "stream",
          "text": [
            "Fitting 3 folds for each of 6 candidates, totalling 18 fits\n"
          ],
          "name": "stdout"
        },
        {
          "output_type": "stream",
          "text": [
            "[Parallel(n_jobs=1)]: Using backend SequentialBackend with 1 concurrent workers.\n",
            "[Parallel(n_jobs=1)]: Done  18 out of  18 | elapsed: 93.1min finished\n"
          ],
          "name": "stderr"
        },
        {
          "output_type": "execute_result",
          "data": {
            "text/plain": [
              "GridSearchCV(cv=3, error_score='raise-deprecating',\n",
              "       estimator=XGBClassifier(base_score=0.5, booster='gbtree', colsample_bylevel=1,\n",
              "       colsample_bytree=1, gamma=0, learning_rate=0.1, max_delta_step=0,\n",
              "       max_depth=2, min_child_weight=1, missing=None, n_estimators=200,\n",
              "       n_jobs=1, nthread=None, objective='binary:logistic', random_state=0,\n",
              "       reg_alpha=0, reg_lambda=1, scale_pos_weight=1, seed=None,\n",
              "       silent=True, subsample=1),\n",
              "       fit_params=None, iid='warn', n_jobs=None,\n",
              "       param_grid={'learning_rate': [0.1, 0.3], 'subsample': [0.3, 0.6, 0.9]},\n",
              "       pre_dispatch='2*n_jobs', refit=True, return_train_score=True,\n",
              "       scoring='roc_auc', verbose=1)"
            ]
          },
          "metadata": {
            "tags": []
          },
          "execution_count": 85
        }
      ]
    },
    {
      "metadata": {
        "id": "t86KAUS6PSCc",
        "colab_type": "code",
        "outputId": "1c4aa81b-63c9-4368-d5a5-1d1e59dabf5c",
        "colab": {
          "base_uri": "https://localhost:8080/",
          "height": 559
        }
      },
      "cell_type": "code",
      "source": [
        "# results\n",
        "cvr1 = pd.DataFrame(xmodel_cv1.cv_results_)\n",
        "cvr1"
      ],
      "execution_count": 0,
      "outputs": [
        {
          "output_type": "execute_result",
          "data": {
            "text/html": [
              "<div>\n",
              "<style scoped>\n",
              "    .dataframe tbody tr th:only-of-type {\n",
              "        vertical-align: middle;\n",
              "    }\n",
              "\n",
              "    .dataframe tbody tr th {\n",
              "        vertical-align: top;\n",
              "    }\n",
              "\n",
              "    .dataframe thead th {\n",
              "        text-align: right;\n",
              "    }\n",
              "</style>\n",
              "<table border=\"1\" class=\"dataframe\">\n",
              "  <thead>\n",
              "    <tr style=\"text-align: right;\">\n",
              "      <th></th>\n",
              "      <th>mean_fit_time</th>\n",
              "      <th>mean_score_time</th>\n",
              "      <th>mean_test_score</th>\n",
              "      <th>mean_train_score</th>\n",
              "      <th>param_learning_rate</th>\n",
              "      <th>param_subsample</th>\n",
              "      <th>params</th>\n",
              "      <th>rank_test_score</th>\n",
              "      <th>split0_test_score</th>\n",
              "      <th>split0_train_score</th>\n",
              "      <th>split1_test_score</th>\n",
              "      <th>split1_train_score</th>\n",
              "      <th>split2_test_score</th>\n",
              "      <th>split2_train_score</th>\n",
              "      <th>std_fit_time</th>\n",
              "      <th>std_score_time</th>\n",
              "      <th>std_test_score</th>\n",
              "      <th>std_train_score</th>\n",
              "    </tr>\n",
              "  </thead>\n",
              "  <tbody>\n",
              "    <tr>\n",
              "      <th>0</th>\n",
              "      <td>297.644657</td>\n",
              "      <td>2.752982</td>\n",
              "      <td>0.952831</td>\n",
              "      <td>0.959675</td>\n",
              "      <td>0.1</td>\n",
              "      <td>0.3</td>\n",
              "      <td>{'learning_rate': 0.1, 'subsample': 0.3}</td>\n",
              "      <td>6</td>\n",
              "      <td>0.951004</td>\n",
              "      <td>0.961055</td>\n",
              "      <td>0.957723</td>\n",
              "      <td>0.959708</td>\n",
              "      <td>0.949766</td>\n",
              "      <td>0.958262</td>\n",
              "      <td>7.477463</td>\n",
              "      <td>0.117932</td>\n",
              "      <td>0.003496</td>\n",
              "      <td>0.001140</td>\n",
              "    </tr>\n",
              "    <tr>\n",
              "      <th>1</th>\n",
              "      <td>314.863816</td>\n",
              "      <td>2.560696</td>\n",
              "      <td>0.954355</td>\n",
              "      <td>0.959882</td>\n",
              "      <td>0.1</td>\n",
              "      <td>0.6</td>\n",
              "      <td>{'learning_rate': 0.1, 'subsample': 0.6}</td>\n",
              "      <td>3</td>\n",
              "      <td>0.953545</td>\n",
              "      <td>0.960610</td>\n",
              "      <td>0.959033</td>\n",
              "      <td>0.959785</td>\n",
              "      <td>0.950486</td>\n",
              "      <td>0.959253</td>\n",
              "      <td>5.264751</td>\n",
              "      <td>0.028851</td>\n",
              "      <td>0.003536</td>\n",
              "      <td>0.000559</td>\n",
              "    </tr>\n",
              "    <tr>\n",
              "      <th>2</th>\n",
              "      <td>306.597335</td>\n",
              "      <td>2.549095</td>\n",
              "      <td>0.954065</td>\n",
              "      <td>0.960338</td>\n",
              "      <td>0.1</td>\n",
              "      <td>0.9</td>\n",
              "      <td>{'learning_rate': 0.1, 'subsample': 0.9}</td>\n",
              "      <td>4</td>\n",
              "      <td>0.953777</td>\n",
              "      <td>0.960402</td>\n",
              "      <td>0.959182</td>\n",
              "      <td>0.960082</td>\n",
              "      <td>0.949236</td>\n",
              "      <td>0.960531</td>\n",
              "      <td>1.962858</td>\n",
              "      <td>0.081718</td>\n",
              "      <td>0.004065</td>\n",
              "      <td>0.000189</td>\n",
              "    </tr>\n",
              "    <tr>\n",
              "      <th>3</th>\n",
              "      <td>285.473680</td>\n",
              "      <td>2.942222</td>\n",
              "      <td>0.953442</td>\n",
              "      <td>0.968321</td>\n",
              "      <td>0.3</td>\n",
              "      <td>0.3</td>\n",
              "      <td>{'learning_rate': 0.3, 'subsample': 0.3}</td>\n",
              "      <td>5</td>\n",
              "      <td>0.950780</td>\n",
              "      <td>0.968933</td>\n",
              "      <td>0.956102</td>\n",
              "      <td>0.969253</td>\n",
              "      <td>0.953443</td>\n",
              "      <td>0.966777</td>\n",
              "      <td>7.469705</td>\n",
              "      <td>0.098745</td>\n",
              "      <td>0.002173</td>\n",
              "      <td>0.001100</td>\n",
              "    </tr>\n",
              "    <tr>\n",
              "      <th>4</th>\n",
              "      <td>316.372699</td>\n",
              "      <td>2.892806</td>\n",
              "      <td>0.957192</td>\n",
              "      <td>0.971335</td>\n",
              "      <td>0.3</td>\n",
              "      <td>0.6</td>\n",
              "      <td>{'learning_rate': 0.3, 'subsample': 0.6}</td>\n",
              "      <td>2</td>\n",
              "      <td>0.956384</td>\n",
              "      <td>0.971270</td>\n",
              "      <td>0.958970</td>\n",
              "      <td>0.971497</td>\n",
              "      <td>0.956221</td>\n",
              "      <td>0.971238</td>\n",
              "      <td>1.797320</td>\n",
              "      <td>0.041481</td>\n",
              "      <td>0.001259</td>\n",
              "      <td>0.000115</td>\n",
              "    </tr>\n",
              "    <tr>\n",
              "      <th>5</th>\n",
              "      <td>292.199527</td>\n",
              "      <td>2.896303</td>\n",
              "      <td>0.957245</td>\n",
              "      <td>0.971691</td>\n",
              "      <td>0.3</td>\n",
              "      <td>0.9</td>\n",
              "      <td>{'learning_rate': 0.3, 'subsample': 0.9}</td>\n",
              "      <td>1</td>\n",
              "      <td>0.955203</td>\n",
              "      <td>0.972845</td>\n",
              "      <td>0.961336</td>\n",
              "      <td>0.971455</td>\n",
              "      <td>0.955195</td>\n",
              "      <td>0.970774</td>\n",
              "      <td>13.033800</td>\n",
              "      <td>0.031431</td>\n",
              "      <td>0.002893</td>\n",
              "      <td>0.000862</td>\n",
              "    </tr>\n",
              "  </tbody>\n",
              "</table>\n",
              "</div>"
            ],
            "text/plain": [
              "   mean_fit_time  mean_score_time  mean_test_score  mean_train_score  \\\n",
              "0     297.644657         2.752982         0.952831          0.959675   \n",
              "1     314.863816         2.560696         0.954355          0.959882   \n",
              "2     306.597335         2.549095         0.954065          0.960338   \n",
              "3     285.473680         2.942222         0.953442          0.968321   \n",
              "4     316.372699         2.892806         0.957192          0.971335   \n",
              "5     292.199527         2.896303         0.957245          0.971691   \n",
              "\n",
              "  param_learning_rate param_subsample  \\\n",
              "0                 0.1             0.3   \n",
              "1                 0.1             0.6   \n",
              "2                 0.1             0.9   \n",
              "3                 0.3             0.3   \n",
              "4                 0.3             0.6   \n",
              "5                 0.3             0.9   \n",
              "\n",
              "                                     params  rank_test_score  \\\n",
              "0  {'learning_rate': 0.1, 'subsample': 0.3}                6   \n",
              "1  {'learning_rate': 0.1, 'subsample': 0.6}                3   \n",
              "2  {'learning_rate': 0.1, 'subsample': 0.9}                4   \n",
              "3  {'learning_rate': 0.3, 'subsample': 0.3}                5   \n",
              "4  {'learning_rate': 0.3, 'subsample': 0.6}                2   \n",
              "5  {'learning_rate': 0.3, 'subsample': 0.9}                1   \n",
              "\n",
              "   split0_test_score  split0_train_score  split1_test_score  \\\n",
              "0           0.951004            0.961055           0.957723   \n",
              "1           0.953545            0.960610           0.959033   \n",
              "2           0.953777            0.960402           0.959182   \n",
              "3           0.950780            0.968933           0.956102   \n",
              "4           0.956384            0.971270           0.958970   \n",
              "5           0.955203            0.972845           0.961336   \n",
              "\n",
              "   split1_train_score  split2_test_score  split2_train_score  std_fit_time  \\\n",
              "0            0.959708           0.949766            0.958262      7.477463   \n",
              "1            0.959785           0.950486            0.959253      5.264751   \n",
              "2            0.960082           0.949236            0.960531      1.962858   \n",
              "3            0.969253           0.953443            0.966777      7.469705   \n",
              "4            0.971497           0.956221            0.971238      1.797320   \n",
              "5            0.971455           0.955195            0.970774     13.033800   \n",
              "\n",
              "   std_score_time  std_test_score  std_train_score  \n",
              "0        0.117932        0.003496         0.001140  \n",
              "1        0.028851        0.003536         0.000559  \n",
              "2        0.081718        0.004065         0.000189  \n",
              "3        0.098745        0.002173         0.001100  \n",
              "4        0.041481        0.001259         0.000115  \n",
              "5        0.031431        0.002893         0.000862  "
            ]
          },
          "metadata": {
            "tags": []
          },
          "execution_count": 87
        }
      ]
    },
    {
      "metadata": {
        "id": "SwRnNs9sY_VU",
        "colab_type": "code",
        "outputId": "d0440595-ab26-4bd2-95f0-5edbd44e93b8",
        "colab": {
          "base_uri": "https://localhost:8080/",
          "height": 477
        }
      },
      "cell_type": "code",
      "source": [
        "# convert parameters to int for plotting on x-axis\n",
        "cvr1['param_learning_rate'] = cvr1['param_learning_rate'].astype('float')\n",
        "#cvr1['param_max_depth'] = cvr1['param_max_depth'].astype('float')\n",
        "cvr1.head()"
      ],
      "execution_count": 0,
      "outputs": [
        {
          "output_type": "execute_result",
          "data": {
            "text/html": [
              "<div>\n",
              "<style scoped>\n",
              "    .dataframe tbody tr th:only-of-type {\n",
              "        vertical-align: middle;\n",
              "    }\n",
              "\n",
              "    .dataframe tbody tr th {\n",
              "        vertical-align: top;\n",
              "    }\n",
              "\n",
              "    .dataframe thead th {\n",
              "        text-align: right;\n",
              "    }\n",
              "</style>\n",
              "<table border=\"1\" class=\"dataframe\">\n",
              "  <thead>\n",
              "    <tr style=\"text-align: right;\">\n",
              "      <th></th>\n",
              "      <th>mean_fit_time</th>\n",
              "      <th>mean_score_time</th>\n",
              "      <th>mean_test_score</th>\n",
              "      <th>mean_train_score</th>\n",
              "      <th>param_learning_rate</th>\n",
              "      <th>param_subsample</th>\n",
              "      <th>params</th>\n",
              "      <th>rank_test_score</th>\n",
              "      <th>split0_test_score</th>\n",
              "      <th>split0_train_score</th>\n",
              "      <th>split1_test_score</th>\n",
              "      <th>split1_train_score</th>\n",
              "      <th>split2_test_score</th>\n",
              "      <th>split2_train_score</th>\n",
              "      <th>std_fit_time</th>\n",
              "      <th>std_score_time</th>\n",
              "      <th>std_test_score</th>\n",
              "      <th>std_train_score</th>\n",
              "    </tr>\n",
              "  </thead>\n",
              "  <tbody>\n",
              "    <tr>\n",
              "      <th>0</th>\n",
              "      <td>297.644657</td>\n",
              "      <td>2.752982</td>\n",
              "      <td>0.952831</td>\n",
              "      <td>0.959675</td>\n",
              "      <td>0.1</td>\n",
              "      <td>0.3</td>\n",
              "      <td>{'learning_rate': 0.1, 'subsample': 0.3}</td>\n",
              "      <td>6</td>\n",
              "      <td>0.951004</td>\n",
              "      <td>0.961055</td>\n",
              "      <td>0.957723</td>\n",
              "      <td>0.959708</td>\n",
              "      <td>0.949766</td>\n",
              "      <td>0.958262</td>\n",
              "      <td>7.477463</td>\n",
              "      <td>0.117932</td>\n",
              "      <td>0.003496</td>\n",
              "      <td>0.001140</td>\n",
              "    </tr>\n",
              "    <tr>\n",
              "      <th>1</th>\n",
              "      <td>314.863816</td>\n",
              "      <td>2.560696</td>\n",
              "      <td>0.954355</td>\n",
              "      <td>0.959882</td>\n",
              "      <td>0.1</td>\n",
              "      <td>0.6</td>\n",
              "      <td>{'learning_rate': 0.1, 'subsample': 0.6}</td>\n",
              "      <td>3</td>\n",
              "      <td>0.953545</td>\n",
              "      <td>0.960610</td>\n",
              "      <td>0.959033</td>\n",
              "      <td>0.959785</td>\n",
              "      <td>0.950486</td>\n",
              "      <td>0.959253</td>\n",
              "      <td>5.264751</td>\n",
              "      <td>0.028851</td>\n",
              "      <td>0.003536</td>\n",
              "      <td>0.000559</td>\n",
              "    </tr>\n",
              "    <tr>\n",
              "      <th>2</th>\n",
              "      <td>306.597335</td>\n",
              "      <td>2.549095</td>\n",
              "      <td>0.954065</td>\n",
              "      <td>0.960338</td>\n",
              "      <td>0.1</td>\n",
              "      <td>0.9</td>\n",
              "      <td>{'learning_rate': 0.1, 'subsample': 0.9}</td>\n",
              "      <td>4</td>\n",
              "      <td>0.953777</td>\n",
              "      <td>0.960402</td>\n",
              "      <td>0.959182</td>\n",
              "      <td>0.960082</td>\n",
              "      <td>0.949236</td>\n",
              "      <td>0.960531</td>\n",
              "      <td>1.962858</td>\n",
              "      <td>0.081718</td>\n",
              "      <td>0.004065</td>\n",
              "      <td>0.000189</td>\n",
              "    </tr>\n",
              "    <tr>\n",
              "      <th>3</th>\n",
              "      <td>285.473680</td>\n",
              "      <td>2.942222</td>\n",
              "      <td>0.953442</td>\n",
              "      <td>0.968321</td>\n",
              "      <td>0.3</td>\n",
              "      <td>0.3</td>\n",
              "      <td>{'learning_rate': 0.3, 'subsample': 0.3}</td>\n",
              "      <td>5</td>\n",
              "      <td>0.950780</td>\n",
              "      <td>0.968933</td>\n",
              "      <td>0.956102</td>\n",
              "      <td>0.969253</td>\n",
              "      <td>0.953443</td>\n",
              "      <td>0.966777</td>\n",
              "      <td>7.469705</td>\n",
              "      <td>0.098745</td>\n",
              "      <td>0.002173</td>\n",
              "      <td>0.001100</td>\n",
              "    </tr>\n",
              "    <tr>\n",
              "      <th>4</th>\n",
              "      <td>316.372699</td>\n",
              "      <td>2.892806</td>\n",
              "      <td>0.957192</td>\n",
              "      <td>0.971335</td>\n",
              "      <td>0.3</td>\n",
              "      <td>0.6</td>\n",
              "      <td>{'learning_rate': 0.3, 'subsample': 0.6}</td>\n",
              "      <td>2</td>\n",
              "      <td>0.956384</td>\n",
              "      <td>0.971270</td>\n",
              "      <td>0.958970</td>\n",
              "      <td>0.971497</td>\n",
              "      <td>0.956221</td>\n",
              "      <td>0.971238</td>\n",
              "      <td>1.797320</td>\n",
              "      <td>0.041481</td>\n",
              "      <td>0.001259</td>\n",
              "      <td>0.000115</td>\n",
              "    </tr>\n",
              "  </tbody>\n",
              "</table>\n",
              "</div>"
            ],
            "text/plain": [
              "   mean_fit_time  mean_score_time  mean_test_score  mean_train_score  \\\n",
              "0     297.644657         2.752982         0.952831          0.959675   \n",
              "1     314.863816         2.560696         0.954355          0.959882   \n",
              "2     306.597335         2.549095         0.954065          0.960338   \n",
              "3     285.473680         2.942222         0.953442          0.968321   \n",
              "4     316.372699         2.892806         0.957192          0.971335   \n",
              "\n",
              "   param_learning_rate param_subsample  \\\n",
              "0                  0.1             0.3   \n",
              "1                  0.1             0.6   \n",
              "2                  0.1             0.9   \n",
              "3                  0.3             0.3   \n",
              "4                  0.3             0.6   \n",
              "\n",
              "                                     params  rank_test_score  \\\n",
              "0  {'learning_rate': 0.1, 'subsample': 0.3}                6   \n",
              "1  {'learning_rate': 0.1, 'subsample': 0.6}                3   \n",
              "2  {'learning_rate': 0.1, 'subsample': 0.9}                4   \n",
              "3  {'learning_rate': 0.3, 'subsample': 0.3}                5   \n",
              "4  {'learning_rate': 0.3, 'subsample': 0.6}                2   \n",
              "\n",
              "   split0_test_score  split0_train_score  split1_test_score  \\\n",
              "0           0.951004            0.961055           0.957723   \n",
              "1           0.953545            0.960610           0.959033   \n",
              "2           0.953777            0.960402           0.959182   \n",
              "3           0.950780            0.968933           0.956102   \n",
              "4           0.956384            0.971270           0.958970   \n",
              "\n",
              "   split1_train_score  split2_test_score  split2_train_score  std_fit_time  \\\n",
              "0            0.959708           0.949766            0.958262      7.477463   \n",
              "1            0.959785           0.950486            0.959253      5.264751   \n",
              "2            0.960082           0.949236            0.960531      1.962858   \n",
              "3            0.969253           0.953443            0.966777      7.469705   \n",
              "4            0.971497           0.956221            0.971238      1.797320   \n",
              "\n",
              "   std_score_time  std_test_score  std_train_score  \n",
              "0        0.117932        0.003496         0.001140  \n",
              "1        0.028851        0.003536         0.000559  \n",
              "2        0.081718        0.004065         0.000189  \n",
              "3        0.098745        0.002173         0.001100  \n",
              "4        0.041481        0.001259         0.000115  "
            ]
          },
          "metadata": {
            "tags": []
          },
          "execution_count": 90
        }
      ]
    },
    {
      "metadata": {
        "id": "_dPzyxoOZF4i",
        "colab_type": "code",
        "outputId": "c2724f65-7a3b-4bef-a76a-c09c1c8dbe0f",
        "colab": {
          "base_uri": "https://localhost:8080/",
          "height": 407
        }
      },
      "cell_type": "code",
      "source": [
        "# plotting\n",
        "plt.figure(figsize=(16,6))\n",
        "\n",
        "param_grid = {'learning_rate': [0.1, 0.3], \n",
        "             'subsample': [0.3, 0.6, 0.9]} \n",
        "\n",
        "\n",
        "for n, subsample in enumerate(param_grid['subsample']):\n",
        "    \n",
        "\n",
        "    # subplot 1/n\n",
        "    plt.subplot(1,len(param_grid['subsample']), n+1)\n",
        "    df = cvr1[cvr1['param_subsample']==subsample]\n",
        "\n",
        "    plt.plot(df[\"param_learning_rate\"], df[\"mean_test_score\"])\n",
        "    plt.plot(df[\"param_learning_rate\"], df[\"mean_train_score\"])\n",
        "    plt.xlabel('learning_rate')\n",
        "    plt.ylabel('AUC')\n",
        "    plt.title(\"subsample={0}\".format(subsample))\n",
        "    plt.ylim([0.60, 1])\n",
        "    plt.legend(['test score', 'train score'], loc='upper left')\n",
        "    plt.xscale('log')"
      ],
      "execution_count": 0,
      "outputs": [
        {
          "output_type": "display_data",
          "data": {
            "image/png": "[encoded data removed]",
            "text/plain": [
              "<matplotlib.figure.Figure at 0x7f5690a93cf8>"
            ]
          },
          "metadata": {
            "tags": []
          }
        }
      ]
    },
    {
      "metadata": {
        "id": "TszaQJaQxpHu",
        "colab_type": "code",
        "outputId": "df29f960-b658-4cb4-d3ba-86304109d632",
        "colab": {
          "base_uri": "https://localhost:8080/",
          "height": 126
        }
      },
      "cell_type": "code",
      "source": [
        "\n",
        "# fit model on training data\n",
        "xmodel2 = XGBClassifier(\n",
        "          learning_rate = 0.1,\n",
        "          max_depth = 2, \n",
        "          n_estimators=200,\n",
        "          subsample=0.6,\n",
        "          objective='binary:logistic')\n",
        "xmodel2.fit(X_train, y_train)"
      ],
      "execution_count": 0,
      "outputs": [
        {
          "output_type": "execute_result",
          "data": {
            "text/plain": [
              "XGBClassifier(base_score=0.5, booster='gbtree', colsample_bylevel=1,\n",
              "       colsample_bytree=1, gamma=0, learning_rate=0.1, max_delta_step=0,\n",
              "       max_depth=2, min_child_weight=1, missing=None, n_estimators=200,\n",
              "       n_jobs=1, nthread=None, objective='binary:logistic', random_state=0,\n",
              "       reg_alpha=0, reg_lambda=1, scale_pos_weight=1, seed=None,\n",
              "       silent=True, subsample=0.6)"
            ]
          },
          "metadata": {
            "tags": []
          },
          "execution_count": 99
        }
      ]
    },
    {
      "metadata": {
        "id": "IOa8lAPOz5cG",
        "colab_type": "code",
        "outputId": "fd8d6446-2f94-4e3e-b2a3-89bbaabce487",
        "colab": {
          "base_uri": "https://localhost:8080/",
          "height": 35
        }
      },
      "cell_type": "code",
      "source": [
        "# predict\n",
        "y_pred2 = xmodel2.predict_proba(X_test)\n",
        "roc2 = metrics.roc_auc_score(y_test, y_pred2[:, 1])\n",
        "print(\"AUC: %.2f%%\" % (roc2 * 100.0))"
      ],
      "execution_count": 0,
      "outputs": [
        {
          "output_type": "stream",
          "text": [
            "AUC: 96.26%\n"
          ],
          "name": "stdout"
        }
      ]
    },
    {
      "metadata": {
        "id": "Wt2fGq9H0K0q",
        "colab_type": "code",
        "outputId": "058c4df2-8e97-41f6-d67f-475b1b318cd8",
        "colab": {
          "base_uri": "https://localhost:8080/",
          "height": 119
        }
      },
      "cell_type": "code",
      "source": [
        "from sklearn.model_selection import train_test_split\n",
        "import xgboost as xgb\n",
        "from xgboost.sklearn import XGBClassifier\n",
        "X_train, X_test, y_train, y_test = train_test_split(train[features3], train[target], test_size=0.25, random_state=42)\n",
        "# fit model on training data\n",
        "xmodel3 = XGBClassifier(\n",
        "          learning_rate = 0.1,\n",
        "          max_depth = 4, \n",
        "          n_estimators=200,\n",
        "          subsample=0.6,\n",
        "          reg_alpha = 4,\n",
        "          n_jobs = 4,\n",
        "          objective='binary:logistic')\n",
        "xmodel3.fit(X_train, y_train)"
      ],
      "execution_count": 0,
      "outputs": [
        {
          "output_type": "execute_result",
          "data": {
            "text/plain": [
              "XGBClassifier(base_score=0.5, booster='gbtree', colsample_bylevel=1,\n",
              "       colsample_bytree=1, gamma=0, learning_rate=0.1, max_delta_step=0,\n",
              "       max_depth=4, min_child_weight=1, missing=None, n_estimators=200,\n",
              "       n_jobs=4, nthread=None, objective='binary:logistic', random_state=0,\n",
              "       reg_alpha=4, reg_lambda=1, scale_pos_weight=1, seed=None,\n",
              "       silent=True, subsample=0.6)"
            ]
          },
          "metadata": {
            "tags": []
          },
          "execution_count": 13
        }
      ]
    },
    {
      "metadata": {
        "id": "0L1u719v0zS1",
        "colab_type": "code",
        "outputId": "1a84d8ab-bd57-46ca-f684-27820a013632",
        "colab": {
          "base_uri": "https://localhost:8080/",
          "height": 34
        }
      },
      "cell_type": "code",
      "source": [
        "# predict\n",
        "from sklearn import metrics\n",
        "y_pred3 = xmodel3.predict_proba(X_test)\n",
        "roc3 = metrics.roc_auc_score(y_test, y_pred3[:, 1])\n",
        "print(\"AUC: %.2f%%\" % (roc3 * 100.0))"
      ],
      "execution_count": 0,
      "outputs": [
        {
          "output_type": "stream",
          "text": [
            "AUC: 96.74%\n"
          ],
          "name": "stdout"
        }
      ]
    },
    {
      "metadata": {
        "id": "C5KHGj2BB1ii",
        "colab_type": "code",
        "outputId": "6bb8be2e-84e8-4507-8337-e403dbd6b4c7",
        "colab": {
          "base_uri": "https://localhost:8080/",
          "height": 225
        }
      },
      "cell_type": "code",
      "source": [
        "xmodel3.fit(X_train, y_train, \n",
        "            eval_set=[(X_train, y_train),(X_test,y_test)],\n",
        "           eval_metric='auc',\n",
        "           early_stopping_rounds = 100)"
      ],
      "execution_count": 0,
      "outputs": [
        {
          "output_type": "error",
          "ename": "NameError",
          "evalue": "ignored",
          "traceback": [
            "\u001b[0;31m---------------------------------------------------------------------------\u001b[0m",
            "\u001b[0;31mNameError\u001b[0m                                 Traceback (most recent call last)",
            "\u001b[0;32m<ipython-input-1-9e255f0ae8a6>\u001b[0m in \u001b[0;36m<module>\u001b[0;34m()\u001b[0m\n\u001b[0;32m----> 1\u001b[0;31m xmodel3.fit(X_train, y_train, \n\u001b[0m\u001b[1;32m      2\u001b[0m             \u001b[0meval_set\u001b[0m\u001b[0;34m=\u001b[0m\u001b[0;34m[\u001b[0m\u001b[0;34m(\u001b[0m\u001b[0mX_train\u001b[0m\u001b[0;34m,\u001b[0m \u001b[0my_train\u001b[0m\u001b[0;34m)\u001b[0m\u001b[0;34m,\u001b[0m\u001b[0;34m(\u001b[0m\u001b[0mX_test\u001b[0m\u001b[0;34m,\u001b[0m\u001b[0my_test\u001b[0m\u001b[0;34m)\u001b[0m\u001b[0;34m]\u001b[0m\u001b[0;34m,\u001b[0m\u001b[0;34m\u001b[0m\u001b[0;34m\u001b[0m\u001b[0m\n\u001b[1;32m      3\u001b[0m            \u001b[0meval_metric\u001b[0m\u001b[0;34m=\u001b[0m\u001b[0;34m'auc'\u001b[0m\u001b[0;34m,\u001b[0m\u001b[0;34m\u001b[0m\u001b[0;34m\u001b[0m\u001b[0m\n\u001b[1;32m      4\u001b[0m            early_stopping_rounds = 100)\n",
            "\u001b[0;31mNameError\u001b[0m: name 'xmodel3' is not defined"
          ]
        }
      ]
    },
    {
      "metadata": {
        "id": "k1OMOe801oud",
        "colab_type": "code",
        "outputId": "6e263ac1-04e5-40cc-e396-d0a5fecf3d8f",
        "colab": {
          "base_uri": "https://localhost:8080/",
          "height": 126
        }
      },
      "cell_type": "code",
      "source": [
        "# fit model on training data\n",
        "xmodel4 = XGBClassifier(\n",
        "          learning_rate = 0.1,\n",
        "          max_depth = 4, \n",
        "          n_estimators=200,\n",
        "          subsample=0.6,\n",
        "          reg_alpha = 4,\n",
        "          n_jobs = 4,\n",
        "          colsample_bytree=0.7,\n",
        "          colsample_bylevel=0.7,\n",
        "          scale_pos_weight=9,\n",
        "          objective='binary:logistic')\n",
        "xmodel4.fit(X_train, y_train)"
      ],
      "execution_count": 0,
      "outputs": [
        {
          "output_type": "execute_result",
          "data": {
            "text/plain": [
              "XGBClassifier(base_score=0.5, booster='gbtree', colsample_bylevel=0.7,\n",
              "       colsample_bytree=0.7, gamma=0, learning_rate=0.1, max_delta_step=0,\n",
              "       max_depth=4, min_child_weight=1, missing=None, n_estimators=200,\n",
              "       n_jobs=4, nthread=None, objective='binary:logistic', random_state=0,\n",
              "       reg_alpha=4, reg_lambda=1, scale_pos_weight=9, seed=None,\n",
              "       silent=True, subsample=0.6)"
            ]
          },
          "metadata": {
            "tags": []
          },
          "execution_count": 103
        }
      ]
    },
    {
      "metadata": {
        "id": "Kg57rkzw3VFN",
        "colab_type": "code",
        "outputId": "46c9a839-c0cf-48be-97bf-e59b8aee3710",
        "colab": {
          "base_uri": "https://localhost:8080/",
          "height": 35
        }
      },
      "cell_type": "code",
      "source": [
        "# predict\n",
        "y_pred4 = xmodel4.predict_proba(X_test)\n",
        "roc4 = metrics.roc_auc_score(y_test, y_pred4[:, 1])\n",
        "print(\"AUC: %.2f%%\" % (roc4 * 100.0))"
      ],
      "execution_count": 0,
      "outputs": [
        {
          "output_type": "stream",
          "text": [
            "AUC: 96.64%\n"
          ],
          "name": "stdout"
        }
      ]
    },
    {
      "metadata": {
        "id": "mNKd-rjwAOYo",
        "colab_type": "text"
      },
      "cell_type": "markdown",
      "source": [
        "Best model is hyperparameter with {learning_rate = 0.1,\n",
        "          max_depth = 4, \n",
        "          n_estimators=200,\n",
        "          subsample=0.6,\n",
        "          reg_alpha = 4,\n",
        "          n_jobs = 4,\n",
        "          objective='binary:logistic'}. AUC is 96.74%."
      ]
    },
    {
      "metadata": {
        "id": "tKDlBpvIDNy_",
        "colab_type": "text"
      },
      "cell_type": "markdown",
      "source": [
        "##3.2 LightGBM"
      ]
    },
    {
      "metadata": {
        "id": "XWjwFLxaMWiq",
        "colab_type": "text"
      },
      "cell_type": "markdown",
      "source": [
        "\n",
        "###3.2.1 "
      ]
    },
    {
      "metadata": {
        "id": "nqBshPWphVF2",
        "colab_type": "code",
        "colab": {}
      },
      "cell_type": "code",
      "source": [
        "import lightgbm as lgb\n",
        "from lightgbm.sklearn import LGBMClassifier"
      ],
      "execution_count": 0,
      "outputs": []
    },
    {
      "metadata": {
        "id": "7IWswtJXDRp_",
        "colab_type": "code",
        "colab": {}
      },
      "cell_type": "code",
      "source": [
        "X_train, X_test, y_train, y_test = train_test_split(train[features0], train[target], test_size=0.25, random_state=42)"
      ],
      "execution_count": 0,
      "outputs": []
    },
    {
      "metadata": {
        "id": "Hy8zj74rDDAB",
        "colab_type": "code",
        "outputId": "0d7311f7-88ca-4d8d-d3ca-5b7dbb29a3b8",
        "colab": {
          "base_uri": "https://localhost:8080/",
          "height": 1819
        }
      },
      "cell_type": "code",
      "source": [
        "clfl0 = LGBMClassifier()\n",
        "\n",
        "eval_set = [(X_train, y_train), (X_test, y_test)]\n",
        "clfl0.fit(X_train, y_train, eval_metric='auc', eval_set = eval_set)"
      ],
      "execution_count": 0,
      "outputs": [
        {
          "output_type": "stream",
          "text": [
            "[1]\ttraining's binary_logloss: 0.0241407\ttraining's auc: 0.855326\tvalid_1's binary_logloss: 0.0237427\tvalid_1's auc: 0.860629\n",
            "[2]\ttraining's binary_logloss: 0.0271433\ttraining's auc: 0.537573\tvalid_1's binary_logloss: 0.0248064\tvalid_1's auc: 0.554217\n",
            "[3]\ttraining's binary_logloss: 0.0433725\ttraining's auc: 0.554519\tvalid_1's binary_logloss: 0.0430363\tvalid_1's auc: 0.56568\n",
            "[4]\ttraining's binary_logloss: 0.0391328\ttraining's auc: 0.396067\tvalid_1's binary_logloss: 0.0361418\tvalid_1's auc: 0.412127\n",
            "[5]\ttraining's binary_logloss: 0.0393926\ttraining's auc: 0.397127\tvalid_1's binary_logloss: 0.0365514\tvalid_1's auc: 0.41428\n",
            "[6]\ttraining's binary_logloss: 0.0352931\ttraining's auc: 0.512897\tvalid_1's binary_logloss: 0.0321932\tvalid_1's auc: 0.539523\n",
            "[7]\ttraining's binary_logloss: 0.0689652\ttraining's auc: 0.70321\tvalid_1's binary_logloss: 0.0700282\tvalid_1's auc: 0.732852\n",
            "[8]\ttraining's binary_logloss: 0.0586459\ttraining's auc: 0.602394\tvalid_1's binary_logloss: 0.0575643\tvalid_1's auc: 0.618468\n",
            "[9]\ttraining's binary_logloss: 0.0409624\ttraining's auc: 0.51311\tvalid_1's binary_logloss: 0.0399216\tvalid_1's auc: 0.530628\n",
            "[10]\ttraining's binary_logloss: 0.0429547\ttraining's auc: 0.521321\tvalid_1's binary_logloss: 0.0430581\tvalid_1's auc: 0.536003\n",
            "[11]\ttraining's binary_logloss: 0.0418432\ttraining's auc: 0.520445\tvalid_1's binary_logloss: 0.0414007\tvalid_1's auc: 0.532316\n",
            "[12]\ttraining's binary_logloss: 0.040956\ttraining's auc: 0.509349\tvalid_1's binary_logloss: 0.0407229\tvalid_1's auc: 0.520013\n",
            "[13]\ttraining's binary_logloss: 0.0405123\ttraining's auc: 0.519668\tvalid_1's binary_logloss: 0.0402972\tvalid_1's auc: 0.529682\n",
            "[14]\ttraining's binary_logloss: 0.0430236\ttraining's auc: 0.537221\tvalid_1's binary_logloss: 0.0426155\tvalid_1's auc: 0.547015\n",
            "[15]\ttraining's binary_logloss: 0.0431852\ttraining's auc: 0.540045\tvalid_1's binary_logloss: 0.0434169\tvalid_1's auc: 0.546989\n",
            "[16]\ttraining's binary_logloss: 0.04124\ttraining's auc: 0.52564\tvalid_1's binary_logloss: 0.0406427\tvalid_1's auc: 0.535825\n",
            "[17]\ttraining's binary_logloss: 0.0411154\ttraining's auc: 0.52719\tvalid_1's binary_logloss: 0.0403457\tvalid_1's auc: 0.538246\n",
            "[18]\ttraining's binary_logloss: 0.0420889\ttraining's auc: 0.518057\tvalid_1's binary_logloss: 0.0410795\tvalid_1's auc: 0.533435\n",
            "[19]\ttraining's binary_logloss: 0.0506904\ttraining's auc: 0.570084\tvalid_1's binary_logloss: 0.0507404\tvalid_1's auc: 0.582065\n",
            "[20]\ttraining's binary_logloss: 0.0499815\ttraining's auc: 0.567818\tvalid_1's binary_logloss: 0.0495142\tvalid_1's auc: 0.578507\n",
            "[21]\ttraining's binary_logloss: 0.0480651\ttraining's auc: 0.562879\tvalid_1's binary_logloss: 0.0481986\tvalid_1's auc: 0.572574\n",
            "[22]\ttraining's binary_logloss: 0.0450889\ttraining's auc: 0.547585\tvalid_1's binary_logloss: 0.045649\tvalid_1's auc: 0.55357\n",
            "[23]\ttraining's binary_logloss: 0.0453517\ttraining's auc: 0.527403\tvalid_1's binary_logloss: 0.0455582\tvalid_1's auc: 0.541509\n",
            "[24]\ttraining's binary_logloss: 0.0450453\ttraining's auc: 0.526624\tvalid_1's binary_logloss: 0.0456779\tvalid_1's auc: 0.539637\n",
            "[25]\ttraining's binary_logloss: 0.0448066\ttraining's auc: 0.516832\tvalid_1's binary_logloss: 0.0454813\tvalid_1's auc: 0.5295\n",
            "[26]\ttraining's binary_logloss: 0.0439858\ttraining's auc: 0.517706\tvalid_1's binary_logloss: 0.0443199\tvalid_1's auc: 0.531237\n",
            "[27]\ttraining's binary_logloss: 0.0432278\ttraining's auc: 0.518875\tvalid_1's binary_logloss: 0.0426582\tvalid_1's auc: 0.525487\n",
            "[28]\ttraining's binary_logloss: 0.0427533\ttraining's auc: 0.50112\tvalid_1's binary_logloss: 0.0420051\tvalid_1's auc: 0.508946\n",
            "[29]\ttraining's binary_logloss: 0.0427265\ttraining's auc: 0.499978\tvalid_1's binary_logloss: 0.0418822\tvalid_1's auc: 0.506157\n",
            "[30]\ttraining's binary_logloss: 0.0490024\ttraining's auc: 0.53285\tvalid_1's binary_logloss: 0.0490358\tvalid_1's auc: 0.542308\n",
            "[31]\ttraining's binary_logloss: 0.0472411\ttraining's auc: 0.530726\tvalid_1's binary_logloss: 0.0470413\tvalid_1's auc: 0.541997\n",
            "[32]\ttraining's binary_logloss: 0.0441326\ttraining's auc: 0.576485\tvalid_1's binary_logloss: 0.0450007\tvalid_1's auc: 0.569754\n",
            "[33]\ttraining's binary_logloss: 0.0441582\ttraining's auc: 0.539756\tvalid_1's binary_logloss: 0.044754\tvalid_1's auc: 0.542375\n",
            "[34]\ttraining's binary_logloss: 0.0450625\ttraining's auc: 0.536249\tvalid_1's binary_logloss: 0.0454978\tvalid_1's auc: 0.538673\n",
            "[35]\ttraining's binary_logloss: 0.0452307\ttraining's auc: 0.533636\tvalid_1's binary_logloss: 0.0456464\tvalid_1's auc: 0.534314\n",
            "[36]\ttraining's binary_logloss: 0.0442915\ttraining's auc: 0.532283\tvalid_1's binary_logloss: 0.0451921\tvalid_1's auc: 0.533005\n",
            "[37]\ttraining's binary_logloss: 0.043726\ttraining's auc: 0.524562\tvalid_1's binary_logloss: 0.0438439\tvalid_1's auc: 0.528327\n",
            "[38]\ttraining's binary_logloss: 0.0433817\ttraining's auc: 0.520292\tvalid_1's binary_logloss: 0.0437702\tvalid_1's auc: 0.52463\n",
            "[39]\ttraining's binary_logloss: 0.0436415\ttraining's auc: 0.51932\tvalid_1's binary_logloss: 0.0437404\tvalid_1's auc: 0.524621\n",
            "[40]\ttraining's binary_logloss: 0.0442098\ttraining's auc: 0.523611\tvalid_1's binary_logloss: 0.0448286\tvalid_1's auc: 0.529117\n",
            "[41]\ttraining's binary_logloss: 0.0571093\ttraining's auc: 0.60486\tvalid_1's binary_logloss: 0.0586547\tvalid_1's auc: 0.607752\n",
            "[42]\ttraining's binary_logloss: 0.0448293\ttraining's auc: 0.522861\tvalid_1's binary_logloss: 0.0450021\tvalid_1's auc: 0.524125\n",
            "[43]\ttraining's binary_logloss: 0.0514137\ttraining's auc: 0.523124\tvalid_1's binary_logloss: 0.0504639\tvalid_1's auc: 0.525037\n",
            "[44]\ttraining's binary_logloss: 0.0466101\ttraining's auc: 0.521189\tvalid_1's binary_logloss: 0.0466676\tvalid_1's auc: 0.523003\n",
            "[45]\ttraining's binary_logloss: 0.0482609\ttraining's auc: 0.526119\tvalid_1's binary_logloss: 0.0484402\tvalid_1's auc: 0.521673\n",
            "[46]\ttraining's binary_logloss: 0.0467666\ttraining's auc: 0.518297\tvalid_1's binary_logloss: 0.0481561\tvalid_1's auc: 0.512168\n",
            "[47]\ttraining's binary_logloss: 0.0458442\ttraining's auc: 0.518168\tvalid_1's binary_logloss: 0.0469702\tvalid_1's auc: 0.513315\n",
            "[48]\ttraining's binary_logloss: 0.0466358\ttraining's auc: 0.521438\tvalid_1's binary_logloss: 0.0472462\tvalid_1's auc: 0.516035\n",
            "[49]\ttraining's binary_logloss: 0.0455384\ttraining's auc: 0.531233\tvalid_1's binary_logloss: 0.0465995\tvalid_1's auc: 0.52753\n",
            "[50]\ttraining's binary_logloss: 0.0457162\ttraining's auc: 0.515438\tvalid_1's binary_logloss: 0.046689\tvalid_1's auc: 0.514381\n",
            "[51]\ttraining's binary_logloss: 0.0462198\ttraining's auc: 0.533754\tvalid_1's binary_logloss: 0.0471044\tvalid_1's auc: 0.53256\n",
            "[52]\ttraining's binary_logloss: 0.0482565\ttraining's auc: 0.5327\tvalid_1's binary_logloss: 0.0488962\tvalid_1's auc: 0.532626\n",
            "[53]\ttraining's binary_logloss: 0.0491613\ttraining's auc: 0.543675\tvalid_1's binary_logloss: 0.0505406\tvalid_1's auc: 0.545885\n",
            "[54]\ttraining's binary_logloss: 0.0521614\ttraining's auc: 0.54257\tvalid_1's binary_logloss: 0.0548366\tvalid_1's auc: 0.543518\n",
            "[55]\ttraining's binary_logloss: 0.0484294\ttraining's auc: 0.538813\tvalid_1's binary_logloss: 0.050385\tvalid_1's auc: 0.541255\n",
            "[56]\ttraining's binary_logloss: 0.0504542\ttraining's auc: 0.524813\tvalid_1's binary_logloss: 0.0531885\tvalid_1's auc: 0.532048\n",
            "[57]\ttraining's binary_logloss: 0.0483521\ttraining's auc: 0.520916\tvalid_1's binary_logloss: 0.0511033\tvalid_1's auc: 0.530441\n",
            "[58]\ttraining's binary_logloss: 0.0476025\ttraining's auc: 0.507535\tvalid_1's binary_logloss: 0.050259\tvalid_1's auc: 0.517512\n",
            "[59]\ttraining's binary_logloss: 0.0535316\ttraining's auc: 0.541231\tvalid_1's binary_logloss: 0.056396\tvalid_1's auc: 0.551753\n",
            "[60]\ttraining's binary_logloss: 0.0504794\ttraining's auc: 0.524467\tvalid_1's binary_logloss: 0.0523519\tvalid_1's auc: 0.541104\n",
            "[61]\ttraining's binary_logloss: 0.0555487\ttraining's auc: 0.518739\tvalid_1's binary_logloss: 0.0576841\tvalid_1's auc: 0.531581\n",
            "[62]\ttraining's binary_logloss: 0.0555636\ttraining's auc: 0.517752\tvalid_1's binary_logloss: 0.0600145\tvalid_1's auc: 0.530506\n",
            "[63]\ttraining's binary_logloss: 0.0597155\ttraining's auc: 0.513249\tvalid_1's binary_logloss: 0.0613018\tvalid_1's auc: 0.521543\n",
            "[64]\ttraining's binary_logloss: 0.0461931\ttraining's auc: 0.509803\tvalid_1's binary_logloss: 0.0497578\tvalid_1's auc: 0.51232\n",
            "[65]\ttraining's binary_logloss: 0.0473137\ttraining's auc: 0.521163\tvalid_1's binary_logloss: 0.0510637\tvalid_1's auc: 0.520138\n",
            "[66]\ttraining's binary_logloss: 0.0458488\ttraining's auc: 0.520857\tvalid_1's binary_logloss: 0.0495475\tvalid_1's auc: 0.519097\n",
            "[67]\ttraining's binary_logloss: 0.0476418\ttraining's auc: 0.534239\tvalid_1's binary_logloss: 0.0517102\tvalid_1's auc: 0.532216\n",
            "[68]\ttraining's binary_logloss: 0.0679126\ttraining's auc: 0.533239\tvalid_1's binary_logloss: 0.0710842\tvalid_1's auc: 0.532014\n",
            "[69]\ttraining's binary_logloss: 0.0476351\ttraining's auc: 0.531709\tvalid_1's binary_logloss: 0.0510005\tvalid_1's auc: 0.532316\n",
            "[70]\ttraining's binary_logloss: 0.0509514\ttraining's auc: 0.532109\tvalid_1's binary_logloss: 0.0554648\tvalid_1's auc: 0.532308\n",
            "[71]\ttraining's binary_logloss: 0.105376\ttraining's auc: 0.535272\tvalid_1's binary_logloss: 0.108345\tvalid_1's auc: 0.531686\n",
            "[72]\ttraining's binary_logloss: 0.0484861\ttraining's auc: 0.533781\tvalid_1's binary_logloss: 0.0528958\tvalid_1's auc: 0.52658\n",
            "[73]\ttraining's binary_logloss: 0.0578649\ttraining's auc: 0.51282\tvalid_1's binary_logloss: 0.0622155\tvalid_1's auc: 0.505992\n",
            "[74]\ttraining's binary_logloss: 0.0438628\ttraining's auc: 0.511105\tvalid_1's binary_logloss: 0.0476219\tvalid_1's auc: 0.505717\n",
            "[75]\ttraining's binary_logloss: 0.0729697\ttraining's auc: 0.542697\tvalid_1's binary_logloss: 0.0757059\tvalid_1's auc: 0.537639\n",
            "[76]\ttraining's binary_logloss: 0.0924289\ttraining's auc: 0.540398\tvalid_1's binary_logloss: 0.096182\tvalid_1's auc: 0.537877\n",
            "[77]\ttraining's binary_logloss: 0.0506075\ttraining's auc: 0.541571\tvalid_1's binary_logloss: 0.0536066\tvalid_1's auc: 0.539814\n",
            "[78]\ttraining's binary_logloss: 0.0495541\ttraining's auc: 0.537047\tvalid_1's binary_logloss: 0.0525559\tvalid_1's auc: 0.53151\n",
            "[79]\ttraining's binary_logloss: 0.0578246\ttraining's auc: 0.58684\tvalid_1's binary_logloss: 0.0637505\tvalid_1's auc: 0.576341\n",
            "[80]\ttraining's binary_logloss: 0.0570079\ttraining's auc: 0.586698\tvalid_1's binary_logloss: 0.0631237\tvalid_1's auc: 0.572964\n",
            "[81]\ttraining's binary_logloss: 0.0572646\ttraining's auc: 0.581589\tvalid_1's binary_logloss: 0.063495\tvalid_1's auc: 0.563337\n",
            "[82]\ttraining's binary_logloss: 0.0571193\ttraining's auc: 0.579406\tvalid_1's binary_logloss: 0.0634431\tvalid_1's auc: 0.56323\n",
            "[83]\ttraining's binary_logloss: 0.0549104\ttraining's auc: 0.570517\tvalid_1's binary_logloss: 0.0611569\tvalid_1's auc: 0.554971\n",
            "[84]\ttraining's binary_logloss: 0.0511719\ttraining's auc: 0.540319\tvalid_1's binary_logloss: 0.05465\tvalid_1's auc: 0.530019\n",
            "[85]\ttraining's binary_logloss: 0.0497477\ttraining's auc: 0.539728\tvalid_1's binary_logloss: 0.0536713\tvalid_1's auc: 0.527656\n",
            "[86]\ttraining's binary_logloss: 0.0685973\ttraining's auc: 0.540531\tvalid_1's binary_logloss: 0.0724091\tvalid_1's auc: 0.529395\n",
            "[87]\ttraining's binary_logloss: 0.0538393\ttraining's auc: 0.54422\tvalid_1's binary_logloss: 0.0575042\tvalid_1's auc: 0.529977\n",
            "[88]\ttraining's binary_logloss: 0.0503764\ttraining's auc: 0.54393\tvalid_1's binary_logloss: 0.0542705\tvalid_1's auc: 0.528985\n",
            "[89]\ttraining's binary_logloss: 0.0527676\ttraining's auc: 0.543314\tvalid_1's binary_logloss: 0.0573139\tvalid_1's auc: 0.526834\n",
            "[90]\ttraining's binary_logloss: 0.0511787\ttraining's auc: 0.542287\tvalid_1's binary_logloss: 0.0552036\tvalid_1's auc: 0.525653\n",
            "[91]\ttraining's binary_logloss: 0.0547037\ttraining's auc: 0.542644\tvalid_1's binary_logloss: 0.0588044\tvalid_1's auc: 0.52325\n",
            "[92]\ttraining's binary_logloss: 0.045286\ttraining's auc: 0.497551\tvalid_1's binary_logloss: 0.0474188\tvalid_1's auc: 0.485643\n",
            "[93]\ttraining's binary_logloss: 0.0535698\ttraining's auc: 0.504365\tvalid_1's binary_logloss: 0.0555289\tvalid_1's auc: 0.492663\n",
            "[94]\ttraining's binary_logloss: 0.0945927\ttraining's auc: 0.531034\tvalid_1's binary_logloss: 0.0945396\tvalid_1's auc: 0.518289\n",
            "[95]\ttraining's binary_logloss: 0.104564\ttraining's auc: 0.53252\tvalid_1's binary_logloss: 0.104203\tvalid_1's auc: 0.518339\n",
            "[96]\ttraining's binary_logloss: 0.104473\ttraining's auc: 0.531539\tvalid_1's binary_logloss: 0.103253\tvalid_1's auc: 0.515493\n",
            "[97]\ttraining's binary_logloss: 0.0806134\ttraining's auc: 0.518718\tvalid_1's binary_logloss: 0.0811228\tvalid_1's auc: 0.495374\n",
            "[98]\ttraining's binary_logloss: 0.0476411\ttraining's auc: 0.518452\tvalid_1's binary_logloss: 0.0498531\tvalid_1's auc: 0.494373\n",
            "[99]\ttraining's binary_logloss: 0.0493997\ttraining's auc: 0.533171\tvalid_1's binary_logloss: 0.051625\tvalid_1's auc: 0.513545\n",
            "[100]\ttraining's binary_logloss: 0.0491118\ttraining's auc: 0.532982\tvalid_1's binary_logloss: 0.0515692\tvalid_1's auc: 0.513664\n"
          ],
          "name": "stdout"
        },
        {
          "output_type": "execute_result",
          "data": {
            "text/plain": [
              "LGBMClassifier(boosting_type='gbdt', class_weight=None, colsample_bytree=1.0,\n",
              "        importance_type='split', learning_rate=0.1, max_depth=-1,\n",
              "        min_child_samples=20, min_child_weight=0.001, min_split_gain=0.0,\n",
              "        n_estimators=100, n_jobs=-1, num_leaves=31, objective=None,\n",
              "        random_state=None, reg_alpha=0.0, reg_lambda=0.0, silent=True,\n",
              "        subsample=1.0, subsample_for_bin=200000, subsample_freq=0)"
            ]
          },
          "metadata": {
            "tags": []
          },
          "execution_count": 57
        }
      ]
    },
    {
      "metadata": {
        "id": "GEcn1RVBh7pH",
        "colab_type": "code",
        "outputId": "8ef12341-5480-40a4-c6d0-f6be762ab80a",
        "colab": {
          "base_uri": "https://localhost:8080/",
          "height": 51
        }
      },
      "cell_type": "code",
      "source": [
        "from sklearn import metrics\n",
        "from sklearn import preprocessing\n",
        "from sklearn.model_selection import GridSearchCV\n",
        "from sklearn.model_selection import cross_val_score\n",
        "\n",
        "\n",
        "prd0 = clfl0.predict(X_test)\n",
        "prdprob0 = clfl0.predict_proba(X_test)\n",
        "print(\"Accuracy: \" , (metrics.accuracy_score(y_test, prd0)))\n",
        "print(\"AUC(train): \" , (metrics.roc_auc_score(y_test, prdprob0[:, 1])))\n",
        "\n"
      ],
      "execution_count": 0,
      "outputs": [
        {
          "output_type": "stream",
          "text": [
            "Accuracy:  0.997858\n",
            "AUC(train):  0.5115259766055624\n"
          ],
          "name": "stdout"
        }
      ]
    },
    {
      "metadata": {
        "id": "rdASYZPDpR3P",
        "colab_type": "code",
        "outputId": "cf1cda23-acf1-4dc6-9273-c8bb43ecfe33",
        "colab": {
          "base_uri": "https://localhost:8080/",
          "height": 1802
        }
      },
      "cell_type": "code",
      "source": [
        "clfl0.fit(X_train, y_train, eval_metric='auc', eval_set = eval_set, early_stopping_rounds=100)\n",
        "prd0 = clfl0.predict(X_test)\n",
        "prdprob0 = clfl0.predict_proba(X_test)\n",
        "print(\"Accuracy: \" , (metrics.accuracy_score(y_test, prd0)))\n",
        "print(\"AUC(train): \" , (metrics.roc_auc_score(y_test, prdprob0[:, 1])))"
      ],
      "execution_count": 0,
      "outputs": [
        {
          "output_type": "stream",
          "text": [
            "[1]\tvalid_0's binary_logloss: 0.0241407\tvalid_0's auc: 0.855326\tvalid_1's binary_logloss: 0.0237427\tvalid_1's auc: 0.860629\n",
            "Training until validation scores don't improve for 100 rounds.\n",
            "[2]\tvalid_0's binary_logloss: 0.0271433\tvalid_0's auc: 0.537573\tvalid_1's binary_logloss: 0.0248064\tvalid_1's auc: 0.554217\n",
            "[3]\tvalid_0's binary_logloss: 0.0433725\tvalid_0's auc: 0.554519\tvalid_1's binary_logloss: 0.0430363\tvalid_1's auc: 0.56568\n",
            "[4]\tvalid_0's binary_logloss: 0.0391328\tvalid_0's auc: 0.396067\tvalid_1's binary_logloss: 0.0361418\tvalid_1's auc: 0.412127\n",
            "[5]\tvalid_0's binary_logloss: 0.0393926\tvalid_0's auc: 0.397127\tvalid_1's binary_logloss: 0.0365514\tvalid_1's auc: 0.41428\n",
            "[6]\tvalid_0's binary_logloss: 0.0352931\tvalid_0's auc: 0.512897\tvalid_1's binary_logloss: 0.0321932\tvalid_1's auc: 0.539523\n",
            "[7]\tvalid_0's binary_logloss: 0.0689652\tvalid_0's auc: 0.70321\tvalid_1's binary_logloss: 0.0700282\tvalid_1's auc: 0.732852\n",
            "[8]\tvalid_0's binary_logloss: 0.0586459\tvalid_0's auc: 0.602394\tvalid_1's binary_logloss: 0.0575643\tvalid_1's auc: 0.618468\n",
            "[9]\tvalid_0's binary_logloss: 0.0409624\tvalid_0's auc: 0.51311\tvalid_1's binary_logloss: 0.0399216\tvalid_1's auc: 0.530628\n",
            "[10]\tvalid_0's binary_logloss: 0.0429547\tvalid_0's auc: 0.521321\tvalid_1's binary_logloss: 0.0430581\tvalid_1's auc: 0.536003\n",
            "[11]\tvalid_0's binary_logloss: 0.0418432\tvalid_0's auc: 0.520445\tvalid_1's binary_logloss: 0.0414007\tvalid_1's auc: 0.532316\n",
            "[12]\tvalid_0's binary_logloss: 0.040956\tvalid_0's auc: 0.509349\tvalid_1's binary_logloss: 0.0407229\tvalid_1's auc: 0.520013\n",
            "[13]\tvalid_0's binary_logloss: 0.0405123\tvalid_0's auc: 0.519668\tvalid_1's binary_logloss: 0.0402972\tvalid_1's auc: 0.529682\n",
            "[14]\tvalid_0's binary_logloss: 0.0430236\tvalid_0's auc: 0.537221\tvalid_1's binary_logloss: 0.0426155\tvalid_1's auc: 0.547015\n",
            "[15]\tvalid_0's binary_logloss: 0.0431852\tvalid_0's auc: 0.540045\tvalid_1's binary_logloss: 0.0434169\tvalid_1's auc: 0.546989\n",
            "[16]\tvalid_0's binary_logloss: 0.04124\tvalid_0's auc: 0.52564\tvalid_1's binary_logloss: 0.0406427\tvalid_1's auc: 0.535825\n",
            "[17]\tvalid_0's binary_logloss: 0.0411154\tvalid_0's auc: 0.52719\tvalid_1's binary_logloss: 0.0403457\tvalid_1's auc: 0.538246\n",
            "[18]\tvalid_0's binary_logloss: 0.0420889\tvalid_0's auc: 0.518057\tvalid_1's binary_logloss: 0.0410795\tvalid_1's auc: 0.533435\n",
            "[19]\tvalid_0's binary_logloss: 0.0506904\tvalid_0's auc: 0.570084\tvalid_1's binary_logloss: 0.0507404\tvalid_1's auc: 0.582065\n",
            "[20]\tvalid_0's binary_logloss: 0.0499815\tvalid_0's auc: 0.567818\tvalid_1's binary_logloss: 0.0495142\tvalid_1's auc: 0.578507\n",
            "[21]\tvalid_0's binary_logloss: 0.0480651\tvalid_0's auc: 0.562879\tvalid_1's binary_logloss: 0.0481986\tvalid_1's auc: 0.572574\n",
            "[22]\tvalid_0's binary_logloss: 0.0450889\tvalid_0's auc: 0.547585\tvalid_1's binary_logloss: 0.045649\tvalid_1's auc: 0.55357\n",
            "[23]\tvalid_0's binary_logloss: 0.0453517\tvalid_0's auc: 0.527403\tvalid_1's binary_logloss: 0.0455582\tvalid_1's auc: 0.541509\n",
            "[24]\tvalid_0's binary_logloss: 0.0450453\tvalid_0's auc: 0.526624\tvalid_1's binary_logloss: 0.0456779\tvalid_1's auc: 0.539637\n",
            "[25]\tvalid_0's binary_logloss: 0.0448066\tvalid_0's auc: 0.516832\tvalid_1's binary_logloss: 0.0454813\tvalid_1's auc: 0.5295\n",
            "[26]\tvalid_0's binary_logloss: 0.0439858\tvalid_0's auc: 0.517706\tvalid_1's binary_logloss: 0.0443199\tvalid_1's auc: 0.531237\n",
            "[27]\tvalid_0's binary_logloss: 0.0432278\tvalid_0's auc: 0.518875\tvalid_1's binary_logloss: 0.0426582\tvalid_1's auc: 0.525487\n",
            "[28]\tvalid_0's binary_logloss: 0.0427533\tvalid_0's auc: 0.50112\tvalid_1's binary_logloss: 0.0420051\tvalid_1's auc: 0.508946\n",
            "[29]\tvalid_0's binary_logloss: 0.0427265\tvalid_0's auc: 0.499978\tvalid_1's binary_logloss: 0.0418822\tvalid_1's auc: 0.506157\n",
            "[30]\tvalid_0's binary_logloss: 0.0490024\tvalid_0's auc: 0.53285\tvalid_1's binary_logloss: 0.0490358\tvalid_1's auc: 0.542308\n",
            "[31]\tvalid_0's binary_logloss: 0.0472411\tvalid_0's auc: 0.530726\tvalid_1's binary_logloss: 0.0470413\tvalid_1's auc: 0.541997\n",
            "[32]\tvalid_0's binary_logloss: 0.0441326\tvalid_0's auc: 0.576485\tvalid_1's binary_logloss: 0.0450007\tvalid_1's auc: 0.569754\n",
            "[33]\tvalid_0's binary_logloss: 0.0441582\tvalid_0's auc: 0.539756\tvalid_1's binary_logloss: 0.044754\tvalid_1's auc: 0.542375\n",
            "[34]\tvalid_0's binary_logloss: 0.0450625\tvalid_0's auc: 0.536249\tvalid_1's binary_logloss: 0.0454978\tvalid_1's auc: 0.538673\n",
            "[35]\tvalid_0's binary_logloss: 0.0452307\tvalid_0's auc: 0.533636\tvalid_1's binary_logloss: 0.0456464\tvalid_1's auc: 0.534314\n",
            "[36]\tvalid_0's binary_logloss: 0.0442915\tvalid_0's auc: 0.532283\tvalid_1's binary_logloss: 0.0451921\tvalid_1's auc: 0.533005\n",
            "[37]\tvalid_0's binary_logloss: 0.043726\tvalid_0's auc: 0.524562\tvalid_1's binary_logloss: 0.0438439\tvalid_1's auc: 0.528327\n",
            "[38]\tvalid_0's binary_logloss: 0.0433817\tvalid_0's auc: 0.520292\tvalid_1's binary_logloss: 0.0437702\tvalid_1's auc: 0.52463\n",
            "[39]\tvalid_0's binary_logloss: 0.0436415\tvalid_0's auc: 0.51932\tvalid_1's binary_logloss: 0.0437404\tvalid_1's auc: 0.524621\n",
            "[40]\tvalid_0's binary_logloss: 0.0442098\tvalid_0's auc: 0.523611\tvalid_1's binary_logloss: 0.0448286\tvalid_1's auc: 0.529117\n",
            "[41]\tvalid_0's binary_logloss: 0.0571093\tvalid_0's auc: 0.60486\tvalid_1's binary_logloss: 0.0586547\tvalid_1's auc: 0.607752\n",
            "[42]\tvalid_0's binary_logloss: 0.0448293\tvalid_0's auc: 0.522861\tvalid_1's binary_logloss: 0.0450021\tvalid_1's auc: 0.524125\n",
            "[43]\tvalid_0's binary_logloss: 0.0514137\tvalid_0's auc: 0.523124\tvalid_1's binary_logloss: 0.0504639\tvalid_1's auc: 0.525037\n",
            "[44]\tvalid_0's binary_logloss: 0.0466101\tvalid_0's auc: 0.521189\tvalid_1's binary_logloss: 0.0466676\tvalid_1's auc: 0.523003\n",
            "[45]\tvalid_0's binary_logloss: 0.0482609\tvalid_0's auc: 0.526119\tvalid_1's binary_logloss: 0.0484402\tvalid_1's auc: 0.521673\n",
            "[46]\tvalid_0's binary_logloss: 0.0467666\tvalid_0's auc: 0.518297\tvalid_1's binary_logloss: 0.0481561\tvalid_1's auc: 0.512168\n",
            "[47]\tvalid_0's binary_logloss: 0.0458442\tvalid_0's auc: 0.518168\tvalid_1's binary_logloss: 0.0469702\tvalid_1's auc: 0.513315\n",
            "[48]\tvalid_0's binary_logloss: 0.0466358\tvalid_0's auc: 0.521438\tvalid_1's binary_logloss: 0.0472462\tvalid_1's auc: 0.516035\n",
            "[49]\tvalid_0's binary_logloss: 0.0455384\tvalid_0's auc: 0.531233\tvalid_1's binary_logloss: 0.0465995\tvalid_1's auc: 0.52753\n",
            "[50]\tvalid_0's binary_logloss: 0.0457162\tvalid_0's auc: 0.515438\tvalid_1's binary_logloss: 0.046689\tvalid_1's auc: 0.514381\n",
            "[51]\tvalid_0's binary_logloss: 0.0462198\tvalid_0's auc: 0.533754\tvalid_1's binary_logloss: 0.0471044\tvalid_1's auc: 0.53256\n",
            "[52]\tvalid_0's binary_logloss: 0.0482565\tvalid_0's auc: 0.5327\tvalid_1's binary_logloss: 0.0488962\tvalid_1's auc: 0.532626\n",
            "[53]\tvalid_0's binary_logloss: 0.0491613\tvalid_0's auc: 0.543675\tvalid_1's binary_logloss: 0.0505406\tvalid_1's auc: 0.545885\n",
            "[54]\tvalid_0's binary_logloss: 0.0521614\tvalid_0's auc: 0.54257\tvalid_1's binary_logloss: 0.0548366\tvalid_1's auc: 0.543518\n",
            "[55]\tvalid_0's binary_logloss: 0.0484294\tvalid_0's auc: 0.538813\tvalid_1's binary_logloss: 0.050385\tvalid_1's auc: 0.541255\n",
            "[56]\tvalid_0's binary_logloss: 0.0504542\tvalid_0's auc: 0.524813\tvalid_1's binary_logloss: 0.0531885\tvalid_1's auc: 0.532048\n",
            "[57]\tvalid_0's binary_logloss: 0.0483521\tvalid_0's auc: 0.520916\tvalid_1's binary_logloss: 0.0511033\tvalid_1's auc: 0.530441\n",
            "[58]\tvalid_0's binary_logloss: 0.0476025\tvalid_0's auc: 0.507535\tvalid_1's binary_logloss: 0.050259\tvalid_1's auc: 0.517512\n",
            "[59]\tvalid_0's binary_logloss: 0.0535316\tvalid_0's auc: 0.541231\tvalid_1's binary_logloss: 0.056396\tvalid_1's auc: 0.551753\n",
            "[60]\tvalid_0's binary_logloss: 0.0504794\tvalid_0's auc: 0.524467\tvalid_1's binary_logloss: 0.0523519\tvalid_1's auc: 0.541104\n",
            "[61]\tvalid_0's binary_logloss: 0.0555487\tvalid_0's auc: 0.518739\tvalid_1's binary_logloss: 0.0576841\tvalid_1's auc: 0.531581\n",
            "[62]\tvalid_0's binary_logloss: 0.0555636\tvalid_0's auc: 0.517752\tvalid_1's binary_logloss: 0.0600145\tvalid_1's auc: 0.530506\n",
            "[63]\tvalid_0's binary_logloss: 0.0597155\tvalid_0's auc: 0.513249\tvalid_1's binary_logloss: 0.0613018\tvalid_1's auc: 0.521543\n",
            "[64]\tvalid_0's binary_logloss: 0.0461931\tvalid_0's auc: 0.509803\tvalid_1's binary_logloss: 0.0497578\tvalid_1's auc: 0.51232\n",
            "[65]\tvalid_0's binary_logloss: 0.0473137\tvalid_0's auc: 0.521163\tvalid_1's binary_logloss: 0.0510637\tvalid_1's auc: 0.520138\n",
            "[66]\tvalid_0's binary_logloss: 0.0458488\tvalid_0's auc: 0.520857\tvalid_1's binary_logloss: 0.0495475\tvalid_1's auc: 0.519097\n",
            "[67]\tvalid_0's binary_logloss: 0.0476418\tvalid_0's auc: 0.534239\tvalid_1's binary_logloss: 0.0517102\tvalid_1's auc: 0.532216\n",
            "[68]\tvalid_0's binary_logloss: 0.0679126\tvalid_0's auc: 0.533239\tvalid_1's binary_logloss: 0.0710842\tvalid_1's auc: 0.532014\n",
            "[69]\tvalid_0's binary_logloss: 0.0476351\tvalid_0's auc: 0.531709\tvalid_1's binary_logloss: 0.0510005\tvalid_1's auc: 0.532316\n",
            "[70]\tvalid_0's binary_logloss: 0.0509514\tvalid_0's auc: 0.532109\tvalid_1's binary_logloss: 0.0554648\tvalid_1's auc: 0.532308\n",
            "[71]\tvalid_0's binary_logloss: 0.105376\tvalid_0's auc: 0.535272\tvalid_1's binary_logloss: 0.108345\tvalid_1's auc: 0.531686\n",
            "[72]\tvalid_0's binary_logloss: 0.0484861\tvalid_0's auc: 0.533781\tvalid_1's binary_logloss: 0.0528958\tvalid_1's auc: 0.52658\n",
            "[73]\tvalid_0's binary_logloss: 0.0578649\tvalid_0's auc: 0.51282\tvalid_1's binary_logloss: 0.0622155\tvalid_1's auc: 0.505992\n",
            "[74]\tvalid_0's binary_logloss: 0.0438628\tvalid_0's auc: 0.511105\tvalid_1's binary_logloss: 0.0476219\tvalid_1's auc: 0.505717\n",
            "[75]\tvalid_0's binary_logloss: 0.0729697\tvalid_0's auc: 0.542697\tvalid_1's binary_logloss: 0.0757059\tvalid_1's auc: 0.537639\n",
            "[76]\tvalid_0's binary_logloss: 0.0924289\tvalid_0's auc: 0.540398\tvalid_1's binary_logloss: 0.096182\tvalid_1's auc: 0.537877\n",
            "[77]\tvalid_0's binary_logloss: 0.0506075\tvalid_0's auc: 0.541571\tvalid_1's binary_logloss: 0.0536066\tvalid_1's auc: 0.539814\n",
            "[78]\tvalid_0's binary_logloss: 0.0495541\tvalid_0's auc: 0.537047\tvalid_1's binary_logloss: 0.0525559\tvalid_1's auc: 0.53151\n",
            "[79]\tvalid_0's binary_logloss: 0.0578246\tvalid_0's auc: 0.58684\tvalid_1's binary_logloss: 0.0637505\tvalid_1's auc: 0.576341\n",
            "[80]\tvalid_0's binary_logloss: 0.0570079\tvalid_0's auc: 0.586698\tvalid_1's binary_logloss: 0.0631237\tvalid_1's auc: 0.572964\n",
            "[81]\tvalid_0's binary_logloss: 0.0572646\tvalid_0's auc: 0.581589\tvalid_1's binary_logloss: 0.063495\tvalid_1's auc: 0.563337\n",
            "[82]\tvalid_0's binary_logloss: 0.0571193\tvalid_0's auc: 0.579406\tvalid_1's binary_logloss: 0.0634431\tvalid_1's auc: 0.56323\n",
            "[83]\tvalid_0's binary_logloss: 0.0549104\tvalid_0's auc: 0.570517\tvalid_1's binary_logloss: 0.0611569\tvalid_1's auc: 0.554971\n",
            "[84]\tvalid_0's binary_logloss: 0.0511719\tvalid_0's auc: 0.540319\tvalid_1's binary_logloss: 0.05465\tvalid_1's auc: 0.530019\n",
            "[85]\tvalid_0's binary_logloss: 0.0497477\tvalid_0's auc: 0.539728\tvalid_1's binary_logloss: 0.0536713\tvalid_1's auc: 0.527656\n",
            "[86]\tvalid_0's binary_logloss: 0.0685973\tvalid_0's auc: 0.540531\tvalid_1's binary_logloss: 0.0724091\tvalid_1's auc: 0.529395\n",
            "[87]\tvalid_0's binary_logloss: 0.0538393\tvalid_0's auc: 0.54422\tvalid_1's binary_logloss: 0.0575042\tvalid_1's auc: 0.529977\n",
            "[88]\tvalid_0's binary_logloss: 0.0503764\tvalid_0's auc: 0.54393\tvalid_1's binary_logloss: 0.0542705\tvalid_1's auc: 0.528985\n",
            "[89]\tvalid_0's binary_logloss: 0.0527676\tvalid_0's auc: 0.543314\tvalid_1's binary_logloss: 0.0573139\tvalid_1's auc: 0.526834\n",
            "[90]\tvalid_0's binary_logloss: 0.0511787\tvalid_0's auc: 0.542287\tvalid_1's binary_logloss: 0.0552036\tvalid_1's auc: 0.525653\n",
            "[91]\tvalid_0's binary_logloss: 0.0547037\tvalid_0's auc: 0.542644\tvalid_1's binary_logloss: 0.0588044\tvalid_1's auc: 0.52325\n",
            "[92]\tvalid_0's binary_logloss: 0.045286\tvalid_0's auc: 0.497551\tvalid_1's binary_logloss: 0.0474188\tvalid_1's auc: 0.485643\n",
            "[93]\tvalid_0's binary_logloss: 0.0535698\tvalid_0's auc: 0.504365\tvalid_1's binary_logloss: 0.0555289\tvalid_1's auc: 0.492663\n",
            "[94]\tvalid_0's binary_logloss: 0.0945927\tvalid_0's auc: 0.531034\tvalid_1's binary_logloss: 0.0945396\tvalid_1's auc: 0.518289\n",
            "[95]\tvalid_0's binary_logloss: 0.104564\tvalid_0's auc: 0.53252\tvalid_1's binary_logloss: 0.104203\tvalid_1's auc: 0.518339\n",
            "[96]\tvalid_0's binary_logloss: 0.104473\tvalid_0's auc: 0.531539\tvalid_1's binary_logloss: 0.103253\tvalid_1's auc: 0.515493\n",
            "[97]\tvalid_0's binary_logloss: 0.0806134\tvalid_0's auc: 0.518718\tvalid_1's binary_logloss: 0.0811228\tvalid_1's auc: 0.495374\n",
            "[98]\tvalid_0's binary_logloss: 0.0476411\tvalid_0's auc: 0.518452\tvalid_1's binary_logloss: 0.0498531\tvalid_1's auc: 0.494373\n",
            "[99]\tvalid_0's binary_logloss: 0.0493997\tvalid_0's auc: 0.533171\tvalid_1's binary_logloss: 0.051625\tvalid_1's auc: 0.513545\n",
            "[100]\tvalid_0's binary_logloss: 0.0491118\tvalid_0's auc: 0.532982\tvalid_1's binary_logloss: 0.0515692\tvalid_1's auc: 0.513664\n",
            "Did not meet early stopping. Best iteration is:\n",
            "[1]\tvalid_0's binary_logloss: 0.0241407\tvalid_0's auc: 0.855326\tvalid_1's binary_logloss: 0.0237427\tvalid_1's auc: 0.860629\n",
            "Accuracy:  0.996682\n",
            "AUC(train):  0.8606288089956715\n"
          ],
          "name": "stdout"
        }
      ]
    },
    {
      "metadata": {
        "id": "V9jiC1qLp869",
        "colab_type": "code",
        "outputId": "50b85bad-759e-4e12-c6ba-1858164d44f0",
        "colab": {
          "base_uri": "https://localhost:8080/",
          "height": 51
        }
      },
      "cell_type": "code",
      "source": [
        "X_train, X_test, y_train, y_test = train_test_split(train[features1], train[target], test_size=0.25, random_state=42)\n",
        "\n",
        "clfl1 = LGBMClassifier()\n",
        "\n",
        "#eval_set = [(X_train, y_train), (X_test, y_test)]\n",
        "clfl1.fit(X_train, y_train)\n",
        "\n",
        "prd1 = clfl1.predict(X_test)\n",
        "prdprob1 = clfl1.predict_proba(X_test)\n",
        "print(\"Accuracy: \" , (metrics.accuracy_score(y_test, prd1)))\n",
        "print(\"AUC(train): \" , (metrics.roc_auc_score(y_test, prdprob1[:, 1])))"
      ],
      "execution_count": 0,
      "outputs": [
        {
          "output_type": "stream",
          "text": [
            "Accuracy:  0.998014\n",
            "AUC(train):  0.5792869999273367\n"
          ],
          "name": "stdout"
        }
      ]
    },
    {
      "metadata": {
        "id": "w2X67yRcrHIE",
        "colab_type": "code",
        "outputId": "79685090-b900-457c-ece4-306ef074e112",
        "colab": {
          "base_uri": "https://localhost:8080/",
          "height": 1802
        }
      },
      "cell_type": "code",
      "source": [
        "eval_set = [(X_train, y_train), (X_test, y_test)]\n",
        "clfl1.fit(X_train, y_train, eval_metric='auc', eval_set = eval_set, early_stopping_rounds=100)\n",
        "prd1 = clfl1.predict(X_test)\n",
        "prdprob1 = clfl1.predict_proba(X_test)\n",
        "print(\"Accuracy: \" , (metrics.accuracy_score(y_test, prd1)))\n",
        "print(\"AUC(train): \" , (metrics.roc_auc_score(y_test, prdprob1[:, 1])))"
      ],
      "execution_count": 0,
      "outputs": [
        {
          "output_type": "stream",
          "text": [
            "[1]\ttraining's binary_logloss: 0.0239613\ttraining's auc: 0.85533\tvalid_1's binary_logloss: 0.0235998\tvalid_1's auc: 0.86064\n",
            "Training until validation scores don't improve for 100 rounds.\n",
            "[2]\ttraining's binary_logloss: 0.0263313\ttraining's auc: 0.560417\tvalid_1's binary_logloss: 0.0242213\tvalid_1's auc: 0.571135\n",
            "[3]\ttraining's binary_logloss: 0.0410684\ttraining's auc: 0.577942\tvalid_1's binary_logloss: 0.0413899\tvalid_1's auc: 0.587028\n",
            "[4]\ttraining's binary_logloss: 0.0361558\ttraining's auc: 0.543285\tvalid_1's binary_logloss: 0.0356277\tvalid_1's auc: 0.54857\n",
            "[5]\ttraining's binary_logloss: 0.0413037\ttraining's auc: 0.534027\tvalid_1's binary_logloss: 0.0409897\tvalid_1's auc: 0.549834\n",
            "[6]\ttraining's binary_logloss: 0.040782\ttraining's auc: 0.526994\tvalid_1's binary_logloss: 0.040755\tvalid_1's auc: 0.543249\n",
            "[7]\ttraining's binary_logloss: 0.0394156\ttraining's auc: 0.513591\tvalid_1's binary_logloss: 0.0377514\tvalid_1's auc: 0.536239\n",
            "[8]\ttraining's binary_logloss: 0.0403208\ttraining's auc: 0.517508\tvalid_1's binary_logloss: 0.0394469\tvalid_1's auc: 0.542325\n",
            "[9]\ttraining's binary_logloss: 0.0416021\ttraining's auc: 0.503388\tvalid_1's binary_logloss: 0.0407577\tvalid_1's auc: 0.521586\n",
            "[10]\ttraining's binary_logloss: 0.0419461\ttraining's auc: 0.492523\tvalid_1's binary_logloss: 0.0402433\tvalid_1's auc: 0.51554\n",
            "[11]\ttraining's binary_logloss: 0.0399585\ttraining's auc: 0.485744\tvalid_1's binary_logloss: 0.0391121\tvalid_1's auc: 0.515245\n",
            "[12]\ttraining's binary_logloss: 0.0399858\ttraining's auc: 0.553555\tvalid_1's binary_logloss: 0.0394723\tvalid_1's auc: 0.584802\n",
            "[13]\ttraining's binary_logloss: 0.041073\ttraining's auc: 0.558195\tvalid_1's binary_logloss: 0.0404907\tvalid_1's auc: 0.574958\n",
            "[14]\ttraining's binary_logloss: 0.0419019\ttraining's auc: 0.552468\tvalid_1's binary_logloss: 0.0413518\tvalid_1's auc: 0.564503\n",
            "[15]\ttraining's binary_logloss: 0.0401271\ttraining's auc: 0.550034\tvalid_1's binary_logloss: 0.0398301\tvalid_1's auc: 0.562559\n",
            "[16]\ttraining's binary_logloss: 0.0589116\ttraining's auc: 0.644825\tvalid_1's binary_logloss: 0.0621409\tvalid_1's auc: 0.652555\n",
            "[17]\ttraining's binary_logloss: 0.0484149\ttraining's auc: 0.579309\tvalid_1's binary_logloss: 0.0506368\tvalid_1's auc: 0.594749\n",
            "[18]\ttraining's binary_logloss: 0.0505922\ttraining's auc: 0.577427\tvalid_1's binary_logloss: 0.0531561\tvalid_1's auc: 0.597057\n",
            "[19]\ttraining's binary_logloss: 0.0491538\ttraining's auc: 0.57245\tvalid_1's binary_logloss: 0.0525964\tvalid_1's auc: 0.587431\n",
            "[20]\ttraining's binary_logloss: 0.0491266\ttraining's auc: 0.570135\tvalid_1's binary_logloss: 0.0518547\tvalid_1's auc: 0.586245\n",
            "[21]\ttraining's binary_logloss: 0.0449292\ttraining's auc: 0.53244\tvalid_1's binary_logloss: 0.047394\tvalid_1's auc: 0.546679\n",
            "[22]\ttraining's binary_logloss: 0.0439606\ttraining's auc: 0.534639\tvalid_1's binary_logloss: 0.0467685\tvalid_1's auc: 0.5468\n",
            "[23]\ttraining's binary_logloss: 0.0501454\ttraining's auc: 0.53136\tvalid_1's binary_logloss: 0.0529763\tvalid_1's auc: 0.538228\n",
            "[24]\ttraining's binary_logloss: 0.0468815\ttraining's auc: 0.528319\tvalid_1's binary_logloss: 0.0496516\tvalid_1's auc: 0.537058\n",
            "[25]\ttraining's binary_logloss: 0.0442366\ttraining's auc: 0.526082\tvalid_1's binary_logloss: 0.0470934\tvalid_1's auc: 0.537095\n",
            "[26]\ttraining's binary_logloss: 0.0435293\ttraining's auc: 0.527192\tvalid_1's binary_logloss: 0.0464409\tvalid_1's auc: 0.537056\n",
            "[27]\ttraining's binary_logloss: 0.0460872\ttraining's auc: 0.554993\tvalid_1's binary_logloss: 0.0497699\tvalid_1's auc: 0.562573\n",
            "[28]\ttraining's binary_logloss: 0.0462484\ttraining's auc: 0.555026\tvalid_1's binary_logloss: 0.0504122\tvalid_1's auc: 0.563787\n",
            "[29]\ttraining's binary_logloss: 0.0464338\ttraining's auc: 0.553271\tvalid_1's binary_logloss: 0.0503369\tvalid_1's auc: 0.56383\n",
            "[30]\ttraining's binary_logloss: 0.0483419\ttraining's auc: 0.550408\tvalid_1's binary_logloss: 0.0511394\tvalid_1's auc: 0.560236\n",
            "[31]\ttraining's binary_logloss: 0.0474137\ttraining's auc: 0.564835\tvalid_1's binary_logloss: 0.0505652\tvalid_1's auc: 0.572309\n",
            "[32]\ttraining's binary_logloss: 0.0592105\ttraining's auc: 0.561301\tvalid_1's binary_logloss: 0.0629969\tvalid_1's auc: 0.566143\n",
            "[33]\ttraining's binary_logloss: 0.0450224\ttraining's auc: 0.562839\tvalid_1's binary_logloss: 0.0491566\tvalid_1's auc: 0.566534\n",
            "[34]\ttraining's binary_logloss: 0.0459218\ttraining's auc: 0.56169\tvalid_1's binary_logloss: 0.0493997\tvalid_1's auc: 0.561724\n",
            "[35]\ttraining's binary_logloss: 0.0461063\ttraining's auc: 0.560072\tvalid_1's binary_logloss: 0.0502996\tvalid_1's auc: 0.560539\n",
            "[36]\ttraining's binary_logloss: 0.0448068\ttraining's auc: 0.559439\tvalid_1's binary_logloss: 0.0487492\tvalid_1's auc: 0.558172\n",
            "[37]\ttraining's binary_logloss: 0.0468964\ttraining's auc: 0.562\tvalid_1's binary_logloss: 0.0500292\tvalid_1's auc: 0.560782\n",
            "[38]\ttraining's binary_logloss: 0.0452411\ttraining's auc: 0.558588\tvalid_1's binary_logloss: 0.0481289\tvalid_1's auc: 0.557281\n",
            "[39]\ttraining's binary_logloss: 0.0445797\ttraining's auc: 0.560203\tvalid_1's binary_logloss: 0.0476077\tvalid_1's auc: 0.55613\n",
            "[40]\ttraining's binary_logloss: 0.0512136\ttraining's auc: 0.56589\tvalid_1's binary_logloss: 0.0543666\tvalid_1's auc: 0.558472\n",
            "[41]\ttraining's binary_logloss: 0.0582094\ttraining's auc: 0.554364\tvalid_1's binary_logloss: 0.0595104\tvalid_1's auc: 0.54887\n",
            "[42]\ttraining's binary_logloss: 0.0442041\ttraining's auc: 0.55124\tvalid_1's binary_logloss: 0.0455978\tvalid_1's auc: 0.548374\n",
            "[43]\ttraining's binary_logloss: 0.0488791\ttraining's auc: 0.552839\tvalid_1's binary_logloss: 0.0511407\tvalid_1's auc: 0.54951\n",
            "[44]\ttraining's binary_logloss: 0.0437268\ttraining's auc: 0.552834\tvalid_1's binary_logloss: 0.0462796\tvalid_1's auc: 0.549654\n",
            "[45]\ttraining's binary_logloss: 0.0456853\ttraining's auc: 0.569825\tvalid_1's binary_logloss: 0.0487046\tvalid_1's auc: 0.56174\n",
            "[46]\ttraining's binary_logloss: 0.044161\ttraining's auc: 0.563734\tvalid_1's binary_logloss: 0.0462952\tvalid_1's auc: 0.559431\n",
            "[47]\ttraining's binary_logloss: 0.0439924\ttraining's auc: 0.553325\tvalid_1's binary_logloss: 0.0454419\tvalid_1's auc: 0.547455\n",
            "[48]\ttraining's binary_logloss: 0.0431309\ttraining's auc: 0.552214\tvalid_1's binary_logloss: 0.0451925\tvalid_1's auc: 0.548697\n",
            "[49]\ttraining's binary_logloss: 0.0454492\ttraining's auc: 0.556414\tvalid_1's binary_logloss: 0.0482571\tvalid_1's auc: 0.552245\n",
            "[50]\ttraining's binary_logloss: 0.0562528\ttraining's auc: 0.559346\tvalid_1's binary_logloss: 0.060969\tvalid_1's auc: 0.553272\n",
            "[51]\ttraining's binary_logloss: 0.0464072\ttraining's auc: 0.55832\tvalid_1's binary_logloss: 0.0495422\tvalid_1's auc: 0.552638\n",
            "[52]\ttraining's binary_logloss: 0.043841\ttraining's auc: 0.553739\tvalid_1's binary_logloss: 0.0465512\tvalid_1's auc: 0.546703\n",
            "[53]\ttraining's binary_logloss: 0.0443778\ttraining's auc: 0.552989\tvalid_1's binary_logloss: 0.0474716\tvalid_1's auc: 0.545521\n",
            "[54]\ttraining's binary_logloss: 0.101486\ttraining's auc: 0.549996\tvalid_1's binary_logloss: 0.103027\tvalid_1's auc: 0.543678\n",
            "[55]\ttraining's binary_logloss: 0.0439046\ttraining's auc: 0.552869\tvalid_1's binary_logloss: 0.047787\tvalid_1's auc: 0.542466\n",
            "[56]\ttraining's binary_logloss: 0.0450161\ttraining's auc: 0.5506\tvalid_1's binary_logloss: 0.0489582\tvalid_1's auc: 0.5413\n",
            "[57]\ttraining's binary_logloss: 0.0434142\ttraining's auc: 0.557536\tvalid_1's binary_logloss: 0.0470987\tvalid_1's auc: 0.543726\n",
            "[58]\ttraining's binary_logloss: 0.0429458\ttraining's auc: 0.550071\tvalid_1's binary_logloss: 0.0465509\tvalid_1's auc: 0.539811\n",
            "[59]\ttraining's binary_logloss: 0.045667\ttraining's auc: 0.559877\tvalid_1's binary_logloss: 0.049692\tvalid_1's auc: 0.553587\n",
            "[60]\ttraining's binary_logloss: 0.0447815\ttraining's auc: 0.558761\tvalid_1's binary_logloss: 0.0485656\tvalid_1's auc: 0.552417\n",
            "[61]\ttraining's binary_logloss: 0.0427243\ttraining's auc: 0.558526\tvalid_1's binary_logloss: 0.0468488\tvalid_1's auc: 0.546977\n",
            "[62]\ttraining's binary_logloss: 0.0423208\ttraining's auc: 0.557794\tvalid_1's binary_logloss: 0.0463881\tvalid_1's auc: 0.544358\n",
            "[63]\ttraining's binary_logloss: 0.0420712\ttraining's auc: 0.561146\tvalid_1's binary_logloss: 0.0461486\tvalid_1's auc: 0.546162\n",
            "[64]\ttraining's binary_logloss: 0.0418344\ttraining's auc: 0.55368\tvalid_1's binary_logloss: 0.0461643\tvalid_1's auc: 0.535316\n",
            "[65]\ttraining's binary_logloss: 0.0444823\ttraining's auc: 0.572736\tvalid_1's binary_logloss: 0.0485488\tvalid_1's auc: 0.547199\n",
            "[66]\ttraining's binary_logloss: 0.0445891\ttraining's auc: 0.57089\tvalid_1's binary_logloss: 0.0485122\tvalid_1's auc: 0.544755\n",
            "[67]\ttraining's binary_logloss: 0.0442669\ttraining's auc: 0.570912\tvalid_1's binary_logloss: 0.0485273\tvalid_1's auc: 0.545965\n",
            "[68]\ttraining's binary_logloss: 0.0447989\ttraining's auc: 0.568258\tvalid_1's binary_logloss: 0.0488423\tvalid_1's auc: 0.545967\n",
            "[69]\ttraining's binary_logloss: 0.0438521\ttraining's auc: 0.56061\tvalid_1's binary_logloss: 0.0479651\tvalid_1's auc: 0.543604\n",
            "[70]\ttraining's binary_logloss: 0.0617363\ttraining's auc: 0.569051\tvalid_1's binary_logloss: 0.0647321\tvalid_1's auc: 0.552437\n",
            "[71]\ttraining's binary_logloss: 0.0439575\ttraining's auc: 0.568329\tvalid_1's binary_logloss: 0.0478991\tvalid_1's auc: 0.554866\n",
            "[72]\ttraining's binary_logloss: 0.0438305\ttraining's auc: 0.568369\tvalid_1's binary_logloss: 0.0481573\tvalid_1's auc: 0.554914\n",
            "[73]\ttraining's binary_logloss: 0.0484123\ttraining's auc: 0.577586\tvalid_1's binary_logloss: 0.0525266\tvalid_1's auc: 0.570364\n",
            "[74]\ttraining's binary_logloss: 0.0446376\ttraining's auc: 0.57273\tvalid_1's binary_logloss: 0.0486083\tvalid_1's auc: 0.566951\n",
            "[75]\ttraining's binary_logloss: 0.0450889\ttraining's auc: 0.572356\tvalid_1's binary_logloss: 0.0490154\tvalid_1's auc: 0.56577\n",
            "[76]\ttraining's binary_logloss: 0.0435633\ttraining's auc: 0.560084\tvalid_1's binary_logloss: 0.0483602\tvalid_1's auc: 0.545476\n",
            "[77]\ttraining's binary_logloss: 0.0445672\ttraining's auc: 0.565036\tvalid_1's binary_logloss: 0.0495421\tvalid_1's auc: 0.54835\n",
            "[78]\ttraining's binary_logloss: 0.0477822\ttraining's auc: 0.568073\tvalid_1's binary_logloss: 0.0518669\tvalid_1's auc: 0.551927\n",
            "[79]\ttraining's binary_logloss: 0.0441253\ttraining's auc: 0.563187\tvalid_1's binary_logloss: 0.0487932\tvalid_1's auc: 0.548399\n",
            "[80]\ttraining's binary_logloss: 0.044553\ttraining's auc: 0.571275\tvalid_1's binary_logloss: 0.049926\tvalid_1's auc: 0.555596\n",
            "[81]\ttraining's binary_logloss: 0.0445897\ttraining's auc: 0.568633\tvalid_1's binary_logloss: 0.0494685\tvalid_1's auc: 0.555625\n",
            "[82]\ttraining's binary_logloss: 0.0764635\ttraining's auc: 0.566682\tvalid_1's binary_logloss: 0.0828316\tvalid_1's auc: 0.552817\n",
            "[83]\ttraining's binary_logloss: 0.0453962\ttraining's auc: 0.567295\tvalid_1's binary_logloss: 0.0505724\tvalid_1's auc: 0.55384\n",
            "[84]\ttraining's binary_logloss: 0.0512289\ttraining's auc: 0.565346\tvalid_1's binary_logloss: 0.0561011\tvalid_1's auc: 0.550246\n",
            "[85]\ttraining's binary_logloss: 0.0446754\ttraining's auc: 0.565541\tvalid_1's binary_logloss: 0.0498086\tvalid_1's auc: 0.555203\n",
            "[86]\ttraining's binary_logloss: 0.0442367\ttraining's auc: 0.565549\tvalid_1's binary_logloss: 0.0498631\tvalid_1's auc: 0.555204\n",
            "[87]\ttraining's binary_logloss: 0.0439798\ttraining's auc: 0.565576\tvalid_1's binary_logloss: 0.0494041\tvalid_1's auc: 0.555232\n",
            "[88]\ttraining's binary_logloss: 0.0461343\ttraining's auc: 0.574352\tvalid_1's binary_logloss: 0.0519384\tvalid_1's auc: 0.557606\n",
            "[89]\ttraining's binary_logloss: 0.0485113\ttraining's auc: 0.574723\tvalid_1's binary_logloss: 0.0540011\tvalid_1's auc: 0.557611\n",
            "[90]\ttraining's binary_logloss: 0.0449609\ttraining's auc: 0.571406\tvalid_1's binary_logloss: 0.0496884\tvalid_1's auc: 0.556538\n",
            "[91]\ttraining's binary_logloss: 0.0448378\ttraining's auc: 0.570767\tvalid_1's binary_logloss: 0.0491801\tvalid_1's auc: 0.557869\n",
            "[92]\ttraining's binary_logloss: 0.0441975\ttraining's auc: 0.566588\tvalid_1's binary_logloss: 0.0484323\tvalid_1's auc: 0.55669\n",
            "[93]\ttraining's binary_logloss: 0.0440654\ttraining's auc: 0.564117\tvalid_1's binary_logloss: 0.0481312\tvalid_1's auc: 0.550756\n",
            "[94]\ttraining's binary_logloss: 0.0438562\ttraining's auc: 0.566685\tvalid_1's binary_logloss: 0.0481742\tvalid_1's auc: 0.549234\n",
            "[95]\ttraining's binary_logloss: 0.0437699\ttraining's auc: 0.567256\tvalid_1's binary_logloss: 0.0483732\tvalid_1's auc: 0.548069\n",
            "[96]\ttraining's binary_logloss: 0.0441948\ttraining's auc: 0.560041\tvalid_1's binary_logloss: 0.0490656\tvalid_1's auc: 0.53231\n",
            "[97]\ttraining's binary_logloss: 0.0452411\ttraining's auc: 0.5999\tvalid_1's binary_logloss: 0.0505124\tvalid_1's auc: 0.586817\n",
            "[98]\ttraining's binary_logloss: 0.0470599\ttraining's auc: 0.603504\tvalid_1's binary_logloss: 0.0516147\tvalid_1's auc: 0.587358\n",
            "[99]\ttraining's binary_logloss: 0.0439048\ttraining's auc: 0.595991\tvalid_1's binary_logloss: 0.0490222\tvalid_1's auc: 0.577934\n",
            "[100]\ttraining's binary_logloss: 0.0440369\ttraining's auc: 0.600832\tvalid_1's binary_logloss: 0.0499369\tvalid_1's auc: 0.580363\n",
            "Did not meet early stopping. Best iteration is:\n",
            "[1]\ttraining's binary_logloss: 0.0239613\ttraining's auc: 0.85533\tvalid_1's binary_logloss: 0.0235998\tvalid_1's auc: 0.86064\n",
            "Accuracy:  0.99674\n",
            "AUC(train):  0.8606402003414247\n"
          ],
          "name": "stdout"
        }
      ]
    },
    {
      "metadata": {
        "id": "IErOUOiPpRsA",
        "colab_type": "code",
        "outputId": "5121ef74-4b5b-46cf-cdf4-2f60380a5e5b",
        "colab": {
          "base_uri": "https://localhost:8080/",
          "height": 51
        }
      },
      "cell_type": "code",
      "source": [
        "X_train, X_test, y_train, y_test = train_test_split(train[features2], train[target], test_size=0.25, random_state=42)\n",
        "\n",
        "clfl2 = LGBMClassifier()\n",
        "\n",
        "#eval_set = [(X_train, y_train), (X_test, y_test)]\n",
        "clfl2.fit(X_train, y_train)\n",
        "\n",
        "prd2 = clfl2.predict(X_test)\n",
        "prdprob2 = clfl2.predict_proba(X_test)\n",
        "print(\"Accuracy: \" , (metrics.accuracy_score(y_test, prd2)))\n",
        "print(\"AUC(train): \" , (metrics.roc_auc_score(y_test, prdprob2[:, 1])))"
      ],
      "execution_count": 0,
      "outputs": [
        {
          "output_type": "stream",
          "text": [
            "Accuracy:  0.99791\n",
            "AUC(train):  0.6345771946245082\n"
          ],
          "name": "stdout"
        }
      ]
    },
    {
      "metadata": {
        "id": "RHRqoKVXpJik",
        "colab_type": "code",
        "outputId": "088da673-7320-4c64-c4a5-8c38318b75dc",
        "colab": {
          "base_uri": "https://localhost:8080/",
          "height": 1802
        }
      },
      "cell_type": "code",
      "source": [
        "eval_set = [(X_train, y_train), (X_test, y_test)]\n",
        "clfl2.fit(X_train, y_train, eval_metric='auc', eval_set = eval_set, early_stopping_rounds=100)\n",
        "prd2 = clfl2.predict(X_test)\n",
        "prdprob2 = clfl2.predict_proba(X_test)\n",
        "\n",
        "print(\"Accuracy: \" , (metrics.accuracy_score(y_test, prd2)))\n",
        "print(\"AUC(train): \" , (metrics.roc_auc_score(y_test, prdprob2[:, 1])))"
      ],
      "execution_count": 0,
      "outputs": [
        {
          "output_type": "stream",
          "text": [
            "[1]\ttraining's binary_logloss: 0.0242176\ttraining's auc: 0.855403\tvalid_1's binary_logloss: 0.024683\tvalid_1's auc: 0.862011\n",
            "Training until validation scores don't improve for 100 rounds.\n",
            "[2]\ttraining's binary_logloss: 0.0282753\ttraining's auc: 0.590818\tvalid_1's binary_logloss: 0.0273095\tvalid_1's auc: 0.596828\n",
            "[3]\ttraining's binary_logloss: 0.0320343\ttraining's auc: 0.435797\tvalid_1's binary_logloss: 0.0306936\tvalid_1's auc: 0.452386\n",
            "[4]\ttraining's binary_logloss: 0.0301205\ttraining's auc: 0.550233\tvalid_1's binary_logloss: 0.0296422\tvalid_1's auc: 0.549095\n",
            "[5]\ttraining's binary_logloss: 0.0481373\ttraining's auc: 0.7681\tvalid_1's binary_logloss: 0.0516145\tvalid_1's auc: 0.768222\n",
            "[6]\ttraining's binary_logloss: 0.0456649\ttraining's auc: 0.716106\tvalid_1's binary_logloss: 0.0480504\tvalid_1's auc: 0.712703\n",
            "[7]\ttraining's binary_logloss: 0.0455302\ttraining's auc: 0.724164\tvalid_1's binary_logloss: 0.0481526\tvalid_1's auc: 0.71842\n",
            "[8]\ttraining's binary_logloss: 0.0437533\ttraining's auc: 0.723703\tvalid_1's binary_logloss: 0.0459977\tvalid_1's auc: 0.72152\n",
            "[9]\ttraining's binary_logloss: 0.0438492\ttraining's auc: 0.717533\tvalid_1's binary_logloss: 0.0462553\tvalid_1's auc: 0.717944\n",
            "[10]\ttraining's binary_logloss: 0.0452284\ttraining's auc: 0.700881\tvalid_1's binary_logloss: 0.0471412\tvalid_1's auc: 0.701847\n",
            "[11]\ttraining's binary_logloss: 0.04515\ttraining's auc: 0.681556\tvalid_1's binary_logloss: 0.0473908\tvalid_1's auc: 0.669751\n",
            "[12]\ttraining's binary_logloss: 0.0440284\ttraining's auc: 0.686653\tvalid_1's binary_logloss: 0.0457025\tvalid_1's auc: 0.669962\n",
            "[13]\ttraining's binary_logloss: 0.0431523\ttraining's auc: 0.671899\tvalid_1's binary_logloss: 0.044549\tvalid_1's auc: 0.65433\n",
            "[14]\ttraining's binary_logloss: 0.0432154\ttraining's auc: 0.670744\tvalid_1's binary_logloss: 0.0446751\tvalid_1's auc: 0.653126\n",
            "[15]\ttraining's binary_logloss: 0.0408749\ttraining's auc: 0.644605\tvalid_1's binary_logloss: 0.04258\tvalid_1's auc: 0.622287\n",
            "[16]\ttraining's binary_logloss: 0.0359632\ttraining's auc: 0.598474\tvalid_1's binary_logloss: 0.0386112\tvalid_1's auc: 0.560712\n",
            "[17]\ttraining's binary_logloss: 0.0363351\ttraining's auc: 0.584558\tvalid_1's binary_logloss: 0.0375793\tvalid_1's auc: 0.550407\n",
            "[18]\ttraining's binary_logloss: 0.037211\ttraining's auc: 0.600564\tvalid_1's binary_logloss: 0.0397856\tvalid_1's auc: 0.56447\n",
            "[19]\ttraining's binary_logloss: 0.0411292\ttraining's auc: 0.665516\tvalid_1's binary_logloss: 0.0452358\tvalid_1's auc: 0.634872\n",
            "[20]\ttraining's binary_logloss: 0.0378187\ttraining's auc: 0.623418\tvalid_1's binary_logloss: 0.0411986\tvalid_1's auc: 0.580042\n",
            "[21]\ttraining's binary_logloss: 0.0378865\ttraining's auc: 0.622933\tvalid_1's binary_logloss: 0.0407819\tvalid_1's auc: 0.584071\n",
            "[22]\ttraining's binary_logloss: 0.0414194\ttraining's auc: 0.624185\tvalid_1's binary_logloss: 0.0435948\tvalid_1's auc: 0.586045\n",
            "[23]\ttraining's binary_logloss: 0.0389375\ttraining's auc: 0.625318\tvalid_1's binary_logloss: 0.041751\tvalid_1's auc: 0.587314\n",
            "[24]\ttraining's binary_logloss: 0.0405047\ttraining's auc: 0.645341\tvalid_1's binary_logloss: 0.0433322\tvalid_1's auc: 0.604598\n",
            "[25]\ttraining's binary_logloss: 0.0375293\ttraining's auc: 0.610108\tvalid_1's binary_logloss: 0.0407024\tvalid_1's auc: 0.574499\n",
            "[26]\ttraining's binary_logloss: 0.0399483\ttraining's auc: 0.623016\tvalid_1's binary_logloss: 0.043394\tvalid_1's auc: 0.597244\n",
            "[27]\ttraining's binary_logloss: 0.0486555\ttraining's auc: 0.623011\tvalid_1's binary_logloss: 0.0515797\tvalid_1's auc: 0.599675\n",
            "[28]\ttraining's binary_logloss: 0.037819\ttraining's auc: 0.623398\tvalid_1's binary_logloss: 0.0413113\tvalid_1's auc: 0.598852\n",
            "[29]\ttraining's binary_logloss: 0.0431777\ttraining's auc: 0.628306\tvalid_1's binary_logloss: 0.0461382\tvalid_1's auc: 0.603845\n",
            "[30]\ttraining's binary_logloss: 0.0377807\ttraining's auc: 0.627851\tvalid_1's binary_logloss: 0.0412655\tvalid_1's auc: 0.604337\n",
            "[31]\ttraining's binary_logloss: 0.0419578\ttraining's auc: 0.655475\tvalid_1's binary_logloss: 0.0457482\tvalid_1's auc: 0.629653\n",
            "[32]\ttraining's binary_logloss: 0.0437202\ttraining's auc: 0.655142\tvalid_1's binary_logloss: 0.0480787\tvalid_1's auc: 0.629624\n",
            "[33]\ttraining's binary_logloss: 0.0418711\ttraining's auc: 0.64567\tvalid_1's binary_logloss: 0.0452375\tvalid_1's auc: 0.624854\n",
            "[34]\ttraining's binary_logloss: 0.0493777\ttraining's auc: 0.633314\tvalid_1's binary_logloss: 0.0515002\tvalid_1's auc: 0.617207\n",
            "[35]\ttraining's binary_logloss: 0.0398718\ttraining's auc: 0.634716\tvalid_1's binary_logloss: 0.0436021\tvalid_1's auc: 0.615686\n",
            "[36]\ttraining's binary_logloss: 0.0398936\ttraining's auc: 0.633971\tvalid_1's binary_logloss: 0.0435386\tvalid_1's auc: 0.614023\n",
            "[37]\ttraining's binary_logloss: 0.040303\ttraining's auc: 0.635841\tvalid_1's binary_logloss: 0.0445544\tvalid_1's auc: 0.616949\n",
            "[38]\ttraining's binary_logloss: 0.0454225\ttraining's auc: 0.638333\tvalid_1's binary_logloss: 0.0494005\tvalid_1's auc: 0.619814\n",
            "[39]\ttraining's binary_logloss: 0.0536104\ttraining's auc: 0.635872\tvalid_1's binary_logloss: 0.056851\tvalid_1's auc: 0.618529\n",
            "[40]\ttraining's binary_logloss: 0.0401479\ttraining's auc: 0.635449\tvalid_1's binary_logloss: 0.0443419\tvalid_1's auc: 0.617951\n",
            "[41]\ttraining's binary_logloss: 0.0396045\ttraining's auc: 0.634942\tvalid_1's binary_logloss: 0.0437765\tvalid_1's auc: 0.618074\n",
            "[42]\ttraining's binary_logloss: 0.040436\ttraining's auc: 0.636844\tvalid_1's binary_logloss: 0.0444027\tvalid_1's auc: 0.619092\n",
            "[43]\ttraining's binary_logloss: 0.0398609\ttraining's auc: 0.636541\tvalid_1's binary_logloss: 0.0443607\tvalid_1's auc: 0.615776\n",
            "[44]\ttraining's binary_logloss: 0.0410623\ttraining's auc: 0.636438\tvalid_1's binary_logloss: 0.0453954\tvalid_1's auc: 0.615255\n",
            "[45]\ttraining's binary_logloss: 0.039086\ttraining's auc: 0.633198\tvalid_1's binary_logloss: 0.0435793\tvalid_1's auc: 0.613203\n",
            "[46]\ttraining's binary_logloss: 0.0397279\ttraining's auc: 0.632647\tvalid_1's binary_logloss: 0.0440581\tvalid_1's auc: 0.610388\n",
            "[47]\ttraining's binary_logloss: 0.0656415\ttraining's auc: 0.631469\tvalid_1's binary_logloss: 0.067844\tvalid_1's auc: 0.609355\n",
            "[48]\ttraining's binary_logloss: 0.0389437\ttraining's auc: 0.631813\tvalid_1's binary_logloss: 0.0434427\tvalid_1's auc: 0.610931\n",
            "[49]\ttraining's binary_logloss: 0.0392108\ttraining's auc: 0.631709\tvalid_1's binary_logloss: 0.0435875\tvalid_1's auc: 0.611176\n",
            "[50]\ttraining's binary_logloss: 0.0389096\ttraining's auc: 0.631948\tvalid_1's binary_logloss: 0.0442618\tvalid_1's auc: 0.611357\n",
            "[51]\ttraining's binary_logloss: 0.0388933\ttraining's auc: 0.646908\tvalid_1's binary_logloss: 0.0443377\tvalid_1's auc: 0.629724\n",
            "[52]\ttraining's binary_logloss: 0.0411169\ttraining's auc: 0.63771\tvalid_1's binary_logloss: 0.0454035\tvalid_1's auc: 0.621671\n",
            "[53]\ttraining's binary_logloss: 0.0392134\ttraining's auc: 0.636693\tvalid_1's binary_logloss: 0.0440068\tvalid_1's auc: 0.620797\n",
            "[54]\ttraining's binary_logloss: 0.0392544\ttraining's auc: 0.635547\tvalid_1's binary_logloss: 0.0438544\tvalid_1's auc: 0.619705\n",
            "[55]\ttraining's binary_logloss: 0.0391088\ttraining's auc: 0.634268\tvalid_1's binary_logloss: 0.0433424\tvalid_1's auc: 0.619893\n",
            "[56]\ttraining's binary_logloss: 0.0414276\ttraining's auc: 0.633143\tvalid_1's binary_logloss: 0.045892\tvalid_1's auc: 0.617573\n",
            "[57]\ttraining's binary_logloss: 0.0408599\ttraining's auc: 0.633165\tvalid_1's binary_logloss: 0.0460598\tvalid_1's auc: 0.616412\n",
            "[58]\ttraining's binary_logloss: 0.0399881\ttraining's auc: 0.632786\tvalid_1's binary_logloss: 0.0445529\tvalid_1's auc: 0.61613\n",
            "[59]\ttraining's binary_logloss: 0.0400087\ttraining's auc: 0.632781\tvalid_1's binary_logloss: 0.0450941\tvalid_1's auc: 0.616085\n",
            "[60]\ttraining's binary_logloss: 0.042198\ttraining's auc: 0.624649\tvalid_1's binary_logloss: 0.0469877\tvalid_1's auc: 0.607448\n",
            "[61]\ttraining's binary_logloss: 0.0418746\ttraining's auc: 0.624335\tvalid_1's binary_logloss: 0.0470901\tvalid_1's auc: 0.607358\n",
            "[62]\ttraining's binary_logloss: 0.03913\ttraining's auc: 0.624058\tvalid_1's binary_logloss: 0.0445635\tvalid_1's auc: 0.605056\n",
            "[63]\ttraining's binary_logloss: 0.0387352\ttraining's auc: 0.621202\tvalid_1's binary_logloss: 0.0442416\tvalid_1's auc: 0.600893\n",
            "[64]\ttraining's binary_logloss: 0.0387626\ttraining's auc: 0.620838\tvalid_1's binary_logloss: 0.0443902\tvalid_1's auc: 0.602123\n",
            "[65]\ttraining's binary_logloss: 0.0402511\ttraining's auc: 0.625577\tvalid_1's binary_logloss: 0.0457794\tvalid_1's auc: 0.612356\n",
            "[66]\ttraining's binary_logloss: 0.0397464\ttraining's auc: 0.6256\tvalid_1's binary_logloss: 0.0450326\tvalid_1's auc: 0.612406\n",
            "[67]\ttraining's binary_logloss: 0.0405625\ttraining's auc: 0.625591\tvalid_1's binary_logloss: 0.0462927\tvalid_1's auc: 0.612415\n",
            "[68]\ttraining's binary_logloss: 0.0406368\ttraining's auc: 0.625814\tvalid_1's binary_logloss: 0.0455026\tvalid_1's auc: 0.61244\n",
            "[69]\ttraining's binary_logloss: 0.0400541\ttraining's auc: 0.625851\tvalid_1's binary_logloss: 0.045284\tvalid_1's auc: 0.611271\n",
            "[70]\ttraining's binary_logloss: 0.0399508\ttraining's auc: 0.625501\tvalid_1's binary_logloss: 0.045145\tvalid_1's auc: 0.611302\n",
            "[71]\ttraining's binary_logloss: 0.0396447\ttraining's auc: 0.6252\tvalid_1's binary_logloss: 0.0446612\tvalid_1's auc: 0.611328\n",
            "[72]\ttraining's binary_logloss: 0.0395\ttraining's auc: 0.625158\tvalid_1's binary_logloss: 0.0449919\tvalid_1's auc: 0.611338\n",
            "[73]\ttraining's binary_logloss: 0.0437672\ttraining's auc: 0.625893\tvalid_1's binary_logloss: 0.0493428\tvalid_1's auc: 0.611304\n",
            "[74]\ttraining's binary_logloss: 0.0412113\ttraining's auc: 0.626043\tvalid_1's binary_logloss: 0.0471271\tvalid_1's auc: 0.611455\n",
            "[75]\ttraining's binary_logloss: 0.0396309\ttraining's auc: 0.626162\tvalid_1's binary_logloss: 0.0456066\tvalid_1's auc: 0.611579\n",
            "[76]\ttraining's binary_logloss: 0.0390994\ttraining's auc: 0.626049\tvalid_1's binary_logloss: 0.0445858\tvalid_1's auc: 0.611404\n",
            "[77]\ttraining's binary_logloss: 0.0404201\ttraining's auc: 0.626068\tvalid_1's binary_logloss: 0.0458784\tvalid_1's auc: 0.61099\n",
            "[78]\ttraining's binary_logloss: 0.0538435\ttraining's auc: 0.735314\tvalid_1's binary_logloss: 0.0621145\tvalid_1's auc: 0.703733\n",
            "[79]\ttraining's binary_logloss: 0.0482462\ttraining's auc: 0.70573\tvalid_1's binary_logloss: 0.0564448\tvalid_1's auc: 0.672712\n",
            "[80]\ttraining's binary_logloss: 0.0353397\ttraining's auc: 0.570049\tvalid_1's binary_logloss: 0.040855\tvalid_1's auc: 0.540842\n",
            "[81]\ttraining's binary_logloss: 0.0378894\ttraining's auc: 0.584868\tvalid_1's binary_logloss: 0.0427654\tvalid_1's auc: 0.556221\n",
            "[82]\ttraining's binary_logloss: 0.0586935\ttraining's auc: 0.582672\tvalid_1's binary_logloss: 0.0638302\tvalid_1's auc: 0.55307\n",
            "[83]\ttraining's binary_logloss: 0.0405893\ttraining's auc: 0.582262\tvalid_1's binary_logloss: 0.0460573\tvalid_1's auc: 0.550658\n",
            "[84]\ttraining's binary_logloss: 0.046621\ttraining's auc: 0.647277\tvalid_1's binary_logloss: 0.051081\tvalid_1's auc: 0.603513\n",
            "[85]\ttraining's binary_logloss: 0.045362\ttraining's auc: 0.646437\tvalid_1's binary_logloss: 0.0502574\tvalid_1's auc: 0.602929\n",
            "[86]\ttraining's binary_logloss: 0.0449345\ttraining's auc: 0.644792\tvalid_1's binary_logloss: 0.0498653\tvalid_1's auc: 0.601796\n",
            "[87]\ttraining's binary_logloss: 0.0477793\ttraining's auc: 0.64371\tvalid_1's binary_logloss: 0.0527656\tvalid_1's auc: 0.603138\n",
            "[88]\ttraining's binary_logloss: 0.0455988\ttraining's auc: 0.642517\tvalid_1's binary_logloss: 0.0504738\tvalid_1's auc: 0.602221\n",
            "[89]\ttraining's binary_logloss: 0.0451039\ttraining's auc: 0.630669\tvalid_1's binary_logloss: 0.0504314\tvalid_1's auc: 0.595153\n",
            "[90]\ttraining's binary_logloss: 0.0453667\ttraining's auc: 0.630612\tvalid_1's binary_logloss: 0.050878\tvalid_1's auc: 0.594334\n",
            "[91]\ttraining's binary_logloss: 0.0459525\ttraining's auc: 0.630869\tvalid_1's binary_logloss: 0.0515649\tvalid_1's auc: 0.59354\n",
            "[92]\ttraining's binary_logloss: 0.0458815\ttraining's auc: 0.633857\tvalid_1's binary_logloss: 0.051122\tvalid_1's auc: 0.594758\n",
            "[93]\ttraining's binary_logloss: 0.0456922\ttraining's auc: 0.633594\tvalid_1's binary_logloss: 0.0511502\tvalid_1's auc: 0.592248\n",
            "[94]\ttraining's binary_logloss: 0.0552292\ttraining's auc: 0.648568\tvalid_1's binary_logloss: 0.0616866\tvalid_1's auc: 0.608804\n",
            "[95]\ttraining's binary_logloss: 0.0449752\ttraining's auc: 0.648224\tvalid_1's binary_logloss: 0.051012\tvalid_1's auc: 0.609261\n",
            "[96]\ttraining's binary_logloss: 0.0507905\ttraining's auc: 0.647873\tvalid_1's binary_logloss: 0.0568751\tvalid_1's auc: 0.608188\n",
            "[97]\ttraining's binary_logloss: 0.0711603\ttraining's auc: 0.645821\tvalid_1's binary_logloss: 0.079306\tvalid_1's auc: 0.608047\n",
            "[98]\ttraining's binary_logloss: 0.0441364\ttraining's auc: 0.646289\tvalid_1's binary_logloss: 0.0498199\tvalid_1's auc: 0.60903\n",
            "[99]\ttraining's binary_logloss: 0.0441424\ttraining's auc: 0.642436\tvalid_1's binary_logloss: 0.0492073\tvalid_1's auc: 0.607339\n",
            "[100]\ttraining's binary_logloss: 0.0446473\ttraining's auc: 0.654864\tvalid_1's binary_logloss: 0.0491117\tvalid_1's auc: 0.634446\n",
            "Did not meet early stopping. Best iteration is:\n",
            "[1]\ttraining's binary_logloss: 0.0242176\ttraining's auc: 0.855403\tvalid_1's binary_logloss: 0.024683\tvalid_1's auc: 0.862011\n",
            "Accuracy:  0.997336\n",
            "AUC(train):  0.8620095626330057\n"
          ],
          "name": "stdout"
        }
      ]
    },
    {
      "metadata": {
        "id": "v5Xqo-EEtdHY",
        "colab_type": "code",
        "outputId": "6bb5f7a3-99ef-4a29-c661-217089177a49",
        "colab": {
          "base_uri": "https://localhost:8080/",
          "height": 51
        }
      },
      "cell_type": "code",
      "source": [
        "X_train, X_test, y_train, y_test = train_test_split(train[features3], train[target], test_size=0.25, random_state=42)\n",
        "\n",
        "clfl3 = LGBMClassifier()\n",
        "\n",
        "#eval_set = [(X_train, y_train), (X_test, y_test)]\n",
        "clfl3.fit(X_train, y_train)\n",
        "\n",
        "prd3 = clfl3.predict(X_test)\n",
        "prdprob3 = clfl3.predict_proba(X_test)\n",
        "print(\"Accuracy: \" , (metrics.accuracy_score(y_test, prd3)))\n",
        "print(\"AUC(train): \" , (metrics.roc_auc_score(y_test, prdprob3[:, 1])))"
      ],
      "execution_count": 0,
      "outputs": [
        {
          "output_type": "stream",
          "text": [
            "Accuracy:  0.998012\n",
            "AUC(train):  0.7355036926096925\n"
          ],
          "name": "stdout"
        }
      ]
    },
    {
      "metadata": {
        "id": "QmUmxSagtsL_",
        "colab_type": "code",
        "outputId": "acd285ca-05a7-4f73-aca5-751837b3cc1f",
        "colab": {
          "base_uri": "https://localhost:8080/",
          "height": 1802
        }
      },
      "cell_type": "code",
      "source": [
        "eval_set = [(X_train, y_train), (X_test, y_test)]\n",
        "\n",
        "clfl3.fit(X_train, y_train, eval_metric='auc', eval_set = eval_set, early_stopping_rounds=100)\n",
        "prd3 = clfl3.predict(X_test)\n",
        "prdprob3 = clfl3.predict_proba(X_test)\n",
        "\n",
        "print(\"Accuracy: \" , (metrics.accuracy_score(y_test, prd3)))\n",
        "print(\"AUC(train): \" , (metrics.roc_auc_score(y_test, prdprob3[:, 1])))"
      ],
      "execution_count": 0,
      "outputs": [
        {
          "output_type": "stream",
          "text": [
            "[1]\ttraining's binary_logloss: 0.0195352\ttraining's auc: 0.872753\tvalid_1's binary_logloss: 0.0178204\tvalid_1's auc: 0.875659\n",
            "Training until validation scores don't improve for 100 rounds.\n",
            "[2]\ttraining's binary_logloss: 0.0210617\ttraining's auc: 0.73232\tvalid_1's binary_logloss: 0.0193656\tvalid_1's auc: 0.735194\n",
            "[3]\ttraining's binary_logloss: 0.0228719\ttraining's auc: 0.715162\tvalid_1's binary_logloss: 0.0217259\tvalid_1's auc: 0.725374\n",
            "[4]\ttraining's binary_logloss: 0.0238238\ttraining's auc: 0.723852\tvalid_1's binary_logloss: 0.0225674\tvalid_1's auc: 0.738257\n",
            "[5]\ttraining's binary_logloss: 0.0264101\ttraining's auc: 0.671211\tvalid_1's binary_logloss: 0.0269395\tvalid_1's auc: 0.652351\n",
            "[6]\ttraining's binary_logloss: 0.0244417\ttraining's auc: 0.696954\tvalid_1's binary_logloss: 0.0246054\tvalid_1's auc: 0.687471\n",
            "[7]\ttraining's binary_logloss: 0.0304989\ttraining's auc: 0.726557\tvalid_1's binary_logloss: 0.0294938\tvalid_1's auc: 0.718656\n",
            "[8]\ttraining's binary_logloss: 0.0298776\ttraining's auc: 0.690151\tvalid_1's binary_logloss: 0.0296435\tvalid_1's auc: 0.668411\n",
            "[9]\ttraining's binary_logloss: 0.0282003\ttraining's auc: 0.68728\tvalid_1's binary_logloss: 0.0271483\tvalid_1's auc: 0.685873\n",
            "[10]\ttraining's binary_logloss: 0.0262595\ttraining's auc: 0.701087\tvalid_1's binary_logloss: 0.0247723\tvalid_1's auc: 0.719574\n",
            "[11]\ttraining's binary_logloss: 0.0262644\ttraining's auc: 0.691686\tvalid_1's binary_logloss: 0.0251351\tvalid_1's auc: 0.703677\n",
            "[12]\ttraining's binary_logloss: 0.0263072\ttraining's auc: 0.703674\tvalid_1's binary_logloss: 0.024849\tvalid_1's auc: 0.717375\n",
            "[13]\ttraining's binary_logloss: 0.0264088\ttraining's auc: 0.704942\tvalid_1's binary_logloss: 0.0250318\tvalid_1's auc: 0.719441\n",
            "[14]\ttraining's binary_logloss: 0.027381\ttraining's auc: 0.730494\tvalid_1's binary_logloss: 0.0261041\tvalid_1's auc: 0.745126\n",
            "[15]\ttraining's binary_logloss: 0.0272347\ttraining's auc: 0.734922\tvalid_1's binary_logloss: 0.0262388\tvalid_1's auc: 0.74474\n",
            "[16]\ttraining's binary_logloss: 0.0271875\ttraining's auc: 0.731736\tvalid_1's binary_logloss: 0.0260682\tvalid_1's auc: 0.7379\n",
            "[17]\ttraining's binary_logloss: 0.0274681\ttraining's auc: 0.739798\tvalid_1's binary_logloss: 0.0263113\tvalid_1's auc: 0.74887\n",
            "[18]\ttraining's binary_logloss: 0.0269369\ttraining's auc: 0.750357\tvalid_1's binary_logloss: 0.0261765\tvalid_1's auc: 0.753619\n",
            "[19]\ttraining's binary_logloss: 0.0270162\ttraining's auc: 0.748235\tvalid_1's binary_logloss: 0.0263941\tvalid_1's auc: 0.749216\n",
            "[20]\ttraining's binary_logloss: 0.0270967\ttraining's auc: 0.752108\tvalid_1's binary_logloss: 0.0263883\tvalid_1's auc: 0.750487\n",
            "[21]\ttraining's binary_logloss: 0.0273166\ttraining's auc: 0.754753\tvalid_1's binary_logloss: 0.02689\tvalid_1's auc: 0.750746\n",
            "[22]\ttraining's binary_logloss: 0.028835\ttraining's auc: 0.751606\tvalid_1's binary_logloss: 0.0282723\tvalid_1's auc: 0.749586\n",
            "[23]\ttraining's binary_logloss: 0.0277029\ttraining's auc: 0.750794\tvalid_1's binary_logloss: 0.0279188\tvalid_1's auc: 0.745532\n",
            "[24]\ttraining's binary_logloss: 0.0266796\ttraining's auc: 0.745292\tvalid_1's binary_logloss: 0.0264856\tvalid_1's auc: 0.741171\n",
            "[25]\ttraining's binary_logloss: 0.0266327\ttraining's auc: 0.750605\tvalid_1's binary_logloss: 0.0264508\tvalid_1's auc: 0.748388\n",
            "[26]\ttraining's binary_logloss: 0.0264334\ttraining's auc: 0.754432\tvalid_1's binary_logloss: 0.0268751\tvalid_1's auc: 0.744717\n",
            "[27]\ttraining's binary_logloss: 0.026415\ttraining's auc: 0.754548\tvalid_1's binary_logloss: 0.0270468\tvalid_1's auc: 0.744548\n",
            "[28]\ttraining's binary_logloss: 0.0264778\ttraining's auc: 0.753648\tvalid_1's binary_logloss: 0.0271749\tvalid_1's auc: 0.745656\n",
            "[29]\ttraining's binary_logloss: 0.0273741\ttraining's auc: 0.756902\tvalid_1's binary_logloss: 0.0289309\tvalid_1's auc: 0.746042\n",
            "[30]\ttraining's binary_logloss: 0.027188\ttraining's auc: 0.747604\tvalid_1's binary_logloss: 0.028559\tvalid_1's auc: 0.744755\n",
            "[31]\ttraining's binary_logloss: 0.0280292\ttraining's auc: 0.750947\tvalid_1's binary_logloss: 0.0301532\tvalid_1's auc: 0.743989\n",
            "[32]\ttraining's binary_logloss: 0.0279914\ttraining's auc: 0.775693\tvalid_1's binary_logloss: 0.0294909\tvalid_1's auc: 0.769203\n",
            "[33]\ttraining's binary_logloss: 0.026863\ttraining's auc: 0.773805\tvalid_1's binary_logloss: 0.0293086\tvalid_1's auc: 0.763359\n",
            "[34]\ttraining's binary_logloss: 0.0277853\ttraining's auc: 0.773115\tvalid_1's binary_logloss: 0.0298313\tvalid_1's auc: 0.763297\n",
            "[35]\ttraining's binary_logloss: 0.0273156\ttraining's auc: 0.772179\tvalid_1's binary_logloss: 0.0296066\tvalid_1's auc: 0.763105\n",
            "[36]\ttraining's binary_logloss: 0.0271766\ttraining's auc: 0.770286\tvalid_1's binary_logloss: 0.029569\tvalid_1's auc: 0.757158\n",
            "[37]\ttraining's binary_logloss: 0.0280379\ttraining's auc: 0.757875\tvalid_1's binary_logloss: 0.0310122\tvalid_1's auc: 0.73994\n",
            "[38]\ttraining's binary_logloss: 0.0268097\ttraining's auc: 0.757706\tvalid_1's binary_logloss: 0.0301127\tvalid_1's auc: 0.739911\n",
            "[39]\ttraining's binary_logloss: 0.0266775\ttraining's auc: 0.757898\tvalid_1's binary_logloss: 0.0299288\tvalid_1's auc: 0.737688\n",
            "[40]\ttraining's binary_logloss: 0.0264508\ttraining's auc: 0.758628\tvalid_1's binary_logloss: 0.0297865\tvalid_1's auc: 0.738333\n",
            "[41]\ttraining's binary_logloss: 0.0269281\ttraining's auc: 0.758885\tvalid_1's binary_logloss: 0.030415\tvalid_1's auc: 0.738573\n",
            "[42]\ttraining's binary_logloss: 0.0278308\ttraining's auc: 0.75825\tvalid_1's binary_logloss: 0.0318209\tvalid_1's auc: 0.736834\n",
            "[43]\ttraining's binary_logloss: 0.0266082\ttraining's auc: 0.758909\tvalid_1's binary_logloss: 0.0302483\tvalid_1's auc: 0.736936\n",
            "[44]\ttraining's binary_logloss: 0.0268223\ttraining's auc: 0.763713\tvalid_1's binary_logloss: 0.0304663\tvalid_1's auc: 0.743038\n",
            "[45]\ttraining's binary_logloss: 0.0275635\ttraining's auc: 0.763725\tvalid_1's binary_logloss: 0.030975\tvalid_1's auc: 0.740359\n",
            "[46]\ttraining's binary_logloss: 0.0271698\ttraining's auc: 0.763004\tvalid_1's binary_logloss: 0.0306483\tvalid_1's auc: 0.740441\n",
            "[47]\ttraining's binary_logloss: 0.0272653\ttraining's auc: 0.762193\tvalid_1's binary_logloss: 0.0312524\tvalid_1's auc: 0.738903\n",
            "[48]\ttraining's binary_logloss: 0.0271719\ttraining's auc: 0.762073\tvalid_1's binary_logloss: 0.0308317\tvalid_1's auc: 0.73858\n",
            "[49]\ttraining's binary_logloss: 0.0269044\ttraining's auc: 0.756626\tvalid_1's binary_logloss: 0.030837\tvalid_1's auc: 0.73588\n",
            "[50]\ttraining's binary_logloss: 0.0275294\ttraining's auc: 0.756182\tvalid_1's binary_logloss: 0.0317262\tvalid_1's auc: 0.736818\n",
            "[51]\ttraining's binary_logloss: 0.0265214\ttraining's auc: 0.757172\tvalid_1's binary_logloss: 0.0311878\tvalid_1's auc: 0.735887\n",
            "[52]\ttraining's binary_logloss: 0.0262166\ttraining's auc: 0.757023\tvalid_1's binary_logloss: 0.0307325\tvalid_1's auc: 0.736059\n",
            "[53]\ttraining's binary_logloss: 0.0275345\ttraining's auc: 0.758849\tvalid_1's binary_logloss: 0.0325336\tvalid_1's auc: 0.737187\n",
            "[54]\ttraining's binary_logloss: 0.0279663\ttraining's auc: 0.758415\tvalid_1's binary_logloss: 0.0331852\tvalid_1's auc: 0.737117\n",
            "[55]\ttraining's binary_logloss: 0.0267558\ttraining's auc: 0.758215\tvalid_1's binary_logloss: 0.0316073\tvalid_1's auc: 0.737639\n",
            "[56]\ttraining's binary_logloss: 0.0269031\ttraining's auc: 0.765592\tvalid_1's binary_logloss: 0.0318536\tvalid_1's auc: 0.739062\n",
            "[57]\ttraining's binary_logloss: 0.0266948\ttraining's auc: 0.767065\tvalid_1's binary_logloss: 0.0326454\tvalid_1's auc: 0.738337\n",
            "[58]\ttraining's binary_logloss: 0.0264604\ttraining's auc: 0.766575\tvalid_1's binary_logloss: 0.0323457\tvalid_1's auc: 0.737204\n",
            "[59]\ttraining's binary_logloss: 0.0262709\ttraining's auc: 0.767191\tvalid_1's binary_logloss: 0.032303\tvalid_1's auc: 0.737916\n",
            "[60]\ttraining's binary_logloss: 0.0266927\ttraining's auc: 0.763961\tvalid_1's binary_logloss: 0.0327344\tvalid_1's auc: 0.736216\n",
            "[61]\ttraining's binary_logloss: 0.0272639\ttraining's auc: 0.763712\tvalid_1's binary_logloss: 0.0332034\tvalid_1's auc: 0.735773\n",
            "[62]\ttraining's binary_logloss: 0.0274063\ttraining's auc: 0.76285\tvalid_1's binary_logloss: 0.0338164\tvalid_1's auc: 0.734845\n",
            "[63]\ttraining's binary_logloss: 0.0283156\ttraining's auc: 0.762662\tvalid_1's binary_logloss: 0.0356023\tvalid_1's auc: 0.730689\n",
            "[64]\ttraining's binary_logloss: 0.0262039\ttraining's auc: 0.761118\tvalid_1's binary_logloss: 0.0326392\tvalid_1's auc: 0.72905\n",
            "[65]\ttraining's binary_logloss: 0.0274952\ttraining's auc: 0.760519\tvalid_1's binary_logloss: 0.0340822\tvalid_1's auc: 0.728929\n",
            "[66]\ttraining's binary_logloss: 0.0266145\ttraining's auc: 0.761382\tvalid_1's binary_logloss: 0.0331537\tvalid_1's auc: 0.73033\n",
            "[67]\ttraining's binary_logloss: 0.0290643\ttraining's auc: 0.761712\tvalid_1's binary_logloss: 0.0347822\tvalid_1's auc: 0.729401\n",
            "[68]\ttraining's binary_logloss: 0.0265628\ttraining's auc: 0.760895\tvalid_1's binary_logloss: 0.0336306\tvalid_1's auc: 0.7288\n",
            "[69]\ttraining's binary_logloss: 0.0316387\ttraining's auc: 0.761423\tvalid_1's binary_logloss: 0.0398738\tvalid_1's auc: 0.728623\n",
            "[70]\ttraining's binary_logloss: 0.0266934\ttraining's auc: 0.75993\tvalid_1's binary_logloss: 0.033662\tvalid_1's auc: 0.728688\n",
            "[71]\ttraining's binary_logloss: 0.0281957\ttraining's auc: 0.760731\tvalid_1's binary_logloss: 0.034798\tvalid_1's auc: 0.72897\n",
            "[72]\ttraining's binary_logloss: 0.0270552\ttraining's auc: 0.759064\tvalid_1's binary_logloss: 0.0337996\tvalid_1's auc: 0.728917\n",
            "[73]\ttraining's binary_logloss: 0.0269334\ttraining's auc: 0.759092\tvalid_1's binary_logloss: 0.0341854\tvalid_1's auc: 0.729909\n",
            "[74]\ttraining's binary_logloss: 0.0265909\ttraining's auc: 0.75809\tvalid_1's binary_logloss: 0.0334738\tvalid_1's auc: 0.728737\n",
            "[75]\ttraining's binary_logloss: 0.0276706\ttraining's auc: 0.759407\tvalid_1's binary_logloss: 0.0350672\tvalid_1's auc: 0.728889\n",
            "[76]\ttraining's binary_logloss: 0.0276015\ttraining's auc: 0.758965\tvalid_1's binary_logloss: 0.0346344\tvalid_1's auc: 0.727109\n",
            "[77]\ttraining's binary_logloss: 0.0285835\ttraining's auc: 0.755461\tvalid_1's binary_logloss: 0.0355551\tvalid_1's auc: 0.727004\n",
            "[78]\ttraining's binary_logloss: 0.0282429\ttraining's auc: 0.755735\tvalid_1's binary_logloss: 0.0353101\tvalid_1's auc: 0.727822\n",
            "[79]\ttraining's binary_logloss: 0.0271043\ttraining's auc: 0.755886\tvalid_1's binary_logloss: 0.0336033\tvalid_1's auc: 0.73029\n",
            "[80]\ttraining's binary_logloss: 0.0277631\ttraining's auc: 0.756922\tvalid_1's binary_logloss: 0.0343419\tvalid_1's auc: 0.730405\n",
            "[81]\ttraining's binary_logloss: 0.0272696\ttraining's auc: 0.756332\tvalid_1's binary_logloss: 0.0344111\tvalid_1's auc: 0.730981\n",
            "[82]\ttraining's binary_logloss: 0.0271904\ttraining's auc: 0.756486\tvalid_1's binary_logloss: 0.0342251\tvalid_1's auc: 0.731108\n",
            "[83]\ttraining's binary_logloss: 0.0271826\ttraining's auc: 0.756536\tvalid_1's binary_logloss: 0.0348908\tvalid_1's auc: 0.731198\n",
            "[84]\ttraining's binary_logloss: 0.0271863\ttraining's auc: 0.75589\tvalid_1's binary_logloss: 0.0349353\tvalid_1's auc: 0.730107\n",
            "[85]\ttraining's binary_logloss: 0.0269968\ttraining's auc: 0.754701\tvalid_1's binary_logloss: 0.0351184\tvalid_1's auc: 0.72781\n",
            "[86]\ttraining's binary_logloss: 0.0275081\ttraining's auc: 0.755213\tvalid_1's binary_logloss: 0.0360362\tvalid_1's auc: 0.727813\n",
            "[87]\ttraining's binary_logloss: 0.0269826\ttraining's auc: 0.754343\tvalid_1's binary_logloss: 0.035065\tvalid_1's auc: 0.728051\n",
            "[88]\ttraining's binary_logloss: 0.0269225\ttraining's auc: 0.759782\tvalid_1's binary_logloss: 0.034988\tvalid_1's auc: 0.736665\n",
            "[89]\ttraining's binary_logloss: 0.0269708\ttraining's auc: 0.759161\tvalid_1's binary_logloss: 0.0348608\tvalid_1's auc: 0.736537\n",
            "[90]\ttraining's binary_logloss: 0.0282341\ttraining's auc: 0.758494\tvalid_1's binary_logloss: 0.0363631\tvalid_1's auc: 0.736355\n",
            "[91]\ttraining's binary_logloss: 0.0283422\ttraining's auc: 0.757683\tvalid_1's binary_logloss: 0.0361288\tvalid_1's auc: 0.736189\n",
            "[92]\ttraining's binary_logloss: 0.0266404\ttraining's auc: 0.757975\tvalid_1's binary_logloss: 0.0347011\tvalid_1's auc: 0.736059\n",
            "[93]\ttraining's binary_logloss: 0.026545\ttraining's auc: 0.757839\tvalid_1's binary_logloss: 0.0347356\tvalid_1's auc: 0.735897\n",
            "[94]\ttraining's binary_logloss: 0.0266519\ttraining's auc: 0.754542\tvalid_1's binary_logloss: 0.0351879\tvalid_1's auc: 0.729627\n",
            "[95]\ttraining's binary_logloss: 0.0280583\ttraining's auc: 0.755164\tvalid_1's binary_logloss: 0.0371106\tvalid_1's auc: 0.728232\n",
            "[96]\ttraining's binary_logloss: 0.0275754\ttraining's auc: 0.753898\tvalid_1's binary_logloss: 0.0370901\tvalid_1's auc: 0.729316\n",
            "[97]\ttraining's binary_logloss: 0.0288009\ttraining's auc: 0.753782\tvalid_1's binary_logloss: 0.0370917\tvalid_1's auc: 0.729208\n",
            "[98]\ttraining's binary_logloss: 0.0270428\ttraining's auc: 0.751879\tvalid_1's binary_logloss: 0.0355905\tvalid_1's auc: 0.726895\n",
            "[99]\ttraining's binary_logloss: 0.0274867\ttraining's auc: 0.761637\tvalid_1's binary_logloss: 0.0357323\tvalid_1's auc: 0.739055\n",
            "[100]\ttraining's binary_logloss: 0.0292995\ttraining's auc: 0.761469\tvalid_1's binary_logloss: 0.0379308\tvalid_1's auc: 0.735583\n",
            "Did not meet early stopping. Best iteration is:\n",
            "[1]\ttraining's binary_logloss: 0.0195352\ttraining's auc: 0.872753\tvalid_1's binary_logloss: 0.0178204\tvalid_1's auc: 0.875659\n",
            "Accuracy:  0.997284\n",
            "AUC(train):  0.875657294386197\n"
          ],
          "name": "stdout"
        }
      ]
    },
    {
      "metadata": {
        "id": "bXQFEVlNugGT",
        "colab_type": "text"
      },
      "cell_type": "markdown",
      "source": [
        ""
      ]
    },
    {
      "metadata": {
        "id": "UyOFfjqBufx_",
        "colab_type": "code",
        "colab": {}
      },
      "cell_type": "code",
      "source": [
        "from sklearn.model_selection import KFold\n",
        "from sklearn.model_selection import GridSearchCV\n",
        "from sklearn.model_selection import cross_val_score\n",
        "kf = 3\n",
        "\n",
        "# range of hyperparameters\n",
        "param_grid = {'learning_rate' : [0.1, 0.3],\n",
        "             'subsample': [0.3, 0.6, 0.9]}\n",
        "\n",
        "# model\n",
        "clfl4 = LGBMClassifier(max_depth = 2, n_estimators = 200)\n",
        "\n",
        "# GridSearchCV()\n",
        "\n",
        "clfl_cv4 = GridSearchCV(estimator = clfl4, \n",
        "                        param_grid = param_grid, \n",
        "                        scoring= 'roc_auc', \n",
        "                        cv = kf, \n",
        "                        verbose = 1,\n",
        "                        return_train_score=True)"
      ],
      "execution_count": 0,
      "outputs": []
    },
    {
      "metadata": {
        "id": "UoQCI7NmwpWG",
        "colab_type": "code",
        "outputId": "d29cc4a3-7754-48c6-c6f2-ea40f9484619",
        "colab": {
          "base_uri": "https://localhost:8080/",
          "height": 255
        }
      },
      "cell_type": "code",
      "source": [
        "# fit the model\n",
        "clfl_cv4.fit(X_train, y_train)"
      ],
      "execution_count": 0,
      "outputs": [
        {
          "output_type": "stream",
          "text": [
            "Fitting 3 folds for each of 6 candidates, totalling 18 fits\n"
          ],
          "name": "stdout"
        },
        {
          "output_type": "stream",
          "text": [
            "[Parallel(n_jobs=1)]: Using backend SequentialBackend with 1 concurrent workers.\n",
            "[Parallel(n_jobs=1)]: Done  18 out of  18 | elapsed:  7.6min finished\n"
          ],
          "name": "stderr"
        },
        {
          "output_type": "execute_result",
          "data": {
            "text/plain": [
              "GridSearchCV(cv=3, error_score='raise-deprecating',\n",
              "       estimator=LGBMClassifier(boosting_type='gbdt', class_weight=None, colsample_bytree=1.0,\n",
              "        importance_type='split', learning_rate=0.1, max_depth=2,\n",
              "        min_child_samples=20, min_child_weight=0.001, min_split_gain=0.0,\n",
              "        n_estimators=200, n_jobs=-1, num_leaves=31, objective=None,\n",
              "        random_state=None, reg_alpha=0.0, reg_lambda=0.0, silent=True,\n",
              "        subsample=1.0, subsample_for_bin=200000, subsample_freq=0),\n",
              "       fit_params=None, iid='warn', n_jobs=None,\n",
              "       param_grid={'learning_rate': [0.1, 0.3], 'subsample': [0.3, 0.6, 0.9]},\n",
              "       pre_dispatch='2*n_jobs', refit=True, return_train_score=True,\n",
              "       scoring='roc_auc', verbose=1)"
            ]
          },
          "metadata": {
            "tags": []
          },
          "execution_count": 73
        }
      ]
    },
    {
      "metadata": {
        "id": "BDyNkoQEzIhT",
        "colab_type": "code",
        "outputId": "cdb0b3a6-712b-4ef9-ef2f-22ca29f437fc",
        "colab": {
          "base_uri": "https://localhost:8080/",
          "height": 561
        }
      },
      "cell_type": "code",
      "source": [
        "cvrl = pd.DataFrame(clfl_cv4.cv_results_)\n",
        "cvrl"
      ],
      "execution_count": 0,
      "outputs": [
        {
          "output_type": "execute_result",
          "data": {
            "text/html": [
              "<div>\n",
              "<style scoped>\n",
              "    .dataframe tbody tr th:only-of-type {\n",
              "        vertical-align: middle;\n",
              "    }\n",
              "\n",
              "    .dataframe tbody tr th {\n",
              "        vertical-align: top;\n",
              "    }\n",
              "\n",
              "    .dataframe thead th {\n",
              "        text-align: right;\n",
              "    }\n",
              "</style>\n",
              "<table border=\"1\" class=\"dataframe\">\n",
              "  <thead>\n",
              "    <tr style=\"text-align: right;\">\n",
              "      <th></th>\n",
              "      <th>mean_fit_time</th>\n",
              "      <th>mean_score_time</th>\n",
              "      <th>mean_test_score</th>\n",
              "      <th>mean_train_score</th>\n",
              "      <th>param_learning_rate</th>\n",
              "      <th>param_subsample</th>\n",
              "      <th>params</th>\n",
              "      <th>rank_test_score</th>\n",
              "      <th>split0_test_score</th>\n",
              "      <th>split0_train_score</th>\n",
              "      <th>split1_test_score</th>\n",
              "      <th>split1_train_score</th>\n",
              "      <th>split2_test_score</th>\n",
              "      <th>split2_train_score</th>\n",
              "      <th>std_fit_time</th>\n",
              "      <th>std_score_time</th>\n",
              "      <th>std_test_score</th>\n",
              "      <th>std_train_score</th>\n",
              "    </tr>\n",
              "  </thead>\n",
              "  <tbody>\n",
              "    <tr>\n",
              "      <th>0</th>\n",
              "      <td>20.018202</td>\n",
              "      <td>2.491552</td>\n",
              "      <td>0.917406</td>\n",
              "      <td>0.923568</td>\n",
              "      <td>0.1</td>\n",
              "      <td>0.3</td>\n",
              "      <td>{'learning_rate': 0.1, 'subsample': 0.3}</td>\n",
              "      <td>1</td>\n",
              "      <td>0.953066</td>\n",
              "      <td>0.959811</td>\n",
              "      <td>0.861107</td>\n",
              "      <td>0.859701</td>\n",
              "      <td>0.938045</td>\n",
              "      <td>0.951192</td>\n",
              "      <td>0.166112</td>\n",
              "      <td>0.023249</td>\n",
              "      <td>0.040279</td>\n",
              "      <td>0.045298</td>\n",
              "    </tr>\n",
              "    <tr>\n",
              "      <th>1</th>\n",
              "      <td>20.020492</td>\n",
              "      <td>2.579681</td>\n",
              "      <td>0.917406</td>\n",
              "      <td>0.923568</td>\n",
              "      <td>0.1</td>\n",
              "      <td>0.6</td>\n",
              "      <td>{'learning_rate': 0.1, 'subsample': 0.6}</td>\n",
              "      <td>1</td>\n",
              "      <td>0.953066</td>\n",
              "      <td>0.959811</td>\n",
              "      <td>0.861107</td>\n",
              "      <td>0.859701</td>\n",
              "      <td>0.938045</td>\n",
              "      <td>0.951192</td>\n",
              "      <td>0.172898</td>\n",
              "      <td>0.167644</td>\n",
              "      <td>0.040279</td>\n",
              "      <td>0.045298</td>\n",
              "    </tr>\n",
              "    <tr>\n",
              "      <th>2</th>\n",
              "      <td>19.945684</td>\n",
              "      <td>2.539719</td>\n",
              "      <td>0.917406</td>\n",
              "      <td>0.923568</td>\n",
              "      <td>0.1</td>\n",
              "      <td>0.9</td>\n",
              "      <td>{'learning_rate': 0.1, 'subsample': 0.9}</td>\n",
              "      <td>1</td>\n",
              "      <td>0.953066</td>\n",
              "      <td>0.959811</td>\n",
              "      <td>0.861107</td>\n",
              "      <td>0.859701</td>\n",
              "      <td>0.938045</td>\n",
              "      <td>0.951192</td>\n",
              "      <td>0.235381</td>\n",
              "      <td>0.059224</td>\n",
              "      <td>0.040279</td>\n",
              "      <td>0.045298</td>\n",
              "    </tr>\n",
              "    <tr>\n",
              "      <th>3</th>\n",
              "      <td>18.068358</td>\n",
              "      <td>1.594758</td>\n",
              "      <td>0.467552</td>\n",
              "      <td>0.470432</td>\n",
              "      <td>0.3</td>\n",
              "      <td>0.3</td>\n",
              "      <td>{'learning_rate': 0.3, 'subsample': 0.3}</td>\n",
              "      <td>4</td>\n",
              "      <td>0.420896</td>\n",
              "      <td>0.423249</td>\n",
              "      <td>0.498093</td>\n",
              "      <td>0.498973</td>\n",
              "      <td>0.483668</td>\n",
              "      <td>0.489074</td>\n",
              "      <td>0.981123</td>\n",
              "      <td>0.679847</td>\n",
              "      <td>0.033513</td>\n",
              "      <td>0.033607</td>\n",
              "    </tr>\n",
              "    <tr>\n",
              "      <th>4</th>\n",
              "      <td>18.121575</td>\n",
              "      <td>1.672605</td>\n",
              "      <td>0.467552</td>\n",
              "      <td>0.470432</td>\n",
              "      <td>0.3</td>\n",
              "      <td>0.6</td>\n",
              "      <td>{'learning_rate': 0.3, 'subsample': 0.6}</td>\n",
              "      <td>4</td>\n",
              "      <td>0.420896</td>\n",
              "      <td>0.423249</td>\n",
              "      <td>0.498093</td>\n",
              "      <td>0.498973</td>\n",
              "      <td>0.483668</td>\n",
              "      <td>0.489074</td>\n",
              "      <td>0.971178</td>\n",
              "      <td>0.724035</td>\n",
              "      <td>0.033513</td>\n",
              "      <td>0.033607</td>\n",
              "    </tr>\n",
              "    <tr>\n",
              "      <th>5</th>\n",
              "      <td>18.157304</td>\n",
              "      <td>1.564960</td>\n",
              "      <td>0.467552</td>\n",
              "      <td>0.470432</td>\n",
              "      <td>0.3</td>\n",
              "      <td>0.9</td>\n",
              "      <td>{'learning_rate': 0.3, 'subsample': 0.9}</td>\n",
              "      <td>4</td>\n",
              "      <td>0.420896</td>\n",
              "      <td>0.423249</td>\n",
              "      <td>0.498093</td>\n",
              "      <td>0.498973</td>\n",
              "      <td>0.483668</td>\n",
              "      <td>0.489074</td>\n",
              "      <td>0.953684</td>\n",
              "      <td>0.659543</td>\n",
              "      <td>0.033513</td>\n",
              "      <td>0.033607</td>\n",
              "    </tr>\n",
              "  </tbody>\n",
              "</table>\n",
              "</div>"
            ],
            "text/plain": [
              "   mean_fit_time  mean_score_time  mean_test_score  mean_train_score  \\\n",
              "0      20.018202         2.491552         0.917406          0.923568   \n",
              "1      20.020492         2.579681         0.917406          0.923568   \n",
              "2      19.945684         2.539719         0.917406          0.923568   \n",
              "3      18.068358         1.594758         0.467552          0.470432   \n",
              "4      18.121575         1.672605         0.467552          0.470432   \n",
              "5      18.157304         1.564960         0.467552          0.470432   \n",
              "\n",
              "  param_learning_rate param_subsample  \\\n",
              "0                 0.1             0.3   \n",
              "1                 0.1             0.6   \n",
              "2                 0.1             0.9   \n",
              "3                 0.3             0.3   \n",
              "4                 0.3             0.6   \n",
              "5                 0.3             0.9   \n",
              "\n",
              "                                     params  rank_test_score  \\\n",
              "0  {'learning_rate': 0.1, 'subsample': 0.3}                1   \n",
              "1  {'learning_rate': 0.1, 'subsample': 0.6}                1   \n",
              "2  {'learning_rate': 0.1, 'subsample': 0.9}                1   \n",
              "3  {'learning_rate': 0.3, 'subsample': 0.3}                4   \n",
              "4  {'learning_rate': 0.3, 'subsample': 0.6}                4   \n",
              "5  {'learning_rate': 0.3, 'subsample': 0.9}                4   \n",
              "\n",
              "   split0_test_score  split0_train_score  split1_test_score  \\\n",
              "0           0.953066            0.959811           0.861107   \n",
              "1           0.953066            0.959811           0.861107   \n",
              "2           0.953066            0.959811           0.861107   \n",
              "3           0.420896            0.423249           0.498093   \n",
              "4           0.420896            0.423249           0.498093   \n",
              "5           0.420896            0.423249           0.498093   \n",
              "\n",
              "   split1_train_score  split2_test_score  split2_train_score  std_fit_time  \\\n",
              "0            0.859701           0.938045            0.951192      0.166112   \n",
              "1            0.859701           0.938045            0.951192      0.172898   \n",
              "2            0.859701           0.938045            0.951192      0.235381   \n",
              "3            0.498973           0.483668            0.489074      0.981123   \n",
              "4            0.498973           0.483668            0.489074      0.971178   \n",
              "5            0.498973           0.483668            0.489074      0.953684   \n",
              "\n",
              "   std_score_time  std_test_score  std_train_score  \n",
              "0        0.023249        0.040279         0.045298  \n",
              "1        0.167644        0.040279         0.045298  \n",
              "2        0.059224        0.040279         0.045298  \n",
              "3        0.679847        0.033513         0.033607  \n",
              "4        0.724035        0.033513         0.033607  \n",
              "5        0.659543        0.033513         0.033607  "
            ]
          },
          "metadata": {
            "tags": []
          },
          "execution_count": 75
        }
      ]
    },
    {
      "metadata": {
        "id": "XAHWIpX6zbDU",
        "colab_type": "code",
        "outputId": "88f35543-f835-4501-dc38-7617ea1f1b59",
        "colab": {
          "base_uri": "https://localhost:8080/",
          "height": 479
        }
      },
      "cell_type": "code",
      "source": [
        "cvrl['param_learning_rate'] = cvrl['param_learning_rate'].astype('float')\n",
        "#cvr1['param_max_depth'] = cvr1['param_max_depth'].astype('float')\n",
        "cvrl.head()"
      ],
      "execution_count": 0,
      "outputs": [
        {
          "output_type": "execute_result",
          "data": {
            "text/html": [
              "<div>\n",
              "<style scoped>\n",
              "    .dataframe tbody tr th:only-of-type {\n",
              "        vertical-align: middle;\n",
              "    }\n",
              "\n",
              "    .dataframe tbody tr th {\n",
              "        vertical-align: top;\n",
              "    }\n",
              "\n",
              "    .dataframe thead th {\n",
              "        text-align: right;\n",
              "    }\n",
              "</style>\n",
              "<table border=\"1\" class=\"dataframe\">\n",
              "  <thead>\n",
              "    <tr style=\"text-align: right;\">\n",
              "      <th></th>\n",
              "      <th>mean_fit_time</th>\n",
              "      <th>mean_score_time</th>\n",
              "      <th>mean_test_score</th>\n",
              "      <th>mean_train_score</th>\n",
              "      <th>param_learning_rate</th>\n",
              "      <th>param_subsample</th>\n",
              "      <th>params</th>\n",
              "      <th>rank_test_score</th>\n",
              "      <th>split0_test_score</th>\n",
              "      <th>split0_train_score</th>\n",
              "      <th>split1_test_score</th>\n",
              "      <th>split1_train_score</th>\n",
              "      <th>split2_test_score</th>\n",
              "      <th>split2_train_score</th>\n",
              "      <th>std_fit_time</th>\n",
              "      <th>std_score_time</th>\n",
              "      <th>std_test_score</th>\n",
              "      <th>std_train_score</th>\n",
              "    </tr>\n",
              "  </thead>\n",
              "  <tbody>\n",
              "    <tr>\n",
              "      <th>0</th>\n",
              "      <td>20.018202</td>\n",
              "      <td>2.491552</td>\n",
              "      <td>0.917406</td>\n",
              "      <td>0.923568</td>\n",
              "      <td>0.1</td>\n",
              "      <td>0.3</td>\n",
              "      <td>{'learning_rate': 0.1, 'subsample': 0.3}</td>\n",
              "      <td>1</td>\n",
              "      <td>0.953066</td>\n",
              "      <td>0.959811</td>\n",
              "      <td>0.861107</td>\n",
              "      <td>0.859701</td>\n",
              "      <td>0.938045</td>\n",
              "      <td>0.951192</td>\n",
              "      <td>0.166112</td>\n",
              "      <td>0.023249</td>\n",
              "      <td>0.040279</td>\n",
              "      <td>0.045298</td>\n",
              "    </tr>\n",
              "    <tr>\n",
              "      <th>1</th>\n",
              "      <td>20.020492</td>\n",
              "      <td>2.579681</td>\n",
              "      <td>0.917406</td>\n",
              "      <td>0.923568</td>\n",
              "      <td>0.1</td>\n",
              "      <td>0.6</td>\n",
              "      <td>{'learning_rate': 0.1, 'subsample': 0.6}</td>\n",
              "      <td>1</td>\n",
              "      <td>0.953066</td>\n",
              "      <td>0.959811</td>\n",
              "      <td>0.861107</td>\n",
              "      <td>0.859701</td>\n",
              "      <td>0.938045</td>\n",
              "      <td>0.951192</td>\n",
              "      <td>0.172898</td>\n",
              "      <td>0.167644</td>\n",
              "      <td>0.040279</td>\n",
              "      <td>0.045298</td>\n",
              "    </tr>\n",
              "    <tr>\n",
              "      <th>2</th>\n",
              "      <td>19.945684</td>\n",
              "      <td>2.539719</td>\n",
              "      <td>0.917406</td>\n",
              "      <td>0.923568</td>\n",
              "      <td>0.1</td>\n",
              "      <td>0.9</td>\n",
              "      <td>{'learning_rate': 0.1, 'subsample': 0.9}</td>\n",
              "      <td>1</td>\n",
              "      <td>0.953066</td>\n",
              "      <td>0.959811</td>\n",
              "      <td>0.861107</td>\n",
              "      <td>0.859701</td>\n",
              "      <td>0.938045</td>\n",
              "      <td>0.951192</td>\n",
              "      <td>0.235381</td>\n",
              "      <td>0.059224</td>\n",
              "      <td>0.040279</td>\n",
              "      <td>0.045298</td>\n",
              "    </tr>\n",
              "    <tr>\n",
              "      <th>3</th>\n",
              "      <td>18.068358</td>\n",
              "      <td>1.594758</td>\n",
              "      <td>0.467552</td>\n",
              "      <td>0.470432</td>\n",
              "      <td>0.3</td>\n",
              "      <td>0.3</td>\n",
              "      <td>{'learning_rate': 0.3, 'subsample': 0.3}</td>\n",
              "      <td>4</td>\n",
              "      <td>0.420896</td>\n",
              "      <td>0.423249</td>\n",
              "      <td>0.498093</td>\n",
              "      <td>0.498973</td>\n",
              "      <td>0.483668</td>\n",
              "      <td>0.489074</td>\n",
              "      <td>0.981123</td>\n",
              "      <td>0.679847</td>\n",
              "      <td>0.033513</td>\n",
              "      <td>0.033607</td>\n",
              "    </tr>\n",
              "    <tr>\n",
              "      <th>4</th>\n",
              "      <td>18.121575</td>\n",
              "      <td>1.672605</td>\n",
              "      <td>0.467552</td>\n",
              "      <td>0.470432</td>\n",
              "      <td>0.3</td>\n",
              "      <td>0.6</td>\n",
              "      <td>{'learning_rate': 0.3, 'subsample': 0.6}</td>\n",
              "      <td>4</td>\n",
              "      <td>0.420896</td>\n",
              "      <td>0.423249</td>\n",
              "      <td>0.498093</td>\n",
              "      <td>0.498973</td>\n",
              "      <td>0.483668</td>\n",
              "      <td>0.489074</td>\n",
              "      <td>0.971178</td>\n",
              "      <td>0.724035</td>\n",
              "      <td>0.033513</td>\n",
              "      <td>0.033607</td>\n",
              "    </tr>\n",
              "  </tbody>\n",
              "</table>\n",
              "</div>"
            ],
            "text/plain": [
              "   mean_fit_time  mean_score_time  mean_test_score  mean_train_score  \\\n",
              "0      20.018202         2.491552         0.917406          0.923568   \n",
              "1      20.020492         2.579681         0.917406          0.923568   \n",
              "2      19.945684         2.539719         0.917406          0.923568   \n",
              "3      18.068358         1.594758         0.467552          0.470432   \n",
              "4      18.121575         1.672605         0.467552          0.470432   \n",
              "\n",
              "   param_learning_rate param_subsample  \\\n",
              "0                  0.1             0.3   \n",
              "1                  0.1             0.6   \n",
              "2                  0.1             0.9   \n",
              "3                  0.3             0.3   \n",
              "4                  0.3             0.6   \n",
              "\n",
              "                                     params  rank_test_score  \\\n",
              "0  {'learning_rate': 0.1, 'subsample': 0.3}                1   \n",
              "1  {'learning_rate': 0.1, 'subsample': 0.6}                1   \n",
              "2  {'learning_rate': 0.1, 'subsample': 0.9}                1   \n",
              "3  {'learning_rate': 0.3, 'subsample': 0.3}                4   \n",
              "4  {'learning_rate': 0.3, 'subsample': 0.6}                4   \n",
              "\n",
              "   split0_test_score  split0_train_score  split1_test_score  \\\n",
              "0           0.953066            0.959811           0.861107   \n",
              "1           0.953066            0.959811           0.861107   \n",
              "2           0.953066            0.959811           0.861107   \n",
              "3           0.420896            0.423249           0.498093   \n",
              "4           0.420896            0.423249           0.498093   \n",
              "\n",
              "   split1_train_score  split2_test_score  split2_train_score  std_fit_time  \\\n",
              "0            0.859701           0.938045            0.951192      0.166112   \n",
              "1            0.859701           0.938045            0.951192      0.172898   \n",
              "2            0.859701           0.938045            0.951192      0.235381   \n",
              "3            0.498973           0.483668            0.489074      0.981123   \n",
              "4            0.498973           0.483668            0.489074      0.971178   \n",
              "\n",
              "   std_score_time  std_test_score  std_train_score  \n",
              "0        0.023249        0.040279         0.045298  \n",
              "1        0.167644        0.040279         0.045298  \n",
              "2        0.059224        0.040279         0.045298  \n",
              "3        0.679847        0.033513         0.033607  \n",
              "4        0.724035        0.033513         0.033607  "
            ]
          },
          "metadata": {
            "tags": []
          },
          "execution_count": 76
        }
      ]
    },
    {
      "metadata": {
        "id": "HXRaQBuUvr3g",
        "colab_type": "code",
        "outputId": "05053b11-e138-4e5f-8d29-dc5fcacae9e8",
        "colab": {
          "base_uri": "https://localhost:8080/",
          "height": 407
        }
      },
      "cell_type": "code",
      "source": [
        "# plotting\n",
        "plt.figure(figsize=(16,6))\n",
        "\n",
        "\n",
        "param_grid = {'learning_rate': [0.1, 0.3], \n",
        "             'subsample': [0.3, 0.6, 0.9]} \n",
        "\n",
        "\n",
        "for n, subsample in enumerate(param_grid['subsample']):\n",
        "    \n",
        "\n",
        "    # subplot 1/n\n",
        "    plt.subplot(1,len(param_grid['subsample']), n+1)\n",
        "    df = cvrl[cvrl['param_subsample']==subsample]\n",
        "\n",
        "    plt.plot(df[\"param_learning_rate\"], df[\"mean_test_score\"])\n",
        "    plt.plot(df[\"param_learning_rate\"], df[\"mean_train_score\"])\n",
        "    plt.xlabel('learning_rate')\n",
        "    plt.ylabel('AUC')\n",
        "    plt.title(\"subsample={0}\".format(subsample))\n",
        "    plt.ylim([0.60, 1])\n",
        "    plt.legend(['test score', 'train score'], loc='upper left')\n",
        "    plt.xscale('log')"
      ],
      "execution_count": 0,
      "outputs": [
        {
          "output_type": "display_data",
          "data": {
            "image/png": "[encoded data removed]",
            "text/plain": [
              "<matplotlib.figure.Figure at 0x7ff2078a6f98>"
            ]
          },
          "metadata": {
            "tags": []
          }
        }
      ]
    },
    {
      "metadata": {
        "id": "NhbIANs24xRF",
        "colab_type": "code",
        "outputId": "9cba15a1-7190-4e50-e659-e8883b54a700",
        "colab": {
          "base_uri": "https://localhost:8080/",
          "height": 51
        }
      },
      "cell_type": "code",
      "source": [
        "\n",
        "clfl5 = LGBMClassifier(\n",
        "        boosting_type='gbdt', \n",
        "        max_depth=2, \n",
        "        learning_rate=0.1, \n",
        "        n_estimators=200, \n",
        "        subsample=0.6,\n",
        "        objective = 'binary',\n",
        "        metric = 'auc'\n",
        "        )\n",
        "\n",
        "clfl5.fit(X_train, y_train)\n",
        "\n",
        "prd5 = clfl5.predict(X_test)\n",
        "prdprob5 = clfl5.predict_proba(X_test)\n",
        "print(\"Accuracy: \" , (metrics.accuracy_score(y_test, prd5)))\n",
        "print(\"AUC(train): \" , (metrics.roc_auc_score(y_test, prdprob5[:, 1])))"
      ],
      "execution_count": 0,
      "outputs": [
        {
          "output_type": "stream",
          "text": [
            "Accuracy:  0.998674\n",
            "AUC(train):  0.9593011321492771\n"
          ],
          "name": "stdout"
        }
      ]
    },
    {
      "metadata": {
        "id": "VX8J_BO9BQW8",
        "colab_type": "code",
        "outputId": "ff3998fb-e1c4-4e92-f19a-b1095f5ed6b6",
        "colab": {
          "base_uri": "https://localhost:8080/",
          "height": 3502
        }
      },
      "cell_type": "code",
      "source": [
        "eval_set = [(X_train, y_train), (X_test, y_test)]\n",
        "\n",
        "clfl5.fit(X_train, y_train, eval_metric='auc', eval_set = eval_set, early_stopping_rounds=100)\n",
        "prd5 = clfl5.predict(X_test)\n",
        "prdprob5 = clfl5.predict_proba(X_test)\n",
        "\n",
        "print(\"Accuracy: \" , (metrics.accuracy_score(y_test, prd5)))\n",
        "print(\"AUC(train): \" , (metrics.roc_auc_score(y_test, prdprob5[:, 1])))"
      ],
      "execution_count": 0,
      "outputs": [
        {
          "output_type": "stream",
          "text": [
            "[1]\ttraining's auc: 0.678697\tvalid_1's auc: 0.696711\n",
            "Training until validation scores don't improve for 100 rounds.\n",
            "[2]\ttraining's auc: 0.847998\tvalid_1's auc: 0.855827\n",
            "[3]\ttraining's auc: 0.906358\tvalid_1's auc: 0.918534\n",
            "[4]\ttraining's auc: 0.910068\tvalid_1's auc: 0.921746\n",
            "[5]\ttraining's auc: 0.91713\tvalid_1's auc: 0.927511\n",
            "[6]\ttraining's auc: 0.917661\tvalid_1's auc: 0.928635\n",
            "[7]\ttraining's auc: 0.917051\tvalid_1's auc: 0.927322\n",
            "[8]\ttraining's auc: 0.926956\tvalid_1's auc: 0.934318\n",
            "[9]\ttraining's auc: 0.926183\tvalid_1's auc: 0.935417\n",
            "[10]\ttraining's auc: 0.929311\tvalid_1's auc: 0.937157\n",
            "[11]\ttraining's auc: 0.929781\tvalid_1's auc: 0.937402\n",
            "[12]\ttraining's auc: 0.93002\tvalid_1's auc: 0.937681\n",
            "[13]\ttraining's auc: 0.929577\tvalid_1's auc: 0.937928\n",
            "[14]\ttraining's auc: 0.930826\tvalid_1's auc: 0.938434\n",
            "[15]\ttraining's auc: 0.930914\tvalid_1's auc: 0.938295\n",
            "[16]\ttraining's auc: 0.932088\tvalid_1's auc: 0.939322\n",
            "[17]\ttraining's auc: 0.931856\tvalid_1's auc: 0.939366\n",
            "[18]\ttraining's auc: 0.932488\tvalid_1's auc: 0.939126\n",
            "[19]\ttraining's auc: 0.935947\tvalid_1's auc: 0.942788\n",
            "[20]\ttraining's auc: 0.936318\tvalid_1's auc: 0.942911\n",
            "[21]\ttraining's auc: 0.936547\tvalid_1's auc: 0.943211\n",
            "[22]\ttraining's auc: 0.937901\tvalid_1's auc: 0.944799\n",
            "[23]\ttraining's auc: 0.937924\tvalid_1's auc: 0.944952\n",
            "[24]\ttraining's auc: 0.938735\tvalid_1's auc: 0.945292\n",
            "[25]\ttraining's auc: 0.939218\tvalid_1's auc: 0.946032\n",
            "[26]\ttraining's auc: 0.940433\tvalid_1's auc: 0.947423\n",
            "[27]\ttraining's auc: 0.940851\tvalid_1's auc: 0.947263\n",
            "[28]\ttraining's auc: 0.940861\tvalid_1's auc: 0.947316\n",
            "[29]\ttraining's auc: 0.940988\tvalid_1's auc: 0.947436\n",
            "[30]\ttraining's auc: 0.941028\tvalid_1's auc: 0.947532\n",
            "[31]\ttraining's auc: 0.941215\tvalid_1's auc: 0.947281\n",
            "[32]\ttraining's auc: 0.941889\tvalid_1's auc: 0.948148\n",
            "[33]\ttraining's auc: 0.941966\tvalid_1's auc: 0.948455\n",
            "[34]\ttraining's auc: 0.94209\tvalid_1's auc: 0.948556\n",
            "[35]\ttraining's auc: 0.942138\tvalid_1's auc: 0.948783\n",
            "[36]\ttraining's auc: 0.942176\tvalid_1's auc: 0.948822\n",
            "[37]\ttraining's auc: 0.943243\tvalid_1's auc: 0.949815\n",
            "[38]\ttraining's auc: 0.943405\tvalid_1's auc: 0.949937\n",
            "[39]\ttraining's auc: 0.943453\tvalid_1's auc: 0.94994\n",
            "[40]\ttraining's auc: 0.943505\tvalid_1's auc: 0.949987\n",
            "[41]\ttraining's auc: 0.943612\tvalid_1's auc: 0.950147\n",
            "[42]\ttraining's auc: 0.943752\tvalid_1's auc: 0.950166\n",
            "[43]\ttraining's auc: 0.94386\tvalid_1's auc: 0.950248\n",
            "[44]\ttraining's auc: 0.943875\tvalid_1's auc: 0.95027\n",
            "[45]\ttraining's auc: 0.944504\tvalid_1's auc: 0.950928\n",
            "[46]\ttraining's auc: 0.944712\tvalid_1's auc: 0.950786\n",
            "[47]\ttraining's auc: 0.944942\tvalid_1's auc: 0.951114\n",
            "[48]\ttraining's auc: 0.94489\tvalid_1's auc: 0.951219\n",
            "[49]\ttraining's auc: 0.94491\tvalid_1's auc: 0.951241\n",
            "[50]\ttraining's auc: 0.94515\tvalid_1's auc: 0.951263\n",
            "[51]\ttraining's auc: 0.945242\tvalid_1's auc: 0.951298\n",
            "[52]\ttraining's auc: 0.945374\tvalid_1's auc: 0.951428\n",
            "[53]\ttraining's auc: 0.945393\tvalid_1's auc: 0.951439\n",
            "[54]\ttraining's auc: 0.945417\tvalid_1's auc: 0.951469\n",
            "[55]\ttraining's auc: 0.945811\tvalid_1's auc: 0.951912\n",
            "[56]\ttraining's auc: 0.945944\tvalid_1's auc: 0.951984\n",
            "[57]\ttraining's auc: 0.946391\tvalid_1's auc: 0.952329\n",
            "[58]\ttraining's auc: 0.946361\tvalid_1's auc: 0.952326\n",
            "[59]\ttraining's auc: 0.946503\tvalid_1's auc: 0.952481\n",
            "[60]\ttraining's auc: 0.946607\tvalid_1's auc: 0.952495\n",
            "[61]\ttraining's auc: 0.946743\tvalid_1's auc: 0.952508\n",
            "[62]\ttraining's auc: 0.946826\tvalid_1's auc: 0.952597\n",
            "[63]\ttraining's auc: 0.946974\tvalid_1's auc: 0.952956\n",
            "[64]\ttraining's auc: 0.947012\tvalid_1's auc: 0.953002\n",
            "[65]\ttraining's auc: 0.947383\tvalid_1's auc: 0.953403\n",
            "[66]\ttraining's auc: 0.947643\tvalid_1's auc: 0.953249\n",
            "[67]\ttraining's auc: 0.947731\tvalid_1's auc: 0.953298\n",
            "[68]\ttraining's auc: 0.947844\tvalid_1's auc: 0.953423\n",
            "[69]\ttraining's auc: 0.947854\tvalid_1's auc: 0.953448\n",
            "[70]\ttraining's auc: 0.948042\tvalid_1's auc: 0.95349\n",
            "[71]\ttraining's auc: 0.948117\tvalid_1's auc: 0.95352\n",
            "[72]\ttraining's auc: 0.948137\tvalid_1's auc: 0.953523\n",
            "[73]\ttraining's auc: 0.948257\tvalid_1's auc: 0.953653\n",
            "[74]\ttraining's auc: 0.948286\tvalid_1's auc: 0.95367\n",
            "[75]\ttraining's auc: 0.948472\tvalid_1's auc: 0.953806\n",
            "[76]\ttraining's auc: 0.948512\tvalid_1's auc: 0.953845\n",
            "[77]\ttraining's auc: 0.948743\tvalid_1's auc: 0.954145\n",
            "[78]\ttraining's auc: 0.949034\tvalid_1's auc: 0.954421\n",
            "[79]\ttraining's auc: 0.949067\tvalid_1's auc: 0.954417\n",
            "[80]\ttraining's auc: 0.94917\tvalid_1's auc: 0.954513\n",
            "[81]\ttraining's auc: 0.949169\tvalid_1's auc: 0.954449\n",
            "[82]\ttraining's auc: 0.94957\tvalid_1's auc: 0.954363\n",
            "[83]\ttraining's auc: 0.949632\tvalid_1's auc: 0.954238\n",
            "[84]\ttraining's auc: 0.949684\tvalid_1's auc: 0.954209\n",
            "[85]\ttraining's auc: 0.949689\tvalid_1's auc: 0.954217\n",
            "[86]\ttraining's auc: 0.949834\tvalid_1's auc: 0.954154\n",
            "[87]\ttraining's auc: 0.95003\tvalid_1's auc: 0.95434\n",
            "[88]\ttraining's auc: 0.950071\tvalid_1's auc: 0.954375\n",
            "[89]\ttraining's auc: 0.95009\tvalid_1's auc: 0.954384\n",
            "[90]\ttraining's auc: 0.950094\tvalid_1's auc: 0.954455\n",
            "[91]\ttraining's auc: 0.950125\tvalid_1's auc: 0.954286\n",
            "[92]\ttraining's auc: 0.950468\tvalid_1's auc: 0.954136\n",
            "[93]\ttraining's auc: 0.950677\tvalid_1's auc: 0.954407\n",
            "[94]\ttraining's auc: 0.950819\tvalid_1's auc: 0.954446\n",
            "[95]\ttraining's auc: 0.950896\tvalid_1's auc: 0.954532\n",
            "[96]\ttraining's auc: 0.950954\tvalid_1's auc: 0.954529\n",
            "[97]\ttraining's auc: 0.951038\tvalid_1's auc: 0.954725\n",
            "[98]\ttraining's auc: 0.951044\tvalid_1's auc: 0.954727\n",
            "[99]\ttraining's auc: 0.951065\tvalid_1's auc: 0.954721\n",
            "[100]\ttraining's auc: 0.951135\tvalid_1's auc: 0.954834\n",
            "[101]\ttraining's auc: 0.951222\tvalid_1's auc: 0.954893\n",
            "[102]\ttraining's auc: 0.951311\tvalid_1's auc: 0.954947\n",
            "[103]\ttraining's auc: 0.951371\tvalid_1's auc: 0.95499\n",
            "[104]\ttraining's auc: 0.951392\tvalid_1's auc: 0.955011\n",
            "[105]\ttraining's auc: 0.951385\tvalid_1's auc: 0.954985\n",
            "[106]\ttraining's auc: 0.951421\tvalid_1's auc: 0.955024\n",
            "[107]\ttraining's auc: 0.95148\tvalid_1's auc: 0.955085\n",
            "[108]\ttraining's auc: 0.951661\tvalid_1's auc: 0.955265\n",
            "[109]\ttraining's auc: 0.951712\tvalid_1's auc: 0.955309\n",
            "[110]\ttraining's auc: 0.952432\tvalid_1's auc: 0.956168\n",
            "[111]\ttraining's auc: 0.952558\tvalid_1's auc: 0.956303\n",
            "[112]\ttraining's auc: 0.952575\tvalid_1's auc: 0.956305\n",
            "[113]\ttraining's auc: 0.952788\tvalid_1's auc: 0.956411\n",
            "[114]\ttraining's auc: 0.952766\tvalid_1's auc: 0.956403\n",
            "[115]\ttraining's auc: 0.952807\tvalid_1's auc: 0.956443\n",
            "[116]\ttraining's auc: 0.952819\tvalid_1's auc: 0.956436\n",
            "[117]\ttraining's auc: 0.952923\tvalid_1's auc: 0.956466\n",
            "[118]\ttraining's auc: 0.952994\tvalid_1's auc: 0.956386\n",
            "[119]\ttraining's auc: 0.953137\tvalid_1's auc: 0.956502\n",
            "[120]\ttraining's auc: 0.953211\tvalid_1's auc: 0.956524\n",
            "[121]\ttraining's auc: 0.953283\tvalid_1's auc: 0.956476\n",
            "[122]\ttraining's auc: 0.953494\tvalid_1's auc: 0.956599\n",
            "[123]\ttraining's auc: 0.953554\tvalid_1's auc: 0.956637\n",
            "[124]\ttraining's auc: 0.954029\tvalid_1's auc: 0.957161\n",
            "[125]\ttraining's auc: 0.954014\tvalid_1's auc: 0.95716\n",
            "[126]\ttraining's auc: 0.954137\tvalid_1's auc: 0.957163\n",
            "[127]\ttraining's auc: 0.954258\tvalid_1's auc: 0.9573\n",
            "[128]\ttraining's auc: 0.954263\tvalid_1's auc: 0.957304\n",
            "[129]\ttraining's auc: 0.954224\tvalid_1's auc: 0.95726\n",
            "[130]\ttraining's auc: 0.954407\tvalid_1's auc: 0.957368\n",
            "[131]\ttraining's auc: 0.954386\tvalid_1's auc: 0.957353\n",
            "[132]\ttraining's auc: 0.954427\tvalid_1's auc: 0.957393\n",
            "[133]\ttraining's auc: 0.954525\tvalid_1's auc: 0.957434\n",
            "[134]\ttraining's auc: 0.954554\tvalid_1's auc: 0.957379\n",
            "[135]\ttraining's auc: 0.954699\tvalid_1's auc: 0.957535\n",
            "[136]\ttraining's auc: 0.954778\tvalid_1's auc: 0.957602\n",
            "[137]\ttraining's auc: 0.954819\tvalid_1's auc: 0.95764\n",
            "[138]\ttraining's auc: 0.954811\tvalid_1's auc: 0.957666\n",
            "[139]\ttraining's auc: 0.885417\tvalid_1's auc: 0.868909\n",
            "[140]\ttraining's auc: 0.954782\tvalid_1's auc: 0.957558\n",
            "[141]\ttraining's auc: 0.954984\tvalid_1's auc: 0.957729\n",
            "[142]\ttraining's auc: 0.955003\tvalid_1's auc: 0.957714\n",
            "[143]\ttraining's auc: 0.955\tvalid_1's auc: 0.95773\n",
            "[144]\ttraining's auc: 0.954983\tvalid_1's auc: 0.957706\n",
            "[145]\ttraining's auc: 0.955153\tvalid_1's auc: 0.957808\n",
            "[146]\ttraining's auc: 0.955136\tvalid_1's auc: 0.957766\n",
            "[147]\ttraining's auc: 0.955145\tvalid_1's auc: 0.957767\n",
            "[148]\ttraining's auc: 0.955137\tvalid_1's auc: 0.957704\n",
            "[149]\ttraining's auc: 0.955494\tvalid_1's auc: 0.958068\n",
            "[150]\ttraining's auc: 0.955649\tvalid_1's auc: 0.958161\n",
            "[151]\ttraining's auc: 0.955649\tvalid_1's auc: 0.958172\n",
            "[152]\ttraining's auc: 0.955671\tvalid_1's auc: 0.958162\n",
            "[153]\ttraining's auc: 0.955646\tvalid_1's auc: 0.958148\n",
            "[154]\ttraining's auc: 0.955845\tvalid_1's auc: 0.958069\n",
            "[155]\ttraining's auc: 0.955823\tvalid_1's auc: 0.958057\n",
            "[156]\ttraining's auc: 0.955827\tvalid_1's auc: 0.958051\n",
            "[157]\ttraining's auc: 0.955835\tvalid_1's auc: 0.958025\n",
            "[158]\ttraining's auc: 0.955794\tvalid_1's auc: 0.957997\n",
            "[159]\ttraining's auc: 0.95599\tvalid_1's auc: 0.957876\n",
            "[160]\ttraining's auc: 0.955997\tvalid_1's auc: 0.957864\n",
            "[161]\ttraining's auc: 0.956162\tvalid_1's auc: 0.958014\n",
            "[162]\ttraining's auc: 0.956261\tvalid_1's auc: 0.958029\n",
            "[163]\ttraining's auc: 0.956466\tvalid_1's auc: 0.958298\n",
            "[164]\ttraining's auc: 0.956511\tvalid_1's auc: 0.958259\n",
            "[165]\ttraining's auc: 0.956629\tvalid_1's auc: 0.958327\n",
            "[166]\ttraining's auc: 0.956614\tvalid_1's auc: 0.958288\n",
            "[167]\ttraining's auc: 0.956651\tvalid_1's auc: 0.958304\n",
            "[168]\ttraining's auc: 0.956745\tvalid_1's auc: 0.958239\n",
            "[169]\ttraining's auc: 0.956812\tvalid_1's auc: 0.958293\n",
            "[170]\ttraining's auc: 0.956989\tvalid_1's auc: 0.958451\n",
            "[171]\ttraining's auc: 0.956986\tvalid_1's auc: 0.958444\n",
            "[172]\ttraining's auc: 0.957121\tvalid_1's auc: 0.958513\n",
            "[173]\ttraining's auc: 0.957124\tvalid_1's auc: 0.95852\n",
            "[174]\ttraining's auc: 0.957128\tvalid_1's auc: 0.958517\n",
            "[175]\ttraining's auc: 0.957087\tvalid_1's auc: 0.958485\n",
            "[176]\ttraining's auc: 0.95713\tvalid_1's auc: 0.958497\n",
            "[177]\ttraining's auc: 0.957183\tvalid_1's auc: 0.958524\n",
            "[178]\ttraining's auc: 0.957282\tvalid_1's auc: 0.958577\n",
            "[179]\ttraining's auc: 0.957298\tvalid_1's auc: 0.95861\n",
            "[180]\ttraining's auc: 0.957291\tvalid_1's auc: 0.958667\n",
            "[181]\ttraining's auc: 0.957293\tvalid_1's auc: 0.958667\n",
            "[182]\ttraining's auc: 0.957298\tvalid_1's auc: 0.958615\n",
            "[183]\ttraining's auc: 0.957339\tvalid_1's auc: 0.958593\n",
            "[184]\ttraining's auc: 0.957522\tvalid_1's auc: 0.958747\n",
            "[185]\ttraining's auc: 0.957539\tvalid_1's auc: 0.958749\n",
            "[186]\ttraining's auc: 0.957587\tvalid_1's auc: 0.958839\n",
            "[187]\ttraining's auc: 0.957614\tvalid_1's auc: 0.958828\n",
            "[188]\ttraining's auc: 0.957602\tvalid_1's auc: 0.95882\n",
            "[189]\ttraining's auc: 0.957747\tvalid_1's auc: 0.958917\n",
            "[190]\ttraining's auc: 0.957741\tvalid_1's auc: 0.958913\n",
            "[191]\ttraining's auc: 0.957757\tvalid_1's auc: 0.958921\n",
            "[192]\ttraining's auc: 0.957801\tvalid_1's auc: 0.958951\n",
            "[193]\ttraining's auc: 0.95794\tvalid_1's auc: 0.959098\n",
            "[194]\ttraining's auc: 0.958011\tvalid_1's auc: 0.959174\n",
            "[195]\ttraining's auc: 0.958141\tvalid_1's auc: 0.95923\n",
            "[196]\ttraining's auc: 0.958222\tvalid_1's auc: 0.959299\n",
            "[197]\ttraining's auc: 0.958227\tvalid_1's auc: 0.959305\n",
            "[198]\ttraining's auc: 0.958228\tvalid_1's auc: 0.959309\n",
            "[199]\ttraining's auc: 0.958187\tvalid_1's auc: 0.9593\n",
            "[200]\ttraining's auc: 0.958188\tvalid_1's auc: 0.959301\n",
            "Did not meet early stopping. Best iteration is:\n",
            "[198]\ttraining's auc: 0.958228\tvalid_1's auc: 0.959309\n",
            "Accuracy:  0.998676\n",
            "AUC(train):  0.9593086129241962\n"
          ],
          "name": "stdout"
        }
      ]
    },
    {
      "metadata": {
        "id": "z-DJ3usjB8_A",
        "colab_type": "code",
        "outputId": "63d362ec-ae1a-47fd-b3ad-f66cb07b3aab",
        "colab": {
          "base_uri": "https://localhost:8080/",
          "height": 51
        }
      },
      "cell_type": "code",
      "source": [
        "clfl6 = LGBMClassifier(\n",
        "        boosting_type='gbdt', \n",
        "        max_depth=4, \n",
        "        learning_rate=0.1, \n",
        "        n_estimators=200, \n",
        "        subsample=0.6,\n",
        "        objective = 'binary',\n",
        "        metric = 'auc'\n",
        "        )\n",
        "\n",
        "clfl6.fit(X_train, y_train)\n",
        "\n",
        "prd6 = clfl6.predict(X_test)\n",
        "prdprob6 = clfl6.predict_proba(X_test)\n",
        "print(\"Accuracy: \" , (metrics.accuracy_score(y_test, prd6)))\n",
        "print(\"AUC(train): \" , (metrics.roc_auc_score(y_test, prdprob6[:, 1])))"
      ],
      "execution_count": 0,
      "outputs": [
        {
          "output_type": "stream",
          "text": [
            "Accuracy:  0.998554\n",
            "AUC(train):  0.9029811311079493\n"
          ],
          "name": "stdout"
        }
      ]
    },
    {
      "metadata": {
        "id": "Nfd01CA4E-U0",
        "colab_type": "code",
        "outputId": "dcf9c421-1927-4781-c42e-a67fde82fc71",
        "colab": {
          "base_uri": "https://localhost:8080/",
          "height": 51
        }
      },
      "cell_type": "code",
      "source": [
        "\n",
        "clfl7 = LGBMClassifier(\n",
        "        boosting_type='gbdt', \n",
        "        max_depth=2, \n",
        "        learning_rate=0.1, \n",
        "        n_estimators=200, \n",
        "        subsample=0.6,\n",
        "        objective = 'binary',\n",
        "        metric = 'auc',\n",
        "        scale_pos_weight = 99.7 # to fix unbalanced training data\n",
        "        )\n",
        "\n",
        "clfl7.fit(X_train, y_train)\n",
        "\n",
        "prd7 = clfl7.predict(X_test)\n",
        "prdprob7 = clfl7.predict_proba(X_test)\n",
        "print(\"Accuracy: \" , (metrics.accuracy_score(y_test, prd7)))\n",
        "print(\"AUC(train): \" , (metrics.roc_auc_score(y_test, prdprob7[:, 1])))"
      ],
      "execution_count": 0,
      "outputs": [
        {
          "output_type": "stream",
          "text": [
            "Accuracy:  0.954556\n",
            "AUC(train):  0.7958610681179283\n"
          ],
          "name": "stdout"
        }
      ]
    },
    {
      "metadata": {
        "id": "2TNa5lrACufj",
        "colab_type": "code",
        "outputId": "2833ed11-2d23-4a6c-9140-54ecc0516d64",
        "colab": {
          "base_uri": "https://localhost:8080/",
          "height": 51
        }
      },
      "cell_type": "code",
      "source": [
        "\n",
        "clfl8 = LGBMClassifier(\n",
        "        boosting_type='gbdt', \n",
        "        max_depth=4, \n",
        "        learning_rate=0.1, \n",
        "        n_estimators=200, \n",
        "        subsample=0.6,\n",
        "        objective = 'binary',\n",
        "        metric = 'auc',\n",
        "        scale_pos_weight = 99.7 # to fix unbalanced training data\n",
        "        )\n",
        "\n",
        "clfl8.fit(X_train, y_train)\n",
        "\n",
        "prd8 = clfl8.predict(X_test)\n",
        "prdprob8 = clfl8.predict_proba(X_test)\n",
        "print(\"Accuracy: \" , (metrics.accuracy_score(y_test, prd8)))\n",
        "print(\"AUC(train): \" , (metrics.roc_auc_score(y_test, prdprob8[:, 1])))"
      ],
      "execution_count": 0,
      "outputs": [
        {
          "output_type": "stream",
          "text": [
            "Accuracy:  0.976922\n",
            "AUC(train):  0.8500313553143347\n"
          ],
          "name": "stdout"
        }
      ]
    },
    {
      "metadata": {
        "id": "fv6H2UIxGZkn",
        "colab_type": "code",
        "outputId": "cd8984b4-49b4-4036-9e53-8324e3e43c9e",
        "colab": {
          "base_uri": "https://localhost:8080/",
          "height": 51
        }
      },
      "cell_type": "code",
      "source": [
        "\n",
        "clfl9 = LGBMClassifier(\n",
        "        boosting_type='gbdt', \n",
        "        max_depth=2, \n",
        "        learning_rate=0.1, \n",
        "        n_estimators=200, \n",
        "        subsample=0.6,\n",
        "        objective = 'binary',\n",
        "        metric = 'auc',\n",
        "        subsample_freq = 1,  # frequence of subsample, <=0 means no enable\n",
        "        colsample_bytree = 0.7,  # Subsample ratio of columns when constructing each tree.\n",
        "        min_child_weight = 0,  # Minimum sum of instance weight(hessian) needed in a child(leaf)\n",
        "        min_split_gain = 0,  # lambda_l1, lambda_l2 and min_gain_to_split to regularization\n",
        "        scale_pos_weight = 99.7 # to fix unbalanced training data\n",
        "        )\n",
        "\n",
        "clfl9.fit(X_train, y_train)\n",
        "\n",
        "prd9 = clfl9.predict(X_test)\n",
        "prdprob9 = clfl9.predict_proba(X_test)\n",
        "print(\"Accuracy: \" , (metrics.accuracy_score(y_test, prd9)))\n",
        "print(\"AUC(train): \" , (metrics.roc_auc_score(y_test, prdprob9[:, 1])))"
      ],
      "execution_count": 0,
      "outputs": [
        {
          "output_type": "stream",
          "text": [
            "Accuracy:  0.988242\n",
            "AUC(train):  0.9567070573567376\n"
          ],
          "name": "stdout"
        }
      ]
    },
    {
      "metadata": {
        "id": "XPX35bA0IJ7e",
        "colab_type": "code",
        "outputId": "fe0f8c1e-3881-443b-a4a7-46100cff4ad4",
        "colab": {
          "base_uri": "https://localhost:8080/",
          "height": 51
        }
      },
      "cell_type": "code",
      "source": [
        "\n",
        "clfl10 = LGBMClassifier(\n",
        "        boosting_type='gbdt', \n",
        "        max_depth=2, \n",
        "        learning_rate=0.1, \n",
        "        n_estimators=200, \n",
        "        subsample=0.6,\n",
        "        objective = 'binary',\n",
        "        metric = 'auc',\n",
        "        num_leaves = 7,  # we should let it be smaller than 2^(max_depth)\n",
        "        min_child_samples = 100,  # Minimum number of data need in a child(min_data_in_leaf)\n",
        "        max_bin = 100,  # Number of bucketed bin for feature values\n",
        "        subsample_freq = 1,  # frequence of subsample, <=0 means no enable\n",
        "        colsample_bytree = 0.7,  # Subsample ratio of columns when constructing each tree.\n",
        "        min_child_weight = 0,  # Minimum sum of instance weight(hessian) needed in a child(leaf)\n",
        "        min_split_gain = 0,  # lambda_l1, lambda_l2 and min_gain_to_split to regularization\n",
        "        scale_pos_weight = 99.7 # to fix unbalanced training data\n",
        "        )\n",
        "\n",
        "clfl10.fit(X_train, y_train)\n",
        "\n",
        "prd10 = clfl10.predict(X_test)\n",
        "prdprob10 = clfl10.predict_proba(X_test)\n",
        "print(\"Accuracy: \" , (metrics.accuracy_score(y_test, prd10)))\n",
        "print(\"AUC(train): \" , (metrics.roc_auc_score(y_test, prdprob10[:, 1])))"
      ],
      "execution_count": 0,
      "outputs": [
        {
          "output_type": "stream",
          "text": [
            "Accuracy:  0.979796\n",
            "AUC(train):  0.9194863280317029\n"
          ],
          "name": "stdout"
        }
      ]
    },
    {
      "metadata": {
        "id": "NgieMlMIJPz9",
        "colab_type": "code",
        "outputId": "9a808211-9d8b-414a-90c3-b1d254b5cfc8",
        "colab": {
          "base_uri": "https://localhost:8080/",
          "height": 51
        }
      },
      "cell_type": "code",
      "source": [
        "\n",
        "clfl11 = LGBMClassifier(\n",
        "        boosting_type='gbdt', \n",
        "        max_depth=2, \n",
        "        learning_rate=0.1, \n",
        "        n_estimators=200, \n",
        "        subsample=0.6,\n",
        "        objective = 'binary',\n",
        "        metric = 'auc',\n",
        "        num_leaves = 7,  # we should let it be smaller than 2^(max_depth)\n",
        "        min_child_samples = 100,  # Minimum number of data need in a child(min_data_in_leaf)\n",
        "        max_bin = 100,  # Number of bucketed bin for feature values\n",
        "        subsample_freq = 1,  # frequence of subsample, <=0 means no enable\n",
        "        colsample_bytree = 0.7,  # Subsample ratio of columns when constructing each tree.\n",
        "        min_child_weight = 0,  # Minimum sum of instance weight(hessian) needed in a child(leaf)\n",
        "        min_split_gain = 0  # lambda_l1, lambda_l2 and min_gain_to_split to regularization\n",
        "        #scale_pos_weight = 99.7 # to fix unbalanced training data\n",
        "        )\n",
        "\n",
        "clfl11.fit(X_train, y_train)\n",
        "\n",
        "prd11 = clfl11.predict(X_test)\n",
        "prdprob11 = clfl11.predict_proba(X_test)\n",
        "print(\"Accuracy: \" , (metrics.accuracy_score(y_test, prd11)))\n",
        "print(\"AUC(train): \" , (metrics.roc_auc_score(y_test, prdprob11[:, 1])))"
      ],
      "execution_count": 0,
      "outputs": [
        {
          "output_type": "stream",
          "text": [
            "Accuracy:  0.998614\n",
            "AUC(train):  0.8841100485541918\n"
          ],
          "name": "stdout"
        }
      ]
    },
    {
      "metadata": {
        "id": "5hNYYxW2KNtB",
        "colab_type": "code",
        "outputId": "6b438f0e-def6-4c52-a1a3-17b4a04a1c6a",
        "colab": {
          "base_uri": "https://localhost:8080/",
          "height": 51
        }
      },
      "cell_type": "code",
      "source": [
        "clfl12 = LGBMClassifier(boosting_type='gbdt', \n",
        "                         num_leaves=31, \n",
        "                         max_depth=-1, \n",
        "                         learning_rate=0.1, \n",
        "                         n_estimators=100, \n",
        "                         subsample_for_bin=200000, \n",
        "                         objective='binary', \n",
        "                         class_weight=None, \n",
        "                         min_split_gain=0.0, \n",
        "                         min_child_weight=0.001, \n",
        "                         min_child_samples=20, \n",
        "                         subsample=0.6, \n",
        "                         subsample_freq=0, \n",
        "                         colsample_bytree=0.3, \n",
        "                         reg_alpha=0.0, \n",
        "                         reg_lambda=0.0, \n",
        "                         random_state=None, \n",
        "                         n_jobs=-1, \n",
        "                         silent=True)\n",
        "                        \n",
        "clfl12.fit(X_train, y_train)\n",
        "\n",
        "prd12 = clfl12.predict(X_test)\n",
        "prdprob12 = clfl12.predict_proba(X_test)\n",
        "print(\"Accuracy: \" , (metrics.accuracy_score(y_test, prd12)))\n",
        "print(\"AUC(train): \" , (metrics.roc_auc_score(y_test, prdprob12[:, 1])))"
      ],
      "execution_count": 0,
      "outputs": [
        {
          "output_type": "stream",
          "text": [
            "Accuracy:  0.997606\n",
            "AUC(train):  0.7633151168562685\n"
          ],
          "name": "stdout"
        }
      ]
    },
    {
      "metadata": {
        "id": "UoMmDrUXLhMP",
        "colab_type": "code",
        "outputId": "b6b35136-3661-4646-d8c7-741359656a14",
        "colab": {
          "base_uri": "https://localhost:8080/",
          "height": 51
        }
      },
      "cell_type": "code",
      "source": [
        "clfl13 = LGBMClassifier(boosting_type='gbdt', \n",
        "                         num_leaves=31, \n",
        "                         max_depth=3, \n",
        "                         learning_rate=0.1, \n",
        "                         n_estimators=200, \n",
        "                         objective='binary', \n",
        "                         min_split_gain=0.0, \n",
        "                         subsample=0.7, \n",
        "                         colsample_bytree=0.9, \n",
        "                         n_jobs=4, \n",
        "                         scale_pos_weight = 200)\n",
        "                        \n",
        "clfl13.fit(X_train, y_train)\n",
        "\n",
        "prd13 = clfl13.predict(X_test)\n",
        "prdprob13 = clfl13.predict_proba(X_test)\n",
        "print(\"Accuracy: \" , (metrics.accuracy_score(y_test, prd13)))\n",
        "print(\"AUC(train): \" , (metrics.roc_auc_score(y_test, prdprob13[:, 1])))"
      ],
      "execution_count": 0,
      "outputs": [
        {
          "output_type": "stream",
          "text": [
            "Accuracy:  0.946608\n",
            "AUC(train):  0.8931216618287909\n"
          ],
          "name": "stdout"
        }
      ]
    },
    {
      "metadata": {
        "id": "96sB_KUJM_rM",
        "colab_type": "code",
        "outputId": "e988ce1d-463f-4d89-d180-d87b74016b9f",
        "colab": {
          "base_uri": "https://localhost:8080/",
          "height": 1819
        }
      },
      "cell_type": "code",
      "source": [
        "eval_set = [(X_train, y_train), (X_test, y_test)]\n",
        "\n",
        "clfl13.fit(X_train, y_train, eval_metric='auc', eval_set = eval_set, early_stopping_rounds=100)\n",
        "prd14 = clfl13.predict(X_test)\n",
        "prdprob14 = clfl3.predict_proba(X_test)\n",
        "\n",
        "print(\"Accuracy: \" , (metrics.accuracy_score(y_test, prd14)))\n",
        "print(\"AUC(train): \" , (metrics.roc_auc_score(y_test, prdprob14[:, 1])))"
      ],
      "execution_count": 0,
      "outputs": [
        {
          "output_type": "stream",
          "text": [
            "[1]\ttraining's binary_logloss: 1.12419\ttraining's auc: 0.920254\tvalid_1's binary_logloss: 1.13094\tvalid_1's auc: 0.930547\n",
            "Training until validation scores don't improve for 100 rounds.\n",
            "[2]\ttraining's binary_logloss: 0.721787\ttraining's auc: 0.706785\tvalid_1's binary_logloss: 0.724976\tvalid_1's auc: 0.702469\n",
            "[3]\ttraining's binary_logloss: 0.679687\ttraining's auc: 0.851782\tvalid_1's binary_logloss: 0.68205\tvalid_1's auc: 0.842815\n",
            "[4]\ttraining's binary_logloss: 0.656793\ttraining's auc: 0.862799\tvalid_1's binary_logloss: 0.659187\tvalid_1's auc: 0.852261\n",
            "[5]\ttraining's binary_logloss: 0.606918\ttraining's auc: 0.871938\tvalid_1's binary_logloss: 0.607872\tvalid_1's auc: 0.860268\n",
            "[6]\ttraining's binary_logloss: 1.37433\ttraining's auc: 0.821068\tvalid_1's binary_logloss: 1.38701\tvalid_1's auc: 0.819635\n",
            "[7]\ttraining's binary_logloss: 0.546093\ttraining's auc: 0.857834\tvalid_1's binary_logloss: 0.547652\tvalid_1's auc: 0.840953\n",
            "[8]\ttraining's binary_logloss: 0.549277\ttraining's auc: 0.865015\tvalid_1's binary_logloss: 0.549867\tvalid_1's auc: 0.850432\n",
            "[9]\ttraining's binary_logloss: 0.598686\ttraining's auc: 0.861357\tvalid_1's binary_logloss: 0.599909\tvalid_1's auc: 0.850218\n",
            "[10]\ttraining's binary_logloss: 0.623937\ttraining's auc: 0.876193\tvalid_1's binary_logloss: 0.627231\tvalid_1's auc: 0.87124\n",
            "[11]\ttraining's binary_logloss: 0.615053\ttraining's auc: 0.88074\tvalid_1's binary_logloss: 0.618283\tvalid_1's auc: 0.873588\n",
            "[12]\ttraining's binary_logloss: 0.605458\ttraining's auc: 0.88093\tvalid_1's binary_logloss: 0.608591\tvalid_1's auc: 0.873787\n",
            "[13]\ttraining's binary_logloss: 0.598541\ttraining's auc: 0.881069\tvalid_1's binary_logloss: 0.601055\tvalid_1's auc: 0.873908\n",
            "[14]\ttraining's binary_logloss: 0.591233\ttraining's auc: 0.881081\tvalid_1's binary_logloss: 0.593846\tvalid_1's auc: 0.873915\n",
            "[15]\ttraining's binary_logloss: 0.57722\ttraining's auc: 0.876608\tvalid_1's binary_logloss: 0.579379\tvalid_1's auc: 0.869268\n",
            "[16]\ttraining's binary_logloss: 0.572996\ttraining's auc: 0.88456\tvalid_1's binary_logloss: 0.575408\tvalid_1's auc: 0.878665\n",
            "[17]\ttraining's binary_logloss: 0.571128\ttraining's auc: 0.887085\tvalid_1's binary_logloss: 0.573756\tvalid_1's auc: 0.879745\n",
            "[18]\ttraining's binary_logloss: 0.567155\ttraining's auc: 0.887002\tvalid_1's binary_logloss: 0.570159\tvalid_1's auc: 0.879643\n",
            "[19]\ttraining's binary_logloss: 0.58242\ttraining's auc: 0.891746\tvalid_1's binary_logloss: 0.586159\tvalid_1's auc: 0.884186\n",
            "[20]\ttraining's binary_logloss: 0.573232\ttraining's auc: 0.889703\tvalid_1's binary_logloss: 0.576278\tvalid_1's auc: 0.882455\n",
            "[21]\ttraining's binary_logloss: 0.567262\ttraining's auc: 0.888138\tvalid_1's binary_logloss: 0.570183\tvalid_1's auc: 0.881791\n",
            "[22]\ttraining's binary_logloss: 0.604781\ttraining's auc: 0.888801\tvalid_1's binary_logloss: 0.608835\tvalid_1's auc: 0.882103\n",
            "[23]\ttraining's binary_logloss: 0.561472\ttraining's auc: 0.895439\tvalid_1's binary_logloss: 0.563434\tvalid_1's auc: 0.890735\n",
            "[24]\ttraining's binary_logloss: 0.543\ttraining's auc: 0.893223\tvalid_1's binary_logloss: 0.545202\tvalid_1's auc: 0.888383\n",
            "[25]\ttraining's binary_logloss: 0.540705\ttraining's auc: 0.893526\tvalid_1's binary_logloss: 0.543027\tvalid_1's auc: 0.888716\n",
            "[26]\ttraining's binary_logloss: 0.538087\ttraining's auc: 0.902239\tvalid_1's binary_logloss: 0.540387\tvalid_1's auc: 0.899819\n",
            "[27]\ttraining's binary_logloss: 0.515073\ttraining's auc: 0.852546\tvalid_1's binary_logloss: 0.517392\tvalid_1's auc: 0.840358\n",
            "[28]\ttraining's binary_logloss: 0.51092\ttraining's auc: 0.853552\tvalid_1's binary_logloss: 0.513081\tvalid_1's auc: 0.842877\n",
            "[29]\ttraining's binary_logloss: 0.538125\ttraining's auc: 0.855314\tvalid_1's binary_logloss: 0.54106\tvalid_1's auc: 0.845895\n",
            "[30]\ttraining's binary_logloss: 0.534531\ttraining's auc: 0.85538\tvalid_1's binary_logloss: 0.538149\tvalid_1's auc: 0.845943\n",
            "[31]\ttraining's binary_logloss: 0.537794\ttraining's auc: 0.859882\tvalid_1's binary_logloss: 0.540899\tvalid_1's auc: 0.850666\n",
            "[32]\ttraining's binary_logloss: 0.547275\ttraining's auc: 0.859834\tvalid_1's binary_logloss: 0.552117\tvalid_1's auc: 0.849769\n",
            "[33]\ttraining's binary_logloss: 0.74288\ttraining's auc: 0.837269\tvalid_1's binary_logloss: 0.744456\tvalid_1's auc: 0.827037\n",
            "[34]\ttraining's binary_logloss: 0.569895\ttraining's auc: 0.841057\tvalid_1's binary_logloss: 0.576926\tvalid_1's auc: 0.830636\n",
            "[35]\ttraining's binary_logloss: 0.5631\ttraining's auc: 0.84119\tvalid_1's binary_logloss: 0.569921\tvalid_1's auc: 0.830775\n",
            "[36]\ttraining's binary_logloss: 0.577407\ttraining's auc: 0.838918\tvalid_1's binary_logloss: 0.583185\tvalid_1's auc: 0.827196\n",
            "[37]\ttraining's binary_logloss: 0.564557\ttraining's auc: 0.837305\tvalid_1's binary_logloss: 0.569919\tvalid_1's auc: 0.825118\n",
            "[38]\ttraining's binary_logloss: 0.56675\ttraining's auc: 0.84545\tvalid_1's binary_logloss: 0.571356\tvalid_1's auc: 0.83436\n",
            "[39]\ttraining's binary_logloss: 0.57968\ttraining's auc: 0.845277\tvalid_1's binary_logloss: 0.584674\tvalid_1's auc: 0.834194\n",
            "[40]\ttraining's binary_logloss: 0.561055\ttraining's auc: 0.855599\tvalid_1's binary_logloss: 0.566308\tvalid_1's auc: 0.846451\n",
            "[41]\ttraining's binary_logloss: 1.09411\ttraining's auc: 0.850163\tvalid_1's binary_logloss: 1.09723\tvalid_1's auc: 0.839519\n",
            "[42]\ttraining's binary_logloss: 0.571887\ttraining's auc: 0.852883\tvalid_1's binary_logloss: 0.576166\tvalid_1's auc: 0.840317\n",
            "[43]\ttraining's binary_logloss: 0.54321\ttraining's auc: 0.854724\tvalid_1's binary_logloss: 0.54744\tvalid_1's auc: 0.840834\n",
            "[44]\ttraining's binary_logloss: 0.548438\ttraining's auc: 0.854694\tvalid_1's binary_logloss: 0.552523\tvalid_1's auc: 0.840815\n",
            "[45]\ttraining's binary_logloss: 0.572685\ttraining's auc: 0.855591\tvalid_1's binary_logloss: 0.576265\tvalid_1's auc: 0.840612\n",
            "[46]\ttraining's binary_logloss: 0.57021\ttraining's auc: 0.855659\tvalid_1's binary_logloss: 0.57478\tvalid_1's auc: 0.842958\n",
            "[47]\ttraining's binary_logloss: 0.57619\ttraining's auc: 0.861338\tvalid_1's binary_logloss: 0.580045\tvalid_1's auc: 0.849019\n",
            "[48]\ttraining's binary_logloss: 0.634329\ttraining's auc: 0.86167\tvalid_1's binary_logloss: 0.638551\tvalid_1's auc: 0.848229\n",
            "[49]\ttraining's binary_logloss: 0.847314\ttraining's auc: 0.899481\tvalid_1's binary_logloss: 0.854639\tvalid_1's auc: 0.898741\n",
            "[50]\ttraining's binary_logloss: 0.791704\ttraining's auc: 0.88959\tvalid_1's binary_logloss: 0.79796\tvalid_1's auc: 0.890189\n",
            "[51]\ttraining's binary_logloss: 0.791198\ttraining's auc: 0.89519\tvalid_1's binary_logloss: 0.79772\tvalid_1's auc: 0.894407\n",
            "[52]\ttraining's binary_logloss: 0.517712\ttraining's auc: 0.854012\tvalid_1's binary_logloss: 0.522857\tvalid_1's auc: 0.85266\n",
            "[53]\ttraining's binary_logloss: 0.524418\ttraining's auc: 0.854767\tvalid_1's binary_logloss: 0.529777\tvalid_1's auc: 0.852678\n",
            "[54]\ttraining's binary_logloss: 0.53649\ttraining's auc: 0.854142\tvalid_1's binary_logloss: 0.542343\tvalid_1's auc: 0.852489\n",
            "[55]\ttraining's binary_logloss: 0.587335\ttraining's auc: 0.854733\tvalid_1's binary_logloss: 0.593187\tvalid_1's auc: 0.855794\n",
            "[56]\ttraining's binary_logloss: 0.586448\ttraining's auc: 0.854165\tvalid_1's binary_logloss: 0.592954\tvalid_1's auc: 0.855395\n",
            "[57]\ttraining's binary_logloss: 0.593688\ttraining's auc: 0.854941\tvalid_1's binary_logloss: 0.600674\tvalid_1's auc: 0.85565\n",
            "[58]\ttraining's binary_logloss: 0.59676\ttraining's auc: 0.855365\tvalid_1's binary_logloss: 0.603498\tvalid_1's auc: 0.858426\n",
            "[59]\ttraining's binary_logloss: 0.599584\ttraining's auc: 0.854155\tvalid_1's binary_logloss: 0.607429\tvalid_1's auc: 0.857462\n",
            "[60]\ttraining's binary_logloss: 0.739187\ttraining's auc: 0.909119\tvalid_1's binary_logloss: 0.749934\tvalid_1's auc: 0.914652\n",
            "[61]\ttraining's binary_logloss: 0.735016\ttraining's auc: 0.906946\tvalid_1's binary_logloss: 0.745324\tvalid_1's auc: 0.911106\n",
            "[62]\ttraining's binary_logloss: 0.666529\ttraining's auc: 0.887383\tvalid_1's binary_logloss: 0.677431\tvalid_1's auc: 0.886326\n",
            "[63]\ttraining's binary_logloss: 0.666832\ttraining's auc: 0.886896\tvalid_1's binary_logloss: 0.677864\tvalid_1's auc: 0.885888\n",
            "[64]\ttraining's binary_logloss: 0.667856\ttraining's auc: 0.886764\tvalid_1's binary_logloss: 0.679005\tvalid_1's auc: 0.885959\n",
            "[65]\ttraining's binary_logloss: 0.668705\ttraining's auc: 0.886133\tvalid_1's binary_logloss: 0.679872\tvalid_1's auc: 0.885831\n",
            "[66]\ttraining's binary_logloss: 0.669655\ttraining's auc: 0.886226\tvalid_1's binary_logloss: 0.68083\tvalid_1's auc: 0.885984\n",
            "[67]\ttraining's binary_logloss: 0.66963\ttraining's auc: 0.884684\tvalid_1's binary_logloss: 0.680707\tvalid_1's auc: 0.883493\n",
            "[68]\ttraining's binary_logloss: 0.669704\ttraining's auc: 0.88606\tvalid_1's binary_logloss: 0.680787\tvalid_1's auc: 0.884639\n",
            "[69]\ttraining's binary_logloss: 0.669636\ttraining's auc: 0.885138\tvalid_1's binary_logloss: 0.680813\tvalid_1's auc: 0.884421\n",
            "[70]\ttraining's binary_logloss: 0.669676\ttraining's auc: 0.884934\tvalid_1's binary_logloss: 0.68092\tvalid_1's auc: 0.884149\n",
            "[71]\ttraining's binary_logloss: 0.667629\ttraining's auc: 0.884648\tvalid_1's binary_logloss: 0.678663\tvalid_1's auc: 0.883754\n",
            "[72]\ttraining's binary_logloss: 0.668071\ttraining's auc: 0.884033\tvalid_1's binary_logloss: 0.679021\tvalid_1's auc: 0.883399\n",
            "[73]\ttraining's binary_logloss: 0.668042\ttraining's auc: 0.884088\tvalid_1's binary_logloss: 0.679034\tvalid_1's auc: 0.883424\n",
            "[74]\ttraining's binary_logloss: 0.668378\ttraining's auc: 0.884098\tvalid_1's binary_logloss: 0.679386\tvalid_1's auc: 0.883429\n",
            "[75]\ttraining's binary_logloss: 0.668671\ttraining's auc: 0.884075\tvalid_1's binary_logloss: 0.679717\tvalid_1's auc: 0.88339\n",
            "[76]\ttraining's binary_logloss: 0.669117\ttraining's auc: 0.883667\tvalid_1's binary_logloss: 0.680148\tvalid_1's auc: 0.883348\n",
            "[77]\ttraining's binary_logloss: 0.670051\ttraining's auc: 0.883582\tvalid_1's binary_logloss: 0.681103\tvalid_1's auc: 0.883243\n",
            "[78]\ttraining's binary_logloss: 0.670544\ttraining's auc: 0.8834\tvalid_1's binary_logloss: 0.681521\tvalid_1's auc: 0.883159\n",
            "[79]\ttraining's binary_logloss: 0.6702\ttraining's auc: 0.883501\tvalid_1's binary_logloss: 0.681172\tvalid_1's auc: 0.883263\n",
            "[80]\ttraining's binary_logloss: 0.67573\ttraining's auc: 0.897911\tvalid_1's binary_logloss: 0.687366\tvalid_1's auc: 0.89573\n",
            "[81]\ttraining's binary_logloss: 0.675597\ttraining's auc: 0.898435\tvalid_1's binary_logloss: 0.687286\tvalid_1's auc: 0.89608\n",
            "[82]\ttraining's binary_logloss: 0.675165\ttraining's auc: 0.898342\tvalid_1's binary_logloss: 0.686864\tvalid_1's auc: 0.896081\n",
            "[83]\ttraining's binary_logloss: 0.674621\ttraining's auc: 0.898364\tvalid_1's binary_logloss: 0.686358\tvalid_1's auc: 0.89615\n",
            "[84]\ttraining's binary_logloss: 0.673767\ttraining's auc: 0.898692\tvalid_1's binary_logloss: 0.685357\tvalid_1's auc: 0.896098\n",
            "[85]\ttraining's binary_logloss: 0.672986\ttraining's auc: 0.898782\tvalid_1's binary_logloss: 0.684631\tvalid_1's auc: 0.895208\n",
            "[86]\ttraining's binary_logloss: 0.670456\ttraining's auc: 0.898572\tvalid_1's binary_logloss: 0.682562\tvalid_1's auc: 0.894895\n",
            "[87]\ttraining's binary_logloss: 0.661044\ttraining's auc: 0.898876\tvalid_1's binary_logloss: 0.673261\tvalid_1's auc: 0.894969\n",
            "[88]\ttraining's binary_logloss: 0.660686\ttraining's auc: 0.898697\tvalid_1's binary_logloss: 0.672526\tvalid_1's auc: 0.894887\n",
            "[89]\ttraining's binary_logloss: 0.66046\ttraining's auc: 0.89901\tvalid_1's binary_logloss: 0.672254\tvalid_1's auc: 0.895028\n",
            "[90]\ttraining's binary_logloss: 0.660044\ttraining's auc: 0.898987\tvalid_1's binary_logloss: 0.671989\tvalid_1's auc: 0.894977\n",
            "[91]\ttraining's binary_logloss: 0.65996\ttraining's auc: 0.89929\tvalid_1's binary_logloss: 0.671928\tvalid_1's auc: 0.895045\n",
            "[92]\ttraining's binary_logloss: 0.659649\ttraining's auc: 0.899808\tvalid_1's binary_logloss: 0.671667\tvalid_1's auc: 0.895121\n",
            "[93]\ttraining's binary_logloss: 0.655505\ttraining's auc: 0.89986\tvalid_1's binary_logloss: 0.66722\tvalid_1's auc: 0.895146\n",
            "[94]\ttraining's binary_logloss: 0.655254\ttraining's auc: 0.900393\tvalid_1's binary_logloss: 0.666945\tvalid_1's auc: 0.895531\n",
            "[95]\ttraining's binary_logloss: 0.655161\ttraining's auc: 0.900824\tvalid_1's binary_logloss: 0.666902\tvalid_1's auc: 0.895898\n",
            "[96]\ttraining's binary_logloss: 0.654077\ttraining's auc: 0.901025\tvalid_1's binary_logloss: 0.665801\tvalid_1's auc: 0.89577\n",
            "[97]\ttraining's binary_logloss: 0.654098\ttraining's auc: 0.901092\tvalid_1's binary_logloss: 0.665819\tvalid_1's auc: 0.895839\n",
            "[98]\ttraining's binary_logloss: 0.652898\ttraining's auc: 0.90108\tvalid_1's binary_logloss: 0.664748\tvalid_1's auc: 0.895822\n",
            "[99]\ttraining's binary_logloss: 0.614451\ttraining's auc: 0.901616\tvalid_1's binary_logloss: 0.62683\tvalid_1's auc: 0.896165\n",
            "[100]\ttraining's binary_logloss: 0.611772\ttraining's auc: 0.901596\tvalid_1's binary_logloss: 0.624415\tvalid_1's auc: 0.895966\n",
            "[101]\ttraining's binary_logloss: 0.605925\ttraining's auc: 0.902263\tvalid_1's binary_logloss: 0.618688\tvalid_1's auc: 0.896018\n",
            "Early stopping, best iteration is:\n",
            "[1]\ttraining's binary_logloss: 1.12419\ttraining's auc: 0.920254\tvalid_1's binary_logloss: 1.13094\tvalid_1's auc: 0.930547\n",
            "Accuracy:  0.468986\n",
            "AUC(train):  0.875657294386197\n"
          ],
          "name": "stdout"
        }
      ]
    },
    {
      "metadata": {
        "id": "0cMsA799AMk9",
        "colab_type": "text"
      },
      "cell_type": "markdown",
      "source": [
        "###3.2.2"
      ]
    },
    {
      "metadata": {
        "id": "aWxSYw83P1RM",
        "colab_type": "code",
        "colab": {}
      },
      "cell_type": "code",
      "source": [
        "lf = [\n",
        "'app',                           \n",
        "'app_nunique_channel',          \n",
        "'ip_app_nunique_os',         \n",
        "'ip_app_count_channel',        \n",
        "'ip_device_os_nunique_app',     \n",
        "'channel',                      \n",
        "'ip_nunique_app',                \n",
        "'ip_nunique_channel',\n",
        "'ip_day_hour_count_channel',\n",
        "'future_identical_clicks',\n",
        "'ip_nunique_device',\n",
        "'os',\n",
        "'ip_app_channel_var_day',\n",
        "'ip_app_os_count_channel',\n",
        "'device',\n",
        "'prev_identical_clicks',\n",
        "'ip_app_device_count_channel',\n",
        "'ip']"
      ],
      "execution_count": 0,
      "outputs": []
    },
    {
      "metadata": {
        "id": "e937SA2sQ11Q",
        "colab_type": "code",
        "outputId": "972a03f8-87ef-481d-fca3-4c1c80fed0b6",
        "colab": {
          "base_uri": "https://localhost:8080/",
          "height": 34
        }
      },
      "cell_type": "code",
      "source": [
        "X_train, X_test, y_train, y_test = train_test_split(train[lf], train[target], test_size=0.25, random_state=42)\n",
        "print(X_train.shape, X_test.shape, y_train.shape, y_test.shape)"
      ],
      "execution_count": 0,
      "outputs": [
        {
          "output_type": "stream",
          "text": [
            "(1500000, 18) (500000, 18) (1500000,) (500000,)\n"
          ],
          "name": "stdout"
        }
      ]
    },
    {
      "metadata": {
        "id": "QCYGTnNVRGmG",
        "colab_type": "code",
        "outputId": "f72fc09d-4024-4cab-c040-752650236e48",
        "colab": {
          "base_uri": "https://localhost:8080/",
          "height": 51
        }
      },
      "cell_type": "code",
      "source": [
        "\n",
        "lm = LGBMClassifier(\n",
        "        boosting_type='gbdt', \n",
        "        max_depth=2, \n",
        "        learning_rate=0.1, \n",
        "        n_estimators=200, \n",
        "        subsample=0.6,\n",
        "        objective = 'binary',\n",
        "        metric = 'auc'\n",
        "        )\n",
        "\n",
        "lm.fit(X_train, y_train)\n",
        "\n",
        "prdlm = lm.predict(X_test)\n",
        "prdproblm = lm.predict_proba(X_test)\n",
        "print(\"Accuracy: \" , (metrics.accuracy_score(y_test, prdlm)))\n",
        "print(\"AUC(train): \" , (metrics.roc_auc_score(y_test, prdproblm[:, 1])))"
      ],
      "execution_count": 0,
      "outputs": [
        {
          "output_type": "stream",
          "text": [
            "Accuracy:  0.998692\n",
            "AUC(train):  0.9569095293801467\n"
          ],
          "name": "stdout"
        }
      ]
    },
    {
      "metadata": {
        "id": "sZGK7C05Rp_2",
        "colab_type": "code",
        "outputId": "73070d57-bca0-4118-e6ff-20f9a9a7a209",
        "colab": {
          "base_uri": "https://localhost:8080/",
          "height": 51
        }
      },
      "cell_type": "code",
      "source": [
        "lm1= LGBMClassifier(boosting_type='gbdt', \n",
        "                         num_leaves=31, \n",
        "                         max_depth=3, \n",
        "                         learning_rate=0.1, \n",
        "                         n_estimators=200, \n",
        "                         objective='binary', \n",
        "                         min_split_gain=0.0, \n",
        "                         subsample=0.7, \n",
        "                         colsample_bytree=0.9, \n",
        "                         n_jobs=4, \n",
        "                         scale_pos_weight = 200)\n",
        "                        \n",
        "lm1.fit(X_train, y_train)\n",
        "\n",
        "prdlm1 = lm1.predict(X_test)\n",
        "prdproblm1 = lm1.predict_proba(X_test)\n",
        "print(\"Accuracy: \" , (metrics.accuracy_score(y_test, prdlm1)))\n",
        "print(\"AUC(train): \" , (metrics.roc_auc_score(y_test, prdproblm1[:, 1])))"
      ],
      "execution_count": 0,
      "outputs": [
        {
          "output_type": "stream",
          "text": [
            "Accuracy:  0.936006\n",
            "AUC(train):  0.7958818706043094\n"
          ],
          "name": "stdout"
        }
      ]
    },
    {
      "metadata": {
        "id": "_rzHEPVKDR7e",
        "colab_type": "text"
      },
      "cell_type": "markdown",
      "source": [
        "##Predictions on Test Data"
      ]
    },
    {
      "metadata": {
        "id": "uQyJsWTRDUld",
        "colab_type": "code",
        "colab": {}
      },
      "cell_type": "code",
      "source": [
        "def datetimefeatures(df):\n",
        "  df['click_time'] = pd.to_datetime(df['click_time'])\n",
        "  df['hour'] = df['click_time'].dt.hour.astype('uint16')\n",
        "  df['minute'] = df['click_time'].dt.minute.astype('uint16')\n",
        "  df['second'] = df['click_time'].dt.second.astype('uint16')\n",
        "  df['day'] = df['click_time'].dt.day.astype('uint16')\n",
        "  df['weekday'] = df['click_time'].dt.weekday.astype('uint16')\n",
        "  df['dayofyear'] = df['click_time'].dt.dayofyear.astype('uint16')\n",
        "  df['month'] = df['click_time'].dt.month.astype('uint16')\n",
        "  return df\n",
        "\n",
        "\n",
        "test = datetimefeatures(test)\n"
      ],
      "execution_count": 0,
      "outputs": []
    },
    {
      "metadata": {
        "id": "8NtmtWo2FcIb",
        "colab_type": "code",
        "colab": {}
      },
      "cell_type": "code",
      "source": [
        "test.drop(['click_time'], axis =1, inplace=True)"
      ],
      "execution_count": 0,
      "outputs": []
    },
    {
      "metadata": {
        "id": "qRtELrJX_OS-",
        "colab_type": "code",
        "outputId": "a5862298-0212-4120-83d0-542fb9e42b3e",
        "colab": {
          "base_uri": "https://localhost:8080/",
          "height": 34
        }
      },
      "cell_type": "code",
      "source": [
        "def clickhistory(df):\n",
        "  click_history ={\n",
        "\n",
        "      'identical_clicks': ['ip', 'app', 'device', 'os', 'channel'],\n",
        "      'app_clicks': ['ip', 'app']\n",
        "  }\n",
        "\n",
        "  for c, s in click_history.items():\n",
        "     # Clicks in the past\n",
        "      df['prev_'+c] = df. \\\n",
        "          groupby(s). \\\n",
        "          cumcount(). \\\n",
        "          rename('prev_'+c)\n",
        "\n",
        "      # Clicks in the future\n",
        "      df['future_'+c] = df.iloc[::-1]. \\\n",
        "          groupby(s). \\\n",
        "          cumcount(). \\\n",
        "          rename('future_'+c).iloc[::-1]\n",
        "      return df\n",
        "    \n",
        "#train = clickhistory(train)\n",
        "test = clickhistory(test)\n",
        "\n",
        "print(test.shape)"
      ],
      "execution_count": 0,
      "outputs": [
        {
          "output_type": "stream",
          "text": [
            "(18790469, 15)\n"
          ],
          "name": "stdout"
        }
      ]
    },
    {
      "metadata": {
        "id": "5V53wpVlAa7H",
        "colab_type": "code",
        "outputId": "c9e18a28-4827-4041-ef46-e681450969eb",
        "colab": {
          "base_uri": "https://localhost:8080/",
          "height": 268
        }
      },
      "cell_type": "code",
      "source": [
        "group = [\n",
        "    # Count Features\n",
        "    ############################################################\n",
        "    \n",
        "    # Count, for ip-app\n",
        "    {'groupby': ['ip', 'app'], 'select': 'channel', 'agg': 'count', 'type': 'uint16'},\n",
        "    # Count, for ip-app-os\n",
        "    {'groupby': ['ip', 'app', 'os'], 'select': 'channel', 'agg': 'count', 'type': 'uint16'},\n",
        "     # Count, for ip-app-device\n",
        "    {'groupby': ['ip', 'app', 'device'], 'select': 'channel', 'agg': 'count', 'type': 'uint16'},\n",
        "    # Count, for ip-day-hour\n",
        "    {'groupby': ['ip','day','hour'], 'select': 'channel', 'agg': 'count','type': 'uint16'},\n",
        "    # Count, for ip-app-day-hour\n",
        "    {'groupby': ['ip','app','day','hour'], 'select': 'channel', 'agg': 'count', 'type': 'uint16'},\n",
        "    # Count, for ip-app-device-day-hour\n",
        "    {'groupby': ['ip','app', 'device', 'day','hour'], 'select': 'channel', 'agg': 'count', 'type': 'uint16'},\n",
        "    # Popularity of app / channel \n",
        "    {'groupby': ['app'], 'select': 'channel', 'agg': 'count', 'type': 'uint16'},\n",
        "    {'groupby': ['channel'], 'select': 'app', 'agg': 'count', 'type': 'uint16'},\n",
        "    ############################################################\n",
        "    \n",
        "    # Variance Features\n",
        "    ############################################################\n",
        "    # Variance in day, for ip-app-channel\n",
        "    {'groupby': ['ip','app','channel'], 'select': 'day', 'agg': 'var', 'type': 'float32'},\n",
        "    # Variance in day, for ip-app-device\n",
        "    {'groupby': ['ip','app','device'], 'select': 'day', 'agg': 'var', 'type': 'float32'},\n",
        "    # Variance in day, for ip-app-os\n",
        "    {'groupby': ['ip','app','os'], 'select': 'day', 'agg': 'var', 'type': 'float32'},\n",
        "    ############################################################\n",
        "    \n",
        "    # Mean Features\n",
        "    ############################################################\n",
        "    # Mean hour, for ip-app-channel\n",
        "    {'groupby': ['ip','app','channel'], 'select': 'hour', 'agg': 'mean', 'type': 'uint16'}, \n",
        "    ############################################################\n",
        "    \n",
        "    # Nunique Features\n",
        "    ############################################################\n",
        "    {'groupby': ['ip'], 'select': 'channel', 'agg': 'nunique', 'type': 'uint16'}, \n",
        "    {'groupby': ['ip'], 'select': 'app', 'agg': 'nunique', 'type': 'uint16'}, \n",
        "    {'groupby': ['ip','day'], 'select': 'hour', 'agg': 'nunique', 'type': 'uint16'}, \n",
        "    {'groupby': ['ip','app'], 'select': 'os', 'agg': 'nunique', 'type': 'uint16'}, \n",
        "    {'groupby': ['ip'], 'select': 'device', 'agg': 'nunique', 'type': 'uint16'}, \n",
        "    {'groupby': ['app'], 'select': 'channel', 'agg': 'nunique', 'type': 'uint16'}, \n",
        "    {'groupby': ['ip', 'device', 'os'], 'select': 'app', 'agg': 'nunique', 'type': 'uint16'}, \n",
        "    ############################################################\n",
        "    \n",
        "    # Cumcount Features\n",
        "    ############################################################\n",
        "    #'groupby': ['ip'], 'select': 'os', 'agg': 'cumcount', 'type': 'uint32'}, \n",
        "    #{'groupby': ['ip','device','os'], 'select': 'app', 'agg': 'cumcount', 'type': 'uint32'}\n",
        "    ############################################################\n",
        "    \n",
        "]\n",
        "\n",
        "# Apply all the groupby transformations\n",
        "for spec in group:\n",
        "    print(f\"Grouping by {spec['groupby']}, and aggregating {spec['select']} with {spec['agg']}\")\n",
        "    \n",
        "    # Unique list of features to select\n",
        "    all_features = list(set(spec['groupby'] + [spec['select']]))\n",
        "    # Name of new feature\n",
        "    new_feature = '{}_{}_{}'.format('_'.join(spec['groupby']), spec['agg'], spec['select'])\n",
        "    # Perform the groupby\n",
        "    gp = train[all_features]. \\\n",
        "        groupby(spec['groupby'])[spec['select']]. \\\n",
        "        agg(spec['agg']). \\\n",
        "        reset_index(). \\\n",
        "        rename(index=str, columns={spec['select']: new_feature}).astype(spec['type'])\n",
        "     # Merge back to X_train\n",
        "    test = test.merge(gp, on=spec['groupby'], how='left')\n",
        "    #test_df = test_df.mearge(gp, on=spec['groupby'], how='left')\n",
        "\n",
        "\n",
        "print(\"End\")"
      ],
      "execution_count": 0,
      "outputs": [
        {
          "output_type": "stream",
          "text": [
            "Grouping by ['ip', 'app'], and aggregating channel with count\n"
          ],
          "name": "stdout"
        },
        {
          "output_type": "error",
          "ename": "NameError",
          "evalue": "ignored",
          "traceback": [
            "\u001b[0;31m---------------------------------------------------------------------------\u001b[0m",
            "\u001b[0;31mNameError\u001b[0m                                 Traceback (most recent call last)",
            "\u001b[0;32m<ipython-input-1-5cea936ba106>\u001b[0m in \u001b[0;36m<module>\u001b[0;34m()\u001b[0m\n\u001b[1;32m     64\u001b[0m     \u001b[0mnew_feature\u001b[0m \u001b[0;34m=\u001b[0m \u001b[0;34m'{}_{}_{}'\u001b[0m\u001b[0;34m.\u001b[0m\u001b[0mformat\u001b[0m\u001b[0;34m(\u001b[0m\u001b[0;34m'_'\u001b[0m\u001b[0;34m.\u001b[0m\u001b[0mjoin\u001b[0m\u001b[0;34m(\u001b[0m\u001b[0mspec\u001b[0m\u001b[0;34m[\u001b[0m\u001b[0;34m'groupby'\u001b[0m\u001b[0;34m]\u001b[0m\u001b[0;34m)\u001b[0m\u001b[0;34m,\u001b[0m \u001b[0mspec\u001b[0m\u001b[0;34m[\u001b[0m\u001b[0;34m'agg'\u001b[0m\u001b[0;34m]\u001b[0m\u001b[0;34m,\u001b[0m \u001b[0mspec\u001b[0m\u001b[0;34m[\u001b[0m\u001b[0;34m'select'\u001b[0m\u001b[0;34m]\u001b[0m\u001b[0;34m)\u001b[0m\u001b[0;34m\u001b[0m\u001b[0;34m\u001b[0m\u001b[0m\n\u001b[1;32m     65\u001b[0m     \u001b[0;31m# Perform the groupby\u001b[0m\u001b[0;34m\u001b[0m\u001b[0;34m\u001b[0m\u001b[0;34m\u001b[0m\u001b[0m\n\u001b[0;32m---> 66\u001b[0;31m     \u001b[0mgp\u001b[0m \u001b[0;34m=\u001b[0m \u001b[0mtrain\u001b[0m\u001b[0;34m[\u001b[0m\u001b[0mall_features\u001b[0m\u001b[0;34m]\u001b[0m\u001b[0;34m.\u001b[0m         \u001b[0mgroupby\u001b[0m\u001b[0;34m(\u001b[0m\u001b[0mspec\u001b[0m\u001b[0;34m[\u001b[0m\u001b[0;34m'groupby'\u001b[0m\u001b[0;34m]\u001b[0m\u001b[0;34m)\u001b[0m\u001b[0;34m[\u001b[0m\u001b[0mspec\u001b[0m\u001b[0;34m[\u001b[0m\u001b[0;34m'select'\u001b[0m\u001b[0;34m]\u001b[0m\u001b[0;34m]\u001b[0m\u001b[0;34m.\u001b[0m         \u001b[0magg\u001b[0m\u001b[0;34m(\u001b[0m\u001b[0mspec\u001b[0m\u001b[0;34m[\u001b[0m\u001b[0;34m'agg'\u001b[0m\u001b[0;34m]\u001b[0m\u001b[0;34m)\u001b[0m\u001b[0;34m.\u001b[0m         \u001b[0mreset_index\u001b[0m\u001b[0;34m(\u001b[0m\u001b[0;34m)\u001b[0m\u001b[0;34m.\u001b[0m         \u001b[0mrename\u001b[0m\u001b[0;34m(\u001b[0m\u001b[0mindex\u001b[0m\u001b[0;34m=\u001b[0m\u001b[0mstr\u001b[0m\u001b[0;34m,\u001b[0m \u001b[0mcolumns\u001b[0m\u001b[0;34m=\u001b[0m\u001b[0;34m{\u001b[0m\u001b[0mspec\u001b[0m\u001b[0;34m[\u001b[0m\u001b[0;34m'select'\u001b[0m\u001b[0;34m]\u001b[0m\u001b[0;34m:\u001b[0m \u001b[0mnew_feature\u001b[0m\u001b[0;34m}\u001b[0m\u001b[0;34m)\u001b[0m\u001b[0;34m.\u001b[0m\u001b[0mastype\u001b[0m\u001b[0;34m(\u001b[0m\u001b[0mspec\u001b[0m\u001b[0;34m[\u001b[0m\u001b[0;34m'type'\u001b[0m\u001b[0;34m]\u001b[0m\u001b[0;34m)\u001b[0m\u001b[0;34m\u001b[0m\u001b[0;34m\u001b[0m\u001b[0m\n\u001b[0m\u001b[1;32m     67\u001b[0m      \u001b[0;31m# Merge back to X_train\u001b[0m\u001b[0;34m\u001b[0m\u001b[0;34m\u001b[0m\u001b[0;34m\u001b[0m\u001b[0m\n\u001b[1;32m     68\u001b[0m     \u001b[0mtest\u001b[0m \u001b[0;34m=\u001b[0m \u001b[0mtest\u001b[0m\u001b[0;34m.\u001b[0m\u001b[0mmerge\u001b[0m\u001b[0;34m(\u001b[0m\u001b[0mgp\u001b[0m\u001b[0;34m,\u001b[0m \u001b[0mon\u001b[0m\u001b[0;34m=\u001b[0m\u001b[0mspec\u001b[0m\u001b[0;34m[\u001b[0m\u001b[0;34m'groupby'\u001b[0m\u001b[0;34m]\u001b[0m\u001b[0;34m,\u001b[0m \u001b[0mhow\u001b[0m\u001b[0;34m=\u001b[0m\u001b[0;34m'left'\u001b[0m\u001b[0;34m)\u001b[0m\u001b[0;34m\u001b[0m\u001b[0;34m\u001b[0m\u001b[0m\n",
            "\u001b[0;31mNameError\u001b[0m: name 'train' is not defined"
          ]
        }
      ]
    },
    {
      "metadata": {
        "id": "yU6-nXCXELHp",
        "colab_type": "code",
        "colab": {}
      },
      "cell_type": "code",
      "source": [
        ""
      ],
      "execution_count": 0,
      "outputs": []
    }
  ]
}